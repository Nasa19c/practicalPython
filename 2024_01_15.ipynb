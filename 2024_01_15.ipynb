{
 "cells": [
  {
   "cell_type": "code",
   "execution_count": 10,
   "id": "cf96426e",
   "metadata": {},
   "outputs": [],
   "source": [
    "# 316 remove duplicate letters"
   ]
  },
  {
   "cell_type": "code",
   "execution_count": 15,
   "id": "6a589e21",
   "metadata": {},
   "outputs": [],
   "source": [
    "def removeDuplicateLetters(s):\n",
    "    for char in sorted(set(s)):\n",
    "        suffix = s[s.index(char):]\n",
    "        if set(s) == set(suffix):\n",
    "            return char + removeDuplicateLetters(suffix.replace(char, ''))\n",
    "    return ''"
   ]
  },
  {
   "cell_type": "code",
   "execution_count": 16,
   "id": "c1cec89f",
   "metadata": {},
   "outputs": [
    {
     "data": {
      "text/plain": [
       "'acdb'"
      ]
     },
     "execution_count": 16,
     "metadata": {},
     "output_type": "execute_result"
    }
   ],
   "source": [
    "s = 'cbacdcbc'\n",
    "removeDuplicateLetters(s)"
   ]
  },
  {
   "cell_type": "code",
   "execution_count": null,
   "id": "14e9e926",
   "metadata": {},
   "outputs": [],
   "source": [
    "# 위의 s를 예로 들어서 설명을 해보면 우선 sorted(set(s))는 {a,b,c,d}이 순서로 나오게 된다.\n",
    "# 그리고 첫번째 char는 adlrh suffix = 'acdcbc'가 됨.\n",
    "# if 문이 성립하므로 char(=a) + recursive case로 넘어간다.\n",
    "# 그다음 s = suffix.replace(char, '')이므로 s = 'cdcbc'이다. b의 이후로 자르게 되면 suffix가 if문을 만족하지 않기 때문에\n",
    "# b는 replace하지 않고 넘어간다. 그다음 c는 if문을 만족하게 되고 replace가 되면서 모든 c가 ''로 변환된다.\n",
    "# 그래서 결론적으로 'acdb'가 출력된다.\n",
    "# 'acdb' = {a + c + d + suffix.replace('d','') + ''}"
   ]
  },
  {
   "cell_type": "code",
   "execution_count": null,
   "id": "ef7387d3",
   "metadata": {},
   "outputs": [],
   "source": []
  },
  {
   "cell_type": "code",
   "execution_count": null,
   "id": "461358a9",
   "metadata": {},
   "outputs": [],
   "source": [
    "# 스택을 이용해서 풀어보면\n",
    "import collections\n",
    "\n",
    "def removeDuplicateLetters(s):\n",
    "    counter, seen, stack = collections.Counter(s),set(),[]\n",
    "    \n",
    "    for char in s:\n",
    "        counter[char] -= 1\n",
    "        if char in seen:\n",
    "            continue\n",
    "        \n",
    "        while stack and char < stack[-1] and counter[stack[-1]] >0:\n",
    "            seen.remove(stack.pop())\n",
    "        stack.append(char)\n",
    "        seen.add(char)\n",
    "    \n",
    "    return ''.join(stack)"
   ]
  },
  {
   "cell_type": "code",
   "execution_count": 18,
   "id": "12b01e13",
   "metadata": {},
   "outputs": [
    {
     "data": {
      "text/plain": [
       "Counter({'c': 4, 'b': 2, 'a': 1, 'd': 1})"
      ]
     },
     "execution_count": 18,
     "metadata": {},
     "output_type": "execute_result"
    }
   ],
   "source": [
    "counter = collections.Counter(s)\n",
    "counter"
   ]
  },
  {
   "cell_type": "code",
   "execution_count": null,
   "id": "8051f449",
   "metadata": {},
   "outputs": [],
   "source": [
    "# while문에서의 조건이 and로 계속 묶여있어서 되게 어렵게 보이고 어렵다..\n",
    "# stack이 존재하지 않으면 pop할수가 없기 때문에 stack이 있어야 하고, char < stack[-1]은 stack의 제일\n",
    "# 마지막 알파벳이 들어오는 알파벳보다 사전식에서 나중순서로 배치되는 알파벳이기 때문에 stack의 것을 pop하는 것\n",
    "# 이고 마지막으로 counter[stack[-1]]>0은 0이면 더이상 추가가 안되어 사전식보다 후순위라고 넣어야하는 예외조항\n",
    "# 으로 생각을 해야하기 때문에 조건이 붙은 것같다. 그래서.. 내가 현재로서는 생각하지 못할만한 코드다..\n",
    "# 스택이 생각보다 어렵네.. 활용이.."
   ]
  },
  {
   "cell_type": "code",
   "execution_count": null,
   "id": "a167423d",
   "metadata": {},
   "outputs": [],
   "source": []
  },
  {
   "cell_type": "code",
   "execution_count": null,
   "id": "df0816c4",
   "metadata": {},
   "outputs": [],
   "source": []
  },
  {
   "cell_type": "code",
   "execution_count": null,
   "id": "e0a74c58",
   "metadata": {},
   "outputs": [],
   "source": []
  },
  {
   "cell_type": "code",
   "execution_count": null,
   "id": "fd7b8eff",
   "metadata": {},
   "outputs": [],
   "source": []
  },
  {
   "cell_type": "code",
   "execution_count": null,
   "id": "c17ccdde",
   "metadata": {},
   "outputs": [],
   "source": []
  },
  {
   "cell_type": "code",
   "execution_count": null,
   "id": "d198e1b3",
   "metadata": {},
   "outputs": [],
   "source": []
  },
  {
   "cell_type": "code",
   "execution_count": null,
   "id": "8931fd77",
   "metadata": {},
   "outputs": [],
   "source": []
  },
  {
   "cell_type": "code",
   "execution_count": null,
   "id": "b2098bea",
   "metadata": {},
   "outputs": [],
   "source": []
  },
  {
   "cell_type": "code",
   "execution_count": null,
   "id": "d18293a1",
   "metadata": {},
   "outputs": [],
   "source": []
  },
  {
   "cell_type": "code",
   "execution_count": null,
   "id": "6cf3ff2a",
   "metadata": {},
   "outputs": [],
   "source": []
  }
 ],
 "metadata": {
  "kernelspec": {
   "display_name": "Python 3 (ipykernel)",
   "language": "python",
   "name": "python3"
  },
  "language_info": {
   "codemirror_mode": {
    "name": "ipython",
    "version": 3
   },
   "file_extension": ".py",
   "mimetype": "text/x-python",
   "name": "python",
   "nbconvert_exporter": "python",
   "pygments_lexer": "ipython3",
   "version": "3.11.5"
  }
 },
 "nbformat": 4,
 "nbformat_minor": 5
}
