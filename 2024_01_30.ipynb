{
 "cells": [
  {
   "cell_type": "code",
   "execution_count": 1,
   "id": "55e5a297",
   "metadata": {},
   "outputs": [],
   "source": [
    "# 백준 18258"
   ]
  },
  {
   "cell_type": "code",
   "execution_count": null,
   "id": "f5b588ce",
   "metadata": {},
   "outputs": [],
   "source": [
    "from collections import deque"
   ]
  },
  {
   "cell_type": "code",
   "execution_count": 18,
   "id": "aa177085",
   "metadata": {},
   "outputs": [
    {
     "name": "stdout",
     "output_type": "stream",
     "text": [
      "15\n",
      "push 1\n",
      "push 2\n",
      "front\n",
      "1\n",
      "back\n",
      "2\n",
      "size\n",
      "2\n",
      "empty\n",
      "0\n",
      "pop\n",
      "1\n",
      "pop\n",
      "2\n",
      "pop\n",
      "-1\n",
      "size\n",
      "0\n",
      "empty\n",
      "1\n",
      "pop\n",
      "-1\n",
      "push 3\n",
      "empty\n",
      "0\n",
      "front\n",
      "3\n"
     ]
    }
   ],
   "source": [
    "import sys\n",
    "from collections import deque\n",
    "\n",
    "a = int(input())\n",
    "q = deque([])\n",
    "\n",
    "for _ in range(a):\n",
    "    k = input().split()\n",
    "    \n",
    "    if k[0] == 'push':\n",
    "        q.append(k[1])\n",
    "    \n",
    "    if k[0] == 'pop':\n",
    "        if not q:\n",
    "            print(-1)\n",
    "        else:\n",
    "            print(q.popleft())\n",
    "    \n",
    "    if k[0] == 'size':\n",
    "        print(len(q))\n",
    "    \n",
    "    if k[0] == 'empty':\n",
    "        if q:\n",
    "            print(0)\n",
    "        else:\n",
    "            print(1)\n",
    "    if k[0] == 'front':\n",
    "        if q:\n",
    "            print(q[0])\n",
    "        else:\n",
    "            print(-1)\n",
    "    \n",
    "    if k[0] == 'back':\n",
    "        if q:\n",
    "            print(q[-1])\n",
    "        else:\n",
    "            print(-1)"
   ]
  },
  {
   "cell_type": "code",
   "execution_count": null,
   "id": "83a2871d",
   "metadata": {},
   "outputs": [],
   "source": []
  },
  {
   "cell_type": "code",
   "execution_count": 19,
   "id": "753943cc",
   "metadata": {},
   "outputs": [
    {
     "name": "stdout",
     "output_type": "stream",
     "text": [
      "2\n",
      "4\n"
     ]
    }
   ],
   "source": [
    "# 백준 24723\n",
    "print(2** int(input()))\n",
    "# ... 뭐지.. 뭘까.."
   ]
  },
  {
   "cell_type": "code",
   "execution_count": null,
   "id": "f666b653",
   "metadata": {},
   "outputs": [],
   "source": []
  }
 ],
 "metadata": {
  "kernelspec": {
   "display_name": "Python 3 (ipykernel)",
   "language": "python",
   "name": "python3"
  },
  "language_info": {
   "codemirror_mode": {
    "name": "ipython",
    "version": 3
   },
   "file_extension": ".py",
   "mimetype": "text/x-python",
   "name": "python",
   "nbconvert_exporter": "python",
   "pygments_lexer": "ipython3",
   "version": "3.11.5"
  }
 },
 "nbformat": 4,
 "nbformat_minor": 5
}
