{
 "cells": [
  {
   "cell_type": "code",
   "execution_count": 2,
   "id": "096746bf",
   "metadata": {},
   "outputs": [],
   "source": [
    "import sys"
   ]
  },
  {
   "cell_type": "code",
   "execution_count": 8,
   "id": "caf1fb1d",
   "metadata": {
    "scrolled": true
   },
   "outputs": [
    {
     "name": "stdout",
     "output_type": "stream",
     "text": [
      "dskjfl)]\n",
      "[')', ']']\n",
      ".\n"
     ]
    }
   ],
   "source": [
    "while True:\n",
    "    stack = []\n",
    "    k = input()\n",
    "    if k == '.':\n",
    "        break\n",
    "    k = list(k.replace(' ',''))\n",
    "    for a in k:\n",
    "        if stack and a == ')' and stack[-1] == '(':\n",
    "            stack.pop()\n",
    "        elif stack and a == ']' and stack[-1] == '[':\n",
    "            stack.pop()\n",
    "        elif a in [')', ']','(','[']:\n",
    "            stack.append(a)\n",
    "    \n",
    "    if not stack:\n",
    "        print('yes') \n",
    "    else:\n",
    "        print('no')\n",
    "\n",
    "# 진짜 어렵게 맞췄네.."
   ]
  },
  {
   "cell_type": "code",
   "execution_count": 20,
   "id": "33276ca9",
   "metadata": {},
   "outputs": [
    {
     "name": "stdout",
     "output_type": "stream",
     "text": [
      "sdkjfls\n",
      "s\n",
      "d\n",
      "k\n",
      "j\n",
      "f\n",
      "l\n",
      "s\n"
     ]
    }
   ],
   "source": [
    "s = input()\n",
    "lst = list(s)\n",
    "for a in lst:\n",
    "    print(a)\n"
   ]
  },
  {
   "cell_type": "code",
   "execution_count": 12,
   "id": "23acf8a8",
   "metadata": {},
   "outputs": [
    {
     "ename": "NameError",
     "evalue": "name 'stack' is not defined",
     "output_type": "error",
     "traceback": [
      "\u001b[1;31m---------------------------------------------------------------------------\u001b[0m",
      "\u001b[1;31mNameError\u001b[0m                                 Traceback (most recent call last)",
      "Cell \u001b[1;32mIn[12], line 3\u001b[0m\n\u001b[0;32m      1\u001b[0m \u001b[38;5;28;01mfor\u001b[39;00m a \u001b[38;5;129;01min\u001b[39;00m k:\n\u001b[0;32m      2\u001b[0m     \u001b[38;5;28;01mif\u001b[39;00m a \u001b[38;5;241m==\u001b[39m \u001b[38;5;124m'\u001b[39m\u001b[38;5;124m(\u001b[39m\u001b[38;5;124m'\u001b[39m \u001b[38;5;129;01mor\u001b[39;00m \u001b[38;5;124m'\u001b[39m\u001b[38;5;124m[\u001b[39m\u001b[38;5;124m'\u001b[39m:\n\u001b[1;32m----> 3\u001b[0m         stack\u001b[38;5;241m.\u001b[39mappend(a)\n\u001b[0;32m      4\u001b[0m     \u001b[38;5;28;01melif\u001b[39;00m stack \u001b[38;5;129;01mis\u001b[39;00m \u001b[38;5;28;01mTrue\u001b[39;00m \u001b[38;5;129;01mand\u001b[39;00m a \u001b[38;5;241m==\u001b[39m \u001b[38;5;124m'\u001b[39m\u001b[38;5;124m)\u001b[39m\u001b[38;5;124m'\u001b[39m \u001b[38;5;129;01mand\u001b[39;00m stack[\u001b[38;5;241m-\u001b[39m\u001b[38;5;241m1\u001b[39m] \u001b[38;5;241m==\u001b[39m \u001b[38;5;124m'\u001b[39m\u001b[38;5;124m(\u001b[39m\u001b[38;5;124m'\u001b[39m:\n\u001b[0;32m      5\u001b[0m         stack\u001b[38;5;241m.\u001b[39mpop()\n",
      "\u001b[1;31mNameError\u001b[0m: name 'stack' is not defined"
     ]
    }
   ],
   "source": [
    "# for a in k:\n",
    "#     if a == '(' or '[':\n",
    "#         stack.append(a)\n",
    "#     elif stack is True and a == ')' and stack[-1] == '(':\n",
    "#         stack.pop()\n",
    "#     elif stack is True and a == ']' and stack[-1] == '[':\n",
    "#         stack.pop()\n",
    "#     else:\n",
    "#         print('no')\n",
    "#         break\n",
    "# print('yes')"
   ]
  },
  {
   "cell_type": "code",
   "execution_count": 9,
   "id": "0dd0bab6",
   "metadata": {},
   "outputs": [
    {
     "name": "stdout",
     "output_type": "stream",
     "text": [
      "True\n"
     ]
    }
   ],
   "source": [
    "s = ']'\n",
    "if s in '([])':\n",
    "    print(True)"
   ]
  },
  {
   "cell_type": "code",
   "execution_count": null,
   "id": "9d5880e5",
   "metadata": {},
   "outputs": [],
   "source": []
  },
  {
   "cell_type": "markdown",
   "id": "aec5e71a",
   "metadata": {},
   "source": [
    "### 파이썬 알고리즘"
   ]
  },
  {
   "cell_type": "code",
   "execution_count": 10,
   "id": "d3ce9606",
   "metadata": {},
   "outputs": [],
   "source": [
    "# 파이썬 알고리즘 인터뷰\n",
    "# 23 큐를 이용한 스택 구현\n",
    "# 여기서 큐를 활용하는 것은 deque를 활용하면 되는듯하다."
   ]
  },
  {
   "cell_type": "code",
   "execution_count": 20,
   "id": "5743068e",
   "metadata": {},
   "outputs": [],
   "source": [
    "import collections\n",
    "q = collections.deque()"
   ]
  },
  {
   "cell_type": "code",
   "execution_count": 21,
   "id": "ac919137",
   "metadata": {},
   "outputs": [],
   "source": [
    "q.append(1)\n",
    "q.append(5)\n",
    "q.append(9)"
   ]
  },
  {
   "cell_type": "code",
   "execution_count": null,
   "id": "d0f47cec",
   "metadata": {},
   "outputs": [],
   "source": [
    "# stack 구현\n",
    "class mystack:\n",
    "    def __init__(self):\n",
    "        self.q = collections.deque()\n",
    "    \n",
    "    def push(self,x):\n",
    "        self.q.append(x)\n",
    "    \n",
    "    def pop(self):\n",
    "        return self.q.pop()\n",
    "    \n",
    "    def top(self):\n",
    "        return self.q[-1]\n",
    "    \n",
    "    def empty(self):\n",
    "        return len(self.q) == 0\n",
    "    \n",
    "# push 하고 pop을 할때 어차피 deque는 양방향에서 push와 pop을 할 수 있으니 \n",
    "# push를 하고 정리를 할 필요가 없지 않나..\n",
    "# 라는 생각을 했는데 queue는 deque가 아니니 그렇게 하면 안되네.."
   ]
  },
  {
   "cell_type": "markdown",
   "id": "87596c53",
   "metadata": {},
   "source": [
    "---"
   ]
  },
  {
   "cell_type": "code",
   "execution_count": null,
   "id": "cf11c3e1",
   "metadata": {},
   "outputs": [],
   "source": [
    "class mystack:\n",
    "    def __init__(self):\n",
    "        self.q = collections.deque()\n",
    "    \n",
    "    def push(self,x):\n",
    "        self.q.append(x)\n",
    "        for _ in range(len(self.q) - 1):\n",
    "            self.q.append(self.q.popleft())\n",
    "    \n",
    "    def pop(self):\n",
    "        return self.q.pop()\n",
    "    \n",
    "    def top(self):\n",
    "        return self.q[0]\n",
    "    \n",
    "    def empty(self):\n",
    "        return len(self.q) == 0\n",
    "# 이렇게 해야지 queue를 활용하여 stack을 구현했다고 할 수 있네.."
   ]
  },
  {
   "cell_type": "code",
   "execution_count": null,
   "id": "5df11762",
   "metadata": {},
   "outputs": [],
   "source": []
  },
  {
   "cell_type": "code",
   "execution_count": null,
   "id": "fef662df",
   "metadata": {},
   "outputs": [],
   "source": [
    "# 반대로 이젠 스택을 활용하여 큐를 구현해보자\n",
    "class MyQueue:\n",
    "    def __init__(self):\n",
    "        self.input = []\n",
    "        self.output = []\n",
    "        \n",
    "    def push(self, x):\n",
    "        self.input.append(x)\n",
    "    \n",
    "    def pop(self):\n",
    "        self.peek()\n",
    "        return self.output.pop()\n",
    "    \n",
    "    def peek(self):\n",
    "        if not self.output:\n",
    "            while self.input:\n",
    "                self.output.append(self.input.pop())\n",
    "        return self.output[-1]\n",
    "    \n",
    "    def empty(self):\n",
    "        return self.input == [] and self.output == []\n",
    "    "
   ]
  },
  {
   "cell_type": "code",
   "execution_count": null,
   "id": "a8b04194",
   "metadata": {},
   "outputs": [],
   "source": []
  },
  {
   "cell_type": "code",
   "execution_count": 27,
   "id": "6e2e05ac",
   "metadata": {},
   "outputs": [],
   "source": [
    "grid = [\n",
    "  [\"1\",\"1\",\"1\",\"1\",\"0\"],\n",
    "  [\"1\",\"1\",\"0\",\"1\",\"0\"],\n",
    "  [\"1\",\"1\",\"0\",\"0\",\"0\"],\n",
    "  [\"0\",\"0\",\"0\",\"0\",\"0\"]\n",
    "]"
   ]
  },
  {
   "cell_type": "code",
   "execution_count": 35,
   "id": "e3dc6a62",
   "metadata": {},
   "outputs": [
    {
     "name": "stdout",
     "output_type": "stream",
     "text": [
      "4 5\n"
     ]
    }
   ],
   "source": [
    "print(len(grid), len(grid[0]))"
   ]
  },
  {
   "cell_type": "code",
   "execution_count": null,
   "id": "441cb25f",
   "metadata": {},
   "outputs": [],
   "source": [
    "# 0<= i <len(grid) and 0<= j < len(grid[0])\n",
    "# dfs를 어떻게 쓸것인가...\n",
    "# 이게 문제네..."
   ]
  },
  {
   "cell_type": "code",
   "execution_count": 38,
   "id": "4d85af22",
   "metadata": {},
   "outputs": [],
   "source": [
    "def dfs(i,j):\n",
    "    if grid[i][j] == 0:\n",
    "        return\n",
    "    elif grid[i][j] == 1:\n",
    "        grid[i][j] = '0'\n",
    "        return\n",
    "    while 0<= i <len(grid) and 0<= j < len(grid[0]):\n",
    "        dfs(i+1,j)\n",
    "        dfs(i, j+1)"
   ]
  },
  {
   "cell_type": "code",
   "execution_count": 40,
   "id": "fac8cac4",
   "metadata": {},
   "outputs": [],
   "source": [
    "# 아 재귀함수 설계하기 진짜 어렵네;..\n",
    "\n",
    "def numIslands(grid):\n",
    "    def dfs(i,j):\n",
    "        # 더이상 땅이 아니면 종료\n",
    "        if i < 0 or i >= len(grid) or j<0 or j >= len(grid[0]) or grid[i][j] != '1':\n",
    "            return\n",
    "        \n",
    "        grid[i][j] = '0'\n",
    "        \n",
    "        # 동서남북 탐색\n",
    "        dfs(i+1, j)\n",
    "        dfs(i-1, j)\n",
    "        dfs(i, j+1)\n",
    "        dfs(i, j-1)\n",
    "    \n",
    "    count = 0\n",
    "    for i in range(len(grid)):\n",
    "        for j in range(len(grid[0])):\n",
    "            if grid[i][j] == '1':\n",
    "                dfs(i,j)\n",
    "                count +=1\n",
    "    return count\n",
    "\n",
    "# dfs로 할수 있는것은 탐색을 하고 1이었던 위치를 0으로 바꾸는것이 다인것같다 그리고 나서\n",
    "# dfs에 넣을 초기 위치는 for 중첩을 통해서 1이 있는 위치만을 선정하여 넣으면 되는듯 하다.\n",
    "\n",
    "# 5개씩 하는 거 빡센데..\n",
    "# 그리고 알고리즘 공부 포트폴리오나 이런거 보고 방식을 베껴야할듯하다."
   ]
  },
  {
   "cell_type": "code",
   "execution_count": null,
   "id": "6ba477c6",
   "metadata": {},
   "outputs": [],
   "source": []
  },
  {
   "cell_type": "code",
   "execution_count": null,
   "id": "7f8bc92e",
   "metadata": {},
   "outputs": [],
   "source": []
  }
 ],
 "metadata": {
  "kernelspec": {
   "display_name": "Python 3 (ipykernel)",
   "language": "python",
   "name": "python3"
  },
  "language_info": {
   "codemirror_mode": {
    "name": "ipython",
    "version": 3
   },
   "file_extension": ".py",
   "mimetype": "text/x-python",
   "name": "python",
   "nbconvert_exporter": "python",
   "pygments_lexer": "ipython3",
   "version": "3.11.5"
  }
 },
 "nbformat": 4,
 "nbformat_minor": 5
}
