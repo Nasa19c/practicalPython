{
 "cells": [
  {
   "cell_type": "code",
   "execution_count": 12,
   "id": "c1e7be4b",
   "metadata": {},
   "outputs": [
    {
     "name": "stdout",
     "output_type": "stream",
     "text": [
      "10\n",
      "6 3 2 10 10 10 -10 -10 7 3\n",
      "8\n",
      "10 9 -5 2 3 4 5 -10\n",
      "3 0 0 1 2 0 0 2 "
     ]
    }
   ],
   "source": [
    "import collections\n",
    "n= int(input())\n",
    "n_lst = list(map(int, input().split()))\n",
    "dic = collections.Counter(n_lst)\n",
    "m = int(input())\n",
    "m_lst = list(map(int, input().split()))\n",
    "for i,x in enumerate(m_lst):\n",
    "    print(dic[x], end = ' ')\n",
    "    "
   ]
  },
  {
   "cell_type": "code",
   "execution_count": 10,
   "id": "f8123fff",
   "metadata": {},
   "outputs": [
    {
     "data": {
      "text/plain": [
       "Counter({1: 2, 2: 1, 3: 1})"
      ]
     },
     "execution_count": 10,
     "metadata": {},
     "output_type": "execute_result"
    }
   ],
   "source": [
    "import collections\n",
    "import sys\n",
    "n= int(sys.stdin.readline())\n",
    "n_lst = list(map(int, sys.stdin.readline().split()))\n",
    "dic = collections.Counter(n_lst)\n",
    "m = int(sys.stdin.readline())\n",
    "m_lst = list(map(int, sys.stdin.readline().split()))\n",
    "for i,x in enumerate(m_lst):\n",
    "    print(dic[x], end = ' ')\n",
    "    "
   ]
  },
  {
   "cell_type": "code",
   "execution_count": null,
   "id": "f655d916",
   "metadata": {},
   "outputs": [],
   "source": []
  },
  {
   "cell_type": "code",
   "execution_count": 14,
   "id": "f33f5d83",
   "metadata": {},
   "outputs": [
    {
     "name": "stdout",
     "output_type": "stream",
     "text": [
      "10\n",
      "6 3 2 10 10 10 -10 -10 7 3\n",
      "8\n",
      "10 9 -5 2 3 4 5 -10\n"
     ]
    },
    {
     "ename": "KeyError",
     "evalue": "8",
     "output_type": "error",
     "traceback": [
      "\u001b[1;31m---------------------------------------------------------------------------\u001b[0m",
      "\u001b[1;31mKeyError\u001b[0m                                  Traceback (most recent call last)",
      "Cell \u001b[1;32mIn[14], line 14\u001b[0m\n\u001b[0;32m     11\u001b[0m     \u001b[38;5;28;01melse\u001b[39;00m:\n\u001b[0;32m     12\u001b[0m         dic[n] \u001b[38;5;241m=\u001b[39m \u001b[38;5;241m1\u001b[39m\n\u001b[1;32m---> 14\u001b[0m \u001b[38;5;28mprint\u001b[39m(\u001b[38;5;28mstr\u001b[39m(dic[m]))\n",
      "\u001b[1;31mKeyError\u001b[0m: 8"
     ]
    }
   ],
   "source": [
    "# hash를 이용해서 풀어보면\n",
    "n= int(input())\n",
    "n_lst = list(map(int, input().split()))\n",
    "m = int(input())\n",
    "m_lst = list(map(int, input().split()))\n",
    "\n",
    "dic = {}\n",
    "for n in n_lst:\n",
    "    if n in dic:\n",
    "        dic[n] += 1\n",
    "    else:\n",
    "        dic[n] = 1\n",
    "\n",
    "print(' '.join(str(dic[m]) if m in dic else '0' for m in m_lst))"
   ]
  },
  {
   "cell_type": "code",
   "execution_count": 27,
   "id": "74646f58",
   "metadata": {},
   "outputs": [
    {
     "name": "stdout",
     "output_type": "stream",
     "text": [
      "9\n",
      "4\n",
      "1\n",
      "1 3\n",
      "1 5\n",
      "3\n",
      "2\n",
      "2\n",
      "5\n",
      "5\n",
      "3\n",
      "2\n",
      "3\n",
      "2\n",
      "-1\n",
      "5\n",
      "-1\n"
     ]
    }
   ],
   "source": [
    "stack = []\n",
    "a = int(input())\n",
    "for i in range(a):\n",
    "    k = list(map(int, input().split(' ')))\n",
    "    if k[0] == 1:\n",
    "        stack.append(k[1])\n",
    "    elif k[0] == 2:\n",
    "        if stack:\n",
    "            pop = stack.pop()\n",
    "            print(pop)\n",
    "        else:\n",
    "            print(-1)\n",
    "    elif k[0] == 3:\n",
    "        print(len(stack))\n",
    "    elif k[0] == 4:\n",
    "        if stack:\n",
    "            print(0)\n",
    "        else:\n",
    "            print(1)\n",
    "    elif k[0]==5:\n",
    "        if stack:\n",
    "            print(stack[-1])\n",
    "        else:\n",
    "            print(-1)\n",
    "    "
   ]
  },
  {
   "cell_type": "code",
   "execution_count": 30,
   "id": "cfb34941",
   "metadata": {},
   "outputs": [
    {
     "name": "stdout",
     "output_type": "stream",
     "text": [
      "5\n"
     ]
    },
    {
     "ename": "TypeError",
     "evalue": "int() argument must be a string, a bytes-like object or a real number, not 'list'",
     "output_type": "error",
     "traceback": [
      "\u001b[1;31m---------------------------------------------------------------------------\u001b[0m",
      "\u001b[1;31mTypeError\u001b[0m                                 Traceback (most recent call last)",
      "Cell \u001b[1;32mIn[30], line 1\u001b[0m\n\u001b[1;32m----> 1\u001b[0m a \u001b[38;5;241m=\u001b[39m \u001b[38;5;28mint\u001b[39m(\u001b[38;5;28minput\u001b[39m()\u001b[38;5;241m.\u001b[39msplit())\n\u001b[0;32m      2\u001b[0m a[\u001b[38;5;241m0\u001b[39m]\n",
      "\u001b[1;31mTypeError\u001b[0m: int() argument must be a string, a bytes-like object or a real number, not 'list'"
     ]
    }
   ],
   "source": [
    "a = input().split()\n",
    "a[0]"
   ]
  },
  {
   "cell_type": "markdown",
   "id": "2d62dee1",
   "metadata": {},
   "source": [
    "---"
   ]
  },
  {
   "cell_type": "code",
   "execution_count": null,
   "id": "de6d4da0",
   "metadata": {},
   "outputs": [],
   "source": [
    "# 파이썬 알고리즘 인터뷰"
   ]
  },
  {
   "cell_type": "code",
   "execution_count": null,
   "id": "c14992e9",
   "metadata": {},
   "outputs": [],
   "source": [
    "# 트리 43\n",
    "# 이진 트리에서 두 노드 간 가장 긴 경로의 길이를 출력하라"
   ]
  },
  {
   "cell_type": "code",
   "execution_count": 31,
   "id": "7f1ab00b",
   "metadata": {},
   "outputs": [],
   "source": [
    "class Node:\n",
    "    def __init__(self, val, left = None, right=None):\n",
    "        self.val = val\n",
    "        self.left = left\n",
    "        self.right = right\n",
    "    \n",
    "    def list_to_binary_tree(self, lst):\n",
    "        if not lst:\n",
    "            return None\n",
    "\n",
    "        nodes = [None if item is None else Node(item) for item in lst]\n",
    "        root = nodes[0]\n",
    "        if root is None:\n",
    "            return None\n",
    "\n",
    "        queue = [root]\n",
    "        i = 1\n",
    "        while queue:\n",
    "            current = queue.pop(0)\n",
    "\n",
    "            if current is not None:\n",
    "                current.left = nodes[i] if i < len(nodes) else None\n",
    "                current.right = nodes[i + 1] if i + 1 < len(nodes) else None\n",
    "                i += 2\n",
    "\n",
    "                queue.append(current.left)\n",
    "                queue.append(current.right)\n",
    "\n",
    "        return root\n",
    "    \n",
    "class BinaryTree:\n",
    "    def __init__(self):\n",
    "        self.root = None\n",
    "    \n",
    "    def preorder(self, node):\n",
    "        if not node:\n",
    "            return\n",
    "        print(node.val, end = ' ')\n",
    "        if node.left:\n",
    "            self.preorder(node.left)\n",
    "        if node.right:\n",
    "            self.preorder(node.right)\n",
    "    \n",
    "    def inorder(self, node):\n",
    "        if not node:\n",
    "            return\n",
    "        if node.left:\n",
    "            self.inorder(node.left)\n",
    "        print(node.val, end = ' ')\n",
    "        if node.right:\n",
    "            self.inorder(node.right)\n",
    "    \n",
    "    def postorder(self, node):\n",
    "        if not node:\n",
    "            return\n",
    "        if node.left:\n",
    "            self.postorder(node.left)\n",
    "        if node.right:\n",
    "            self.postorder(node.right)\n",
    "        print(node.val, end = ' ')"
   ]
  },
  {
   "cell_type": "code",
   "execution_count": 49,
   "id": "dc22eba3",
   "metadata": {},
   "outputs": [],
   "source": [
    "def diameterofbinary(root):\n",
    "    def dfs(node):\n",
    "        nonlocal longest\n",
    "        if not node:\n",
    "            return -1\n",
    "        left = dfs(node.left)\n",
    "        right = dfs(node.right)\n",
    "        longest = max(longest, left + right +2)\n",
    "        return max(left, right) + 1\n",
    "    longest = 0\n",
    "    dfs(root)\n",
    "    return longest"
   ]
  },
  {
   "cell_type": "code",
   "execution_count": 50,
   "id": "5c6521fe",
   "metadata": {},
   "outputs": [
    {
     "data": {
      "text/plain": [
       "3"
      ]
     },
     "execution_count": 50,
     "metadata": {},
     "output_type": "execute_result"
    }
   ],
   "source": [
    "node= Node(0)\n",
    "root = [1,2,3,4,5]\n",
    "root = node.list_to_binary_tree(root)\n",
    "diameterofbinary(root)"
   ]
  },
  {
   "cell_type": "code",
   "execution_count": null,
   "id": "e16b31a8",
   "metadata": {},
   "outputs": [],
   "source": []
  },
  {
   "cell_type": "code",
   "execution_count": null,
   "id": "c18d17d3",
   "metadata": {},
   "outputs": [],
   "source": []
  },
  {
   "cell_type": "code",
   "execution_count": null,
   "id": "00ab2451",
   "metadata": {},
   "outputs": [],
   "source": []
  },
  {
   "cell_type": "code",
   "execution_count": null,
   "id": "085b5b9c",
   "metadata": {},
   "outputs": [],
   "source": []
  }
 ],
 "metadata": {
  "kernelspec": {
   "display_name": "Python 3 (ipykernel)",
   "language": "python",
   "name": "python3"
  },
  "language_info": {
   "codemirror_mode": {
    "name": "ipython",
    "version": 3
   },
   "file_extension": ".py",
   "mimetype": "text/x-python",
   "name": "python",
   "nbconvert_exporter": "python",
   "pygments_lexer": "ipython3",
   "version": "3.11.5"
  }
 },
 "nbformat": 4,
 "nbformat_minor": 5
}
