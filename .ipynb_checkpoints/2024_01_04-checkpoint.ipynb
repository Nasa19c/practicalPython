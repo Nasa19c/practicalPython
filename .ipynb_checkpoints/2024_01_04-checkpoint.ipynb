{
 "cells": [
  {
   "cell_type": "code",
   "execution_count": null,
   "id": "22914b67",
   "metadata": {},
   "outputs": [],
   "source": [
    "# 두수의 합 1. twosum\n",
    "# 빗물트래핑 42.trapping\n",
    "# 세수의 합 15. 3sum\n",
    "# 배열 파티션1 561. array partition1\n",
    "\n",
    "# 섬의 개수 200\n",
    "# 전화번호 문자 조합 17\n",
    "# 순열 46 permulations\n",
    "# 조합 77. combinations"
   ]
  },
  {
   "cell_type": "code",
   "execution_count": 15,
   "id": "e27f6915",
   "metadata": {},
   "outputs": [],
   "source": [
    "nums = [2,7,11,15]\n",
    "target = 9\n",
    "def two_sum(nums, target):\n",
    "    nums_map={}\n",
    "    for i,num in enumerate(nums):\n",
    "        nums_map[num] = i\n",
    "\n",
    "    for i, num in enumerate(nums):\n",
    "        if target - num in nums_map and i != nums_map[target - num]:\n",
    "            return [i, nums_map[target-num]]"
   ]
  },
  {
   "cell_type": "code",
   "execution_count": 16,
   "id": "3e95cd72",
   "metadata": {},
   "outputs": [
    {
     "data": {
      "text/plain": [
       "[0, 1]"
      ]
     },
     "execution_count": 16,
     "metadata": {},
     "output_type": "execute_result"
    }
   ],
   "source": [
    "two_sum(nums, target)"
   ]
  },
  {
   "cell_type": "code",
   "execution_count": 17,
   "id": "3bc4c8fc",
   "metadata": {},
   "outputs": [],
   "source": [
    "def two_sum_simple(nums, target):\n",
    "    nums_map={}\n",
    "    for i, num in enumerate(nums):\n",
    "        if target - num in nums_map and i != nums_map[target - num]:\n",
    "            return [i, nums_map[target-num]]\n",
    "        nums_map[num] = i"
   ]
  },
  {
   "cell_type": "code",
   "execution_count": 18,
   "id": "17d5ee3e",
   "metadata": {},
   "outputs": [
    {
     "data": {
      "text/plain": [
       "[1, 0]"
      ]
     },
     "execution_count": 18,
     "metadata": {},
     "output_type": "execute_result"
    }
   ],
   "source": [
    "two_sum_simple(nums, target)"
   ]
  },
  {
   "cell_type": "markdown",
   "id": "ffd0ba72",
   "metadata": {},
   "source": [
    "- 두수의 합이 target에 맞는지 확인하는 문제\n",
    "- 하나씩 다 더해서 target과 같은지 확인해도 되지만 \n",
    "- target - num이 dic이나 list에 있는지 확인후 index만 출력하면 되는문제\n",
    "- 여기서 투포인트를 쓰게 되면 포인터의 인덱스가 섞여버리기 때문에 복잡해질 수 있다.\n",
    "- index를 보존해야하는 문제에서는 투포인트를 쓰지 않는게 좋을듯 함"
   ]
  },
  {
   "cell_type": "code",
   "execution_count": null,
   "id": "75df4a19",
   "metadata": {},
   "outputs": [],
   "source": []
  },
  {
   "cell_type": "code",
   "execution_count": null,
   "id": "c53efb9b",
   "metadata": {},
   "outputs": [],
   "source": []
  },
  {
   "cell_type": "code",
   "execution_count": null,
   "id": "4e7a1de6",
   "metadata": {},
   "outputs": [],
   "source": [
    "# 42. Trapping Rain Water"
   ]
  },
  {
   "cell_type": "code",
   "execution_count": null,
   "id": "1e8e9970",
   "metadata": {},
   "outputs": [],
   "source": [
    "def trap(height):\n",
    "    if not height:\n",
    "        return 0\n",
    "    volume = 0\n",
    "    left,right = 0, len(height)-1\n",
    "    left_max, right_max = height[left], height[right]\n",
    "    \n",
    "    while left< right:\n",
    "        left_max, right_max = max(height[left],left_max), \n",
    "                                max(height[right],right_max)\n",
    "        \n",
    "        if left_max <= right_max:\n",
    "            volume += left_max - height[left]\n",
    "            left +=1\n",
    "        else:\n",
    "            volume += right_max - height[right]\n",
    "            right -= 1\n",
    "    return volume"
   ]
  },
  {
   "cell_type": "markdown",
   "id": "cd1be516",
   "metadata": {},
   "source": [
    "- 어려워.."
   ]
  },
  {
   "cell_type": "code",
   "execution_count": null,
   "id": "013271b0",
   "metadata": {},
   "outputs": [],
   "source": []
  },
  {
   "cell_type": "code",
   "execution_count": null,
   "id": "2c78d9f7",
   "metadata": {},
   "outputs": [],
   "source": [
    "# 15. 3Sum"
   ]
  },
  {
   "cell_type": "markdown",
   "id": "9e388219",
   "metadata": {},
   "source": [
    "- 풀이가 이해가 안돼..."
   ]
  },
  {
   "cell_type": "code",
   "execution_count": null,
   "id": "ccfd495a",
   "metadata": {},
   "outputs": [],
   "source": []
  },
  {
   "cell_type": "code",
   "execution_count": null,
   "id": "c8027cdd",
   "metadata": {},
   "outputs": [],
   "source": [
    "# 561. Array Partition"
   ]
  },
  {
   "cell_type": "code",
   "execution_count": 21,
   "id": "fb3d5dd4",
   "metadata": {},
   "outputs": [
    {
     "data": {
      "text/plain": [
       "9"
      ]
     },
     "execution_count": 21,
     "metadata": {},
     "output_type": "execute_result"
    }
   ],
   "source": [
    "nums = [6,2,6,5,1,2]\n",
    "sum(sorted(nums)[::2])"
   ]
  },
  {
   "cell_type": "code",
   "execution_count": 19,
   "id": "40e73935",
   "metadata": {},
   "outputs": [
    {
     "data": {
      "text/plain": [
       "[1, 2, 2, 5, 6, 6]"
      ]
     },
     "execution_count": 19,
     "metadata": {},
     "output_type": "execute_result"
    }
   ],
   "source": []
  },
  {
   "cell_type": "code",
   "execution_count": null,
   "id": "70717b2b",
   "metadata": {},
   "outputs": [],
   "source": []
  },
  {
   "cell_type": "code",
   "execution_count": null,
   "id": "ab19f7a8",
   "metadata": {},
   "outputs": [],
   "source": [
    "# 17. Letter Combination of a Phone Number"
   ]
  },
  {
   "cell_type": "code",
   "execution_count": 24,
   "id": "e22e1d69",
   "metadata": {},
   "outputs": [
    {
     "data": {
      "text/plain": [
       "['ad', 'ae', 'af', 'bd', 'be', 'bf', 'cd', 'ce', 'cf']"
      ]
     },
     "execution_count": 24,
     "metadata": {},
     "output_type": "execute_result"
    }
   ],
   "source": [
    "second = ['a','b','c']\n",
    "third = ['d','e','f']\n",
    "lst = []\n",
    "for i1, x1 in enumerate(second):\n",
    "    for i2,x2 in enumerate(third):\n",
    "        lst.append(x1+x2)\n",
    "lst"
   ]
  },
  {
   "cell_type": "code",
   "execution_count": 28,
   "id": "befff79a",
   "metadata": {},
   "outputs": [
    {
     "data": {
      "text/plain": [
       "{'2': 'abc',\n",
       " '3': 'def',\n",
       " '4': 'ghi',\n",
       " '5': 'jkl',\n",
       " '6': 'mno',\n",
       " '7': 'pqrs',\n",
       " '8': 'tuv',\n",
       " '9': 'wxyz'}"
      ]
     },
     "execution_count": 28,
     "metadata": {},
     "output_type": "execute_result"
    }
   ],
   "source": [
    "number = [str(x) for x in range(2,10)]\n",
    "alphabet = ['abc','def','ghi','jkl','mno','pqrs','tuv','wxyz']\n",
    "dic = dict(zip(number,alphabet))\n",
    "dic"
   ]
  },
  {
   "cell_type": "code",
   "execution_count": null,
   "id": "a1f83083",
   "metadata": {},
   "outputs": [],
   "source": [
    "def dfs(index, path):\n",
    "    if len(path) == len(digits):\n",
    "        result.append(path)\n",
    "        return\n",
    "    \n",
    "    for i in range(index, len(digits)):\n",
    "        for j in dic[digits[i]]:\n",
    "            dfs(i+1, path +j)"
   ]
  },
  {
   "cell_type": "code",
   "execution_count": null,
   "id": "b6618f3c",
   "metadata": {},
   "outputs": [],
   "source": []
  },
  {
   "cell_type": "code",
   "execution_count": 3,
   "id": "6f3c26f9",
   "metadata": {},
   "outputs": [],
   "source": [
    "# 46. Permutations\n",
    "# 순열 생성 dfs\n",
    "\n",
    "def permute(nums):\n",
    "    results = []\n",
    "    prev_elements = []\n",
    "    \n",
    "    def dfs(elements):\n",
    "        if len(elements) == 0:\n",
    "            results.append(prev_elements[:])\n",
    "        \n",
    "        for e in elements:\n",
    "            next_elements = elements[:]\n",
    "            next_elements.remove(e)\n",
    "            \n",
    "            prev_elements.append(e)\n",
    "            dfs(next_elements)\n",
    "            prev_elements.pop()\n",
    "            \n",
    "    dfs(nums)\n",
    "    return results"
   ]
  },
  {
   "cell_type": "code",
   "execution_count": 4,
   "id": "c42d7810",
   "metadata": {},
   "outputs": [
    {
     "data": {
      "text/plain": [
       "[[1, 2, 3], [1, 3, 2], [2, 1, 3], [2, 3, 1], [3, 1, 2], [3, 2, 1]]"
      ]
     },
     "execution_count": 4,
     "metadata": {},
     "output_type": "execute_result"
    }
   ],
   "source": [
    "nums = [1,2,3]\n",
    "permute(nums)"
   ]
  },
  {
   "cell_type": "code",
   "execution_count": 6,
   "id": "36c43526",
   "metadata": {},
   "outputs": [
    {
     "data": {
      "text/plain": [
       "[(1, 2, 3), (1, 3, 2), (2, 1, 3), (2, 3, 1), (3, 1, 2), (3, 2, 1)]"
      ]
     },
     "execution_count": 6,
     "metadata": {},
     "output_type": "execute_result"
    }
   ],
   "source": [
    "import itertools\n",
    "list(itertools.permutations(nums))"
   ]
  },
  {
   "cell_type": "code",
   "execution_count": null,
   "id": "842e4e10",
   "metadata": {},
   "outputs": [],
   "source": []
  },
  {
   "cell_type": "code",
   "execution_count": null,
   "id": "d912b9a3",
   "metadata": {},
   "outputs": [],
   "source": []
  },
  {
   "cell_type": "code",
   "execution_count": null,
   "id": "07f57136",
   "metadata": {},
   "outputs": [],
   "source": []
  },
  {
   "cell_type": "code",
   "execution_count": null,
   "id": "e5e795f6",
   "metadata": {},
   "outputs": [],
   "source": []
  },
  {
   "cell_type": "code",
   "execution_count": null,
   "id": "528e67c2",
   "metadata": {},
   "outputs": [],
   "source": []
  }
 ],
 "metadata": {
  "kernelspec": {
   "display_name": "Python 3 (ipykernel)",
   "language": "python",
   "name": "python3"
  },
  "language_info": {
   "codemirror_mode": {
    "name": "ipython",
    "version": 3
   },
   "file_extension": ".py",
   "mimetype": "text/x-python",
   "name": "python",
   "nbconvert_exporter": "python",
   "pygments_lexer": "ipython3",
   "version": "3.11.5"
  }
 },
 "nbformat": 4,
 "nbformat_minor": 5
}
