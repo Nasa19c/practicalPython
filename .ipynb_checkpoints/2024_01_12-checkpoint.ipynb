{
 "cells": [
  {
   "cell_type": "code",
   "execution_count": 1,
   "id": "6d2f8107",
   "metadata": {},
   "outputs": [],
   "source": [
    "# 백준 10825"
   ]
  },
  {
   "cell_type": "code",
   "execution_count": 1,
   "id": "a6882176",
   "metadata": {},
   "outputs": [
    {
     "name": "stdout",
     "output_type": "stream",
     "text": [
      "5\n",
      "6 3 2 10 -10\n",
      "8\n",
      "10 9 -5 2 3 4 5 -10\n"
     ]
    }
   ],
   "source": [
    "a = int(input())\n",
    "data1 = list(map(int, input().split()))\n",
    "b = int(input())\n",
    "data2 = list(map(int, input().split()))"
   ]
  },
  {
   "cell_type": "code",
   "execution_count": null,
   "id": "361ee22f",
   "metadata": {},
   "outputs": [],
   "source": [
    "# 단순한 리스트에서의 반복 탐색\n",
    "result = [False]*b\n",
    "for i, x in enumerate(data2):\n",
    "    if x in data1:\n",
    "        result[i] = True\n",
    "\n",
    "print(list(map(int, result)))\n",
    "# 시간초과..."
   ]
  },
  {
   "cell_type": "code",
   "execution_count": null,
   "id": "5b099aa6",
   "metadata": {},
   "outputs": [],
   "source": [
    "# dictionary를 이용한\n",
    "dic = {}\n",
    "for o in data2:\n",
    "    dic[o] = 0\n",
    "\n",
    "for c in data1:\n",
    "    if c in dic:\n",
    "        dic[c] = 1\n",
    "\n",
    "for d in dic:\n",
    "    print(dic[d], end = ' ')\n",
    "\n",
    "# 시간에 되게 오래 걸렸지만 정답"
   ]
  },
  {
   "cell_type": "code",
   "execution_count": 3,
   "id": "41d1d18c",
   "metadata": {},
   "outputs": [
    {
     "name": "stdout",
     "output_type": "stream",
     "text": [
      "1 0 0 1 1 0 0 1 "
     ]
    }
   ],
   "source": [
    "# 이진탐색을 이용하면 되게 작은 시간복잡도를 가지고 구할 수 있다.\n",
    "# 이진 탐색 코드를 짜보면..\n",
    "data1.sort() # 젤로 중요한거.. 이진탐색시에는 반드시 정렬되어있어야함..\n",
    "def binary_search(array, target, start, end):\n",
    "    while start<=end:\n",
    "        mid = (start+end)//2\n",
    "        \n",
    "        if array[mid] == target:\n",
    "            return mid\n",
    "        elif array[mid] > target:\n",
    "            end = mid - 1\n",
    "        else:\n",
    "            start = mid + 1\n",
    "    return False\n",
    "\n",
    "for i in range(b):\n",
    "    if binary_search(data1, data2[i],0, a-1) is not False:\n",
    "        print(1, end = ' ')\n",
    "    else:\n",
    "        print(0, end = ' ')\n",
    "\n",
    "# 근데 dictionary가 더 잘나오는 이유는 뭐야.."
   ]
  },
  {
   "cell_type": "code",
   "execution_count": null,
   "id": "b531a479",
   "metadata": {},
   "outputs": [],
   "source": [
    "n,m = map(int, input().split())\n",
    "dic = {}\n",
    "for i in range(n):\n",
    "    k = str(input())\n",
    "    dic[k] = 0\n",
    "check = []\n",
    "z = 0\n",
    "for _ in range(m):\n",
    "    s = str(input())\n",
    "    check.append(s)\n",
    "\n",
    "for i,x in enumerate(check):\n",
    "    if x in dic:\n",
    "        z +=1\n",
    "print(z)\n"
   ]
  },
  {
   "cell_type": "code",
   "execution_count": null,
   "id": "9df59091",
   "metadata": {},
   "outputs": [],
   "source": [
    "import sys\n",
    "n,m = map(int, sys.stdin.readline().split())\n",
    "dic = {}\n",
    "count = 0\n",
    "\n",
    "for _ in range(n):\n",
    "    word = sys.stdin.readline()\n",
    "    dic[word] = True\n",
    "    \n",
    "for _ in range(m):\n",
    "    check = sys.stdin.readline()\n",
    "    if check in dic:\n",
    "        count += 1\n",
    "print(count)"
   ]
  },
  {
   "cell_type": "code",
   "execution_count": null,
   "id": "1177c44e",
   "metadata": {},
   "outputs": [],
   "source": []
  }
 ],
 "metadata": {
  "kernelspec": {
   "display_name": "Python 3 (ipykernel)",
   "language": "python",
   "name": "python3"
  },
  "language_info": {
   "codemirror_mode": {
    "name": "ipython",
    "version": 3
   },
   "file_extension": ".py",
   "mimetype": "text/x-python",
   "name": "python",
   "nbconvert_exporter": "python",
   "pygments_lexer": "ipython3",
   "version": "3.11.5"
  }
 },
 "nbformat": 4,
 "nbformat_minor": 5
}
