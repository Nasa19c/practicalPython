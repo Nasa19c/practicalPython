{
 "cells": [
  {
   "cell_type": "markdown",
   "id": "0719ea68",
   "metadata": {},
   "source": [
    "## f-string"
   ]
  },
  {
   "cell_type": "code",
   "execution_count": 30,
   "id": "cd736ded",
   "metadata": {},
   "outputs": [
    {
     "name": "stdout",
     "output_type": "stream",
     "text": [
      "'my_var'   = 1.23\n"
     ]
    }
   ],
   "source": [
    "key = 'my_var'\n",
    "value = 1.234\n",
    "\n",
    "formatted= f'{key!r:<10} = {value:.2f}'\n",
    "print(formatted)"
   ]
  },
  {
   "cell_type": "code",
   "execution_count": 31,
   "id": "22f630ce",
   "metadata": {},
   "outputs": [],
   "source": [
    "pantry = [\n",
    "    ('아보카도', 1.25),\n",
    "    ('바나나', 2.5),\n",
    "    ('체리', 15),\n",
    "]"
   ]
  },
  {
   "cell_type": "code",
   "execution_count": 52,
   "id": "11942e2c",
   "metadata": {},
   "outputs": [
    {
     "name": "stdout",
     "output_type": "stream",
     "text": [
      "#1: 아보카도       = 1\n",
      "#2: 바나나        = 2\n",
      "#3: 체리         = 15\n"
     ]
    }
   ],
   "source": [
    "for i, (item,count) in enumerate(pantry):\n",
    "    f_string = f'#{i+1}: {item.title():<10s} = {round(count)}'\n",
    "    print(f_string)"
   ]
  },
  {
   "cell_type": "code",
   "execution_count": null,
   "id": "bbd45c1a",
   "metadata": {},
   "outputs": [],
   "source": []
  },
  {
   "cell_type": "code",
   "execution_count": 53,
   "id": "bc2cfc35",
   "metadata": {},
   "outputs": [
    {
     "name": "stdout",
     "output_type": "stream",
     "text": [
      "내가 고른 숫자는 1.235\n"
     ]
    }
   ],
   "source": [
    "place = 3\n",
    "number = 1.23456\n",
    "print(f'내가 고른 숫자는 {number:.{place}f}')\n",
    "# ㄴ 변수를 사용해서 형식문자열 안에 파라미터화함."
   ]
  },
  {
   "cell_type": "code",
   "execution_count": null,
   "id": "5ceef06f",
   "metadata": {},
   "outputs": [],
   "source": []
  },
  {
   "cell_type": "markdown",
   "id": "7a0dfa4c",
   "metadata": {},
   "source": [
    "## Unpacking"
   ]
  },
  {
   "cell_type": "code",
   "execution_count": 54,
   "id": "6ea8ef10",
   "metadata": {},
   "outputs": [
    {
     "data": {
      "text/plain": [
       "[2, 1, 3, 4, 5]"
      ]
     },
     "execution_count": 54,
     "metadata": {},
     "output_type": "execute_result"
    }
   ],
   "source": [
    "lst = [1,2,3,4,5]\n",
    "lst[0],lst[1] = lst[1],lst[0]\n",
    "lst"
   ]
  },
  {
   "cell_type": "code",
   "execution_count": 60,
   "id": "7a4cd6c8",
   "metadata": {},
   "outputs": [
    {
     "name": "stdout",
     "output_type": "stream",
     "text": [
      "#1: 베이컨은 350 칼로리입니다.\n",
      "#2: 도넛은 240 칼로리입니다.\n",
      "#3: 머핀은 190 칼로리입니다.\n"
     ]
    }
   ],
   "source": [
    "snacks = [('베이컨',350),('도넛',240),('머핀',190)]\n",
    "for i in range(len(snacks)):\n",
    "    item = snacks[i]\n",
    "    name = item[0]\n",
    "    calories = item[1]\n",
    "    print(f'#{i+1}: {name}은 {calories} 칼로리입니다.')"
   ]
  },
  {
   "cell_type": "code",
   "execution_count": 61,
   "id": "abf35a49",
   "metadata": {},
   "outputs": [
    {
     "name": "stdout",
     "output_type": "stream",
     "text": [
      "#1: 베이컨은 350 칼로리입니다.\n",
      "#2: 도넛은 240 칼로리입니다.\n",
      "#3: 머핀은 190 칼로리입니다.\n"
     ]
    }
   ],
   "source": [
    "for rank, (name, calories) in enumerate(snacks,start = 1):\n",
    "    print(f'#{rank}: {name}은 {calories} 칼로리입니다.')"
   ]
  },
  {
   "cell_type": "code",
   "execution_count": null,
   "id": "f45ad6b4",
   "metadata": {},
   "outputs": [],
   "source": []
  },
  {
   "cell_type": "code",
   "execution_count": null,
   "id": "9cc1cc9b",
   "metadata": {},
   "outputs": [],
   "source": []
  },
  {
   "cell_type": "code",
   "execution_count": null,
   "id": "4644d7c6",
   "metadata": {},
   "outputs": [],
   "source": []
  },
  {
   "cell_type": "code",
   "execution_count": null,
   "id": "b925389a",
   "metadata": {},
   "outputs": [],
   "source": []
  },
  {
   "cell_type": "code",
   "execution_count": null,
   "id": "bca35bf1",
   "metadata": {},
   "outputs": [],
   "source": []
  }
 ],
 "metadata": {
  "kernelspec": {
   "display_name": "Python 3 (ipykernel)",
   "language": "python",
   "name": "python3"
  },
  "language_info": {
   "codemirror_mode": {
    "name": "ipython",
    "version": 3
   },
   "file_extension": ".py",
   "mimetype": "text/x-python",
   "name": "python",
   "nbconvert_exporter": "python",
   "pygments_lexer": "ipython3",
   "version": "3.11.5"
  }
 },
 "nbformat": 4,
 "nbformat_minor": 5
}
