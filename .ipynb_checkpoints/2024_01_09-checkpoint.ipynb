{
 "cells": [
  {
   "cell_type": "code",
   "execution_count": null,
   "id": "934404c4",
   "metadata": {},
   "outputs": [],
   "source": [
    "# 네트워크 딜레이 타임(최단경로)\n",
    "# K 경유지(최단경로)\n",
    "\n",
    "# 조합의 합, 부분집합 정리"
   ]
  },
  {
   "cell_type": "code",
   "execution_count": 5,
   "id": "6c207304",
   "metadata": {},
   "outputs": [
    {
     "data": {
      "text/plain": [
       "15"
      ]
     },
     "execution_count": 5,
     "metadata": {},
     "output_type": "execute_result"
    }
   ],
   "source": [
    "k = '12345'\n",
    "sum(list(map(int,list(k))))\n",
    "# map의 활용성"
   ]
  },
  {
   "cell_type": "code",
   "execution_count": null,
   "id": "a842e157",
   "metadata": {},
   "outputs": [],
   "source": []
  },
  {
   "cell_type": "code",
   "execution_count": null,
   "id": "7c540c45",
   "metadata": {},
   "outputs": [],
   "source": [
    "# 네트워크 딜레이 타임\n",
    "# leetcode 743\n",
    "# ㄴ dijkstra(다익스트라) 알고리즘을 통해서 풀이를 하면..\n",
    "# ㄴ dijkstra는 순차 구현과 heapq를 활용하여 구현할 수 있음\n"
   ]
  },
  {
   "cell_type": "code",
   "execution_count": 13,
   "id": "b932e953",
   "metadata": {},
   "outputs": [
    {
     "name": "stdout",
     "output_type": "stream",
     "text": [
      "5 6\n",
      "1\n",
      "5 1 1\n",
      "1 2 1\n",
      "1 3 3\n",
      "2 3 1\n",
      "2 4 5\n",
      "3 4 2\n"
     ]
    }
   ],
   "source": [
    "# for문을 통해서 구현\n",
    "n,m = map(int, input().split()) # n = 노드개수, m = 간선 개수\n",
    "k = int(input()) # 시작노드\n",
    "INF = 1e8 # inf를 큰 수로 설정\n",
    "\n",
    "graph = [[] for _ in range(n+1)] # 그래프에 대한 정보를 담는 list\n",
    "visited = [False] * (n+1) # 방문했는지의 여부를 확인하는 list\n",
    "distance = [INF] * (n+1) # 최단 거리 테이블\n",
    "\n",
    "# 그래프에 대한 정보를 입력\n",
    "for _ in range(m):\n",
    "    u,v,w = map(int, input().split()) # u = 출발노드, v = 도착노드, w = 연결된 간선의 가중치\n",
    "    graph[u].append((v,w)) # 출발노드는 index를 통해서 매칭하고 v,w를 입력\n",
    "\n",
    "# 방문하지 않은 노드 중에서 가장 최단거리가 짧은 노드의 번호를 반환\n",
    "def get_smallest_node():\n",
    "    min_val = INF\n",
    "    index = 0\n",
    "    for i in range(1, n+1):\n",
    "        # 방문되지 않은 노드들 중에서 가장 작은 distance를 가진 노드를 출력\n",
    "        if distance[i] < min_val and not visited[i]:\n",
    "            min_val = distance[i]\n",
    "            index = i\n",
    "    return index\n",
    "\n",
    "def dijkstra(start):\n",
    "    distance[start] = 0 # 자기자신까지의 거리를 0으로 입력\n",
    "    visited[start] = True # 자기자신은 방문중이므로 True로 변경\n",
    "    \n",
    "    for i in graph[start]:\n",
    "        distance[i[0]] = i[1]\n",
    "    # [[], [(2, 1), (3, 3)], [(3, 1), (4, 5)], [(4, 2)], [], [(1, 1)]]\n",
    "    # ㄴ 위와 같이 graph가 형성 되었을때 도착노드가 2,3 이고 \n",
    "    #   각 노드 까지의 거리를 i[1]로 업데이트\n",
    "        \n",
    "    for _ in range(n-1):\n",
    "        now = get_smallest_node() # now를 위의 get_smallest_node 함수를 통해 업데이트\n",
    "        visited[now] = True\n",
    "        for j in graph[now]:\n",
    "            # now 노드까지의 거리 + 다음 노드 까지의 distance와 저장되어있는 \n",
    "            # distance와의 비교를 통해서 업데이트 여부 확인\n",
    "            if distance[now] + j[1] < distance[j[0]]:\n",
    "                distance[j[0]] = distance[now] + j[1]"
   ]
  },
  {
   "cell_type": "code",
   "execution_count": 14,
   "id": "e4a38f7a",
   "metadata": {},
   "outputs": [
    {
     "data": {
      "text/plain": [
       "[[], [(2, 1), (3, 3)], [(3, 1), (4, 5)], [(4, 2)], [], [(1, 1)]]"
      ]
     },
     "execution_count": 14,
     "metadata": {},
     "output_type": "execute_result"
    }
   ],
   "source": [
    "graph"
   ]
  },
  {
   "cell_type": "code",
   "execution_count": 15,
   "id": "1116c3d5",
   "metadata": {},
   "outputs": [
    {
     "name": "stdout",
     "output_type": "stream",
     "text": [
      "None\n",
      "[100000000.0, 0, 1, 2, 4, 100000000.0]\n"
     ]
    }
   ],
   "source": [
    "dijkstra(k)\n",
    "print(distance)"
   ]
  },
  {
   "cell_type": "code",
   "execution_count": null,
   "id": "2c4df2b1",
   "metadata": {},
   "outputs": [],
   "source": [
    "# heapq를 활용하여 구현\n",
    "n,m = map(int, input().split()) # n = 노드개수, m = 간선 개수\n",
    "k = int(input()) # 시작노드\n",
    "INF = 1e8 # inf를 큰 수로 설정\n",
    "\n",
    "graph = [[] for _ in range(n+1)] # 그래프에 대한 정보를 담는 list\n",
    "visited = [False] * (n+1) # 방문했는지의 여부를 확인하는 list\n",
    "distance = [INF] * (n+1) # 최단 거리 테이블\n",
    "\n",
    "# 그래프에 대한 정보를 입력\n",
    "for _ in range(m):\n",
    "    u,v,w = map(int, input().split()) # u = 출발노드, v = 도착노드, w = 연결된 간선의 가중치\n",
    "    graph[u].append((v,w)) # 출발노드는 index를 통해서 매칭하고 v,w를 입력\n",
    "\n",
    "import heapq\n",
    "def dijkstra(start):\n",
    "    q = []\n",
    "    heapq.heappush(q, (0,start))\n",
    "    distance[start] = 0\n",
    "    \n",
    "    while q:\n",
    "        dist, now = heapq.heappop(q)\n",
    "        \n",
    "        if distance[now] < dist:\n",
    "            continue\n",
    "        \n",
    "        for i in graph[now]:\n",
    "            if dist + i[1] < distance[i[0]]:\n",
    "                distance[i[0]] = dist + i[1]\n",
    "                heapq.heappush(q,(dist+ i[1],i[0]))\n",
    "dijkstra(k)\n",
    "print(distance)"
   ]
  },
  {
   "cell_type": "code",
   "execution_count": null,
   "id": "15ce9b66",
   "metadata": {},
   "outputs": [],
   "source": []
  },
  {
   "cell_type": "code",
   "execution_count": null,
   "id": "1f9b5e87",
   "metadata": {},
   "outputs": [],
   "source": []
  },
  {
   "cell_type": "code",
   "execution_count": null,
   "id": "d71ce643",
   "metadata": {},
   "outputs": [],
   "source": []
  },
  {
   "cell_type": "code",
   "execution_count": null,
   "id": "72de1be3",
   "metadata": {},
   "outputs": [],
   "source": []
  },
  {
   "cell_type": "code",
   "execution_count": null,
   "id": "88a3a89b",
   "metadata": {},
   "outputs": [],
   "source": []
  },
  {
   "cell_type": "code",
   "execution_count": null,
   "id": "56147eb0",
   "metadata": {},
   "outputs": [],
   "source": []
  },
  {
   "cell_type": "code",
   "execution_count": null,
   "id": "a6f3bb44",
   "metadata": {},
   "outputs": [],
   "source": []
  },
  {
   "cell_type": "code",
   "execution_count": null,
   "id": "89c2a81c",
   "metadata": {},
   "outputs": [],
   "source": []
  },
  {
   "cell_type": "code",
   "execution_count": null,
   "id": "0c035a10",
   "metadata": {},
   "outputs": [],
   "source": []
  },
  {
   "cell_type": "code",
   "execution_count": null,
   "id": "fb254c1d",
   "metadata": {},
   "outputs": [],
   "source": []
  },
  {
   "cell_type": "code",
   "execution_count": null,
   "id": "e6a1b290",
   "metadata": {},
   "outputs": [],
   "source": []
  },
  {
   "cell_type": "code",
   "execution_count": null,
   "id": "d3de23f9",
   "metadata": {},
   "outputs": [],
   "source": []
  }
 ],
 "metadata": {
  "kernelspec": {
   "display_name": "Python 3 (ipykernel)",
   "language": "python",
   "name": "python3"
  },
  "language_info": {
   "codemirror_mode": {
    "name": "ipython",
    "version": 3
   },
   "file_extension": ".py",
   "mimetype": "text/x-python",
   "name": "python",
   "nbconvert_exporter": "python",
   "pygments_lexer": "ipython3",
   "version": "3.11.5"
  }
 },
 "nbformat": 4,
 "nbformat_minor": 5
}
