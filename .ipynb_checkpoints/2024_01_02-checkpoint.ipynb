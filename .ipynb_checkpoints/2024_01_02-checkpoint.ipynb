{
 "cells": [
  {
   "cell_type": "code",
   "execution_count": null,
   "id": "2f4c0564",
   "metadata": {},
   "outputs": [],
   "source": [
    "# range 대신에 enumerate\n",
    "# 여러 이터레이터에 대해 나란히 루프를 수행하려면 zip을 사용하라\n",
    "# for 나 while문 뒤에 else 블록 사용 X\n",
    "# 대입식, 왈러스 연산자\n"
   ]
  }
 ],
 "metadata": {
  "kernelspec": {
   "display_name": "Python 3 (ipykernel)",
   "language": "python",
   "name": "python3"
  },
  "language_info": {
   "codemirror_mode": {
    "name": "ipython",
    "version": 3
   },
   "file_extension": ".py",
   "mimetype": "text/x-python",
   "name": "python",
   "nbconvert_exporter": "python",
   "pygments_lexer": "ipython3",
   "version": "3.11.5"
  }
 },
 "nbformat": 4,
 "nbformat_minor": 5
}
