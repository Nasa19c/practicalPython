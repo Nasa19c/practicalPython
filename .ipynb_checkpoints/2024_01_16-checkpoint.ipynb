{
 "cells": [
  {
   "cell_type": "code",
   "execution_count": null,
   "id": "f7909962",
   "metadata": {},
   "outputs": [],
   "source": [
    "# 백준 7785번 회사에 있는 사람"
   ]
  },
  {
   "cell_type": "code",
   "execution_count": 15,
   "id": "a7e926ac",
   "metadata": {},
   "outputs": [
    {
     "name": "stdout",
     "output_type": "stream",
     "text": [
      "4\n",
      "Baha enter\n",
      "Askar enter\n",
      "Baha leave\n",
      "Artem enter\n",
      "Askar\n",
      "Artem\n"
     ]
    }
   ],
   "source": [
    "n = int(input())\n",
    "dic = {}\n",
    "for _ in range(n):\n",
    "    k = input().split(' ')\n",
    "    if k[0] in dic and k[1] == 'leave':\n",
    "        dic[k[0]] = False\n",
    "    else:\n",
    "        dic[k[0]] = True\n",
    "\n",
    "for x in sorted(dic.keys(), reverse = True):\n",
    "    if dic[x] == True:\n",
    "        print(x)\n",
    "\n",
    "# 4072ms나 걸렸다...."
   ]
  },
  {
   "cell_type": "code",
   "execution_count": null,
   "id": "61b32ac6",
   "metadata": {},
   "outputs": [],
   "source": [
    "n = int(input())\n",
    "dic = {}\n",
    "for _ in range(n):\n",
    "    k = input().split(' ')\n",
    "    if k[0] in dic and k[1] == 'leave':\n",
    "        dic.pop(k[0])\n",
    "    else:\n",
    "        dic[k[0]] = True\n",
    "        \n",
    "for x in sorted(dic.keys(), reverse = True):\n",
    "    print(x)\n",
    "\n",
    "# 위에거나 이거나.. 시간은 비슷하구만..\n"
   ]
  },
  {
   "cell_type": "code",
   "execution_count": 13,
   "id": "765a04de",
   "metadata": {},
   "outputs": [
    {
     "name": "stdout",
     "output_type": "stream",
     "text": [
      "Askar\n",
      "Artem\n"
     ]
    }
   ],
   "source": []
  }
 ],
 "metadata": {
  "kernelspec": {
   "display_name": "Python 3 (ipykernel)",
   "language": "python",
   "name": "python3"
  },
  "language_info": {
   "codemirror_mode": {
    "name": "ipython",
    "version": 3
   },
   "file_extension": ".py",
   "mimetype": "text/x-python",
   "name": "python",
   "nbconvert_exporter": "python",
   "pygments_lexer": "ipython3",
   "version": "3.11.5"
  }
 },
 "nbformat": 4,
 "nbformat_minor": 5
}
