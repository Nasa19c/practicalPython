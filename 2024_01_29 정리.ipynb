{
 "cells": [
  {
   "cell_type": "code",
   "execution_count": 1,
   "id": "42654566",
   "metadata": {},
   "outputs": [],
   "source": [
    "# 어제 별로 한게 없긴하지만 저번에 해본것이었는데 까먹었길래..\n",
    "# 당연하게 한번 코드 봤다고 기억하는게 대단한 사람이긴하지만\n",
    "# 다음번에 보면 그래도 이번에 기억한거 보다는 더 기억에 남을 수 있도록 한번 정리를 해봄"
   ]
  },
  {
   "cell_type": "code",
   "execution_count": 2,
   "id": "d1f9dc34",
   "metadata": {},
   "outputs": [],
   "source": [
    "# leet 46\n",
    "# permutations\n",
    "# 쉽게 가는법은"
   ]
  },
  {
   "cell_type": "code",
   "execution_count": 3,
   "id": "cabeefe4",
   "metadata": {},
   "outputs": [],
   "source": [
    "import itertools"
   ]
  },
  {
   "cell_type": "code",
   "execution_count": 6,
   "id": "4a7504d3",
   "metadata": {},
   "outputs": [],
   "source": [
    "def permute_itertools(nums):\n",
    "    return list(itertools.permutations(nums))"
   ]
  },
  {
   "cell_type": "code",
   "execution_count": 8,
   "id": "a5053976",
   "metadata": {},
   "outputs": [
    {
     "data": {
      "text/plain": [
       "[(1, 2, 3), (1, 3, 2), (2, 1, 3), (2, 3, 1), (3, 1, 2), (3, 2, 1)]"
      ]
     },
     "execution_count": 8,
     "metadata": {},
     "output_type": "execute_result"
    }
   ],
   "source": [
    "nums = [1,2,3]\n",
    "permute_itertools(nums)"
   ]
  },
  {
   "cell_type": "code",
   "execution_count": 9,
   "id": "e2626bae",
   "metadata": {},
   "outputs": [],
   "source": [
    "# 이렇게 itertools를 사용하게 되면 참 쉽고 간편하게 가능하다..\n",
    "# 하지만 재귀와 관련된 것들이 아직 부족하기도 하고 순열문제가 아니더라도 이러한 그래프 문제를\n",
    "# 풀게 되었을 떄 아래의 방법을 사용하게 될 수도 있으니까 순열을 dfs로 푸는 방법도 적어본다."
   ]
  },
  {
   "cell_type": "code",
   "execution_count": 10,
   "id": "2675b7fc",
   "metadata": {},
   "outputs": [],
   "source": [
    "def permute_dfs(nums):\n",
    "    result = []\n",
    "    prev_elements = []\n",
    "    \n",
    "    def dfs(elements):\n",
    "        if len(elements)==0:\n",
    "            result.append(prev_elements[:])\n",
    "        \n",
    "        for e in elements:\n",
    "            next_elements = elements[:]\n",
    "            next_elements.remove(e)\n",
    "            \n",
    "            prev_elements.append(e)\n",
    "            dfs(next_elements)\n",
    "            prev_elements.pop()\n",
    "    \n",
    "    dfs(nums)\n",
    "    return result"
   ]
  },
  {
   "cell_type": "code",
   "execution_count": 11,
   "id": "6ec0dbda",
   "metadata": {},
   "outputs": [
    {
     "data": {
      "text/plain": [
       "[[1, 2, 3], [1, 3, 2], [2, 1, 3], [2, 3, 1], [3, 1, 2], [3, 2, 1]]"
      ]
     },
     "execution_count": 11,
     "metadata": {},
     "output_type": "execute_result"
    }
   ],
   "source": [
    "permute_dfs(nums)"
   ]
  },
  {
   "cell_type": "code",
   "execution_count": null,
   "id": "967574e3",
   "metadata": {},
   "outputs": [],
   "source": [
    "# 위의 방법을 설명하자면 다음과 같다.\n",
    "# elements는 주어진 리스트를 받는 객체이고 prev_elements는 path와 같이 길을 만들어서 3개의 요소가 들어와서 elements가 0이 되면 result에 넣어지는 역할을 한다.\n",
    "# next_elements는 for문이 돌아가는 동안에 해당 e를 제외한.. 아 설명하기가 어렵네.."
   ]
  },
  {
   "cell_type": "code",
   "execution_count": 12,
   "id": "d7945e84",
   "metadata": {},
   "outputs": [],
   "source": [
    "# 한번 dfs를 재귀구조로 표현한 방법을 찾아보았다."
   ]
  },
  {
   "cell_type": "code",
   "execution_count": null,
   "id": "81c3cd72",
   "metadata": {},
   "outputs": [],
   "source": [
    "def recursive_dfs(v, discovered = []):\n",
    "    discovered.append(v)\n",
    "    for w in graph[v]:\n",
    "        if w not in discovered:\n",
    "            discovered = recursive_dfs(w, discovered)\n",
    "    return discovered"
   ]
  },
  {
   "cell_type": "code",
   "execution_count": null,
   "id": "39c16ae7",
   "metadata": {},
   "outputs": [],
   "source": [
    "# 여기서 느낀것은 for 중첩문으로 코드를 짜고 거기에서 반복되는 for문을 하나의 함수로 만들어서 \n",
    "# 이를 재귀형태로 바꾸는 방식?? 으로 만들어야 할까? 라고 생각을 했다."
   ]
  },
  {
   "cell_type": "code",
   "execution_count": 13,
   "id": "ffdeb8dd",
   "metadata": {},
   "outputs": [],
   "source": [
    "# 조합도 똑같다..\n",
    "# leetcode 77 combinations"
   ]
  },
  {
   "cell_type": "code",
   "execution_count": 18,
   "id": "e3f5624b",
   "metadata": {},
   "outputs": [],
   "source": [
    "def comb_itertools(n,k):\n",
    "    return list(itertools.combinations([x for x in range(1,n+1)], k))"
   ]
  },
  {
   "cell_type": "code",
   "execution_count": 19,
   "id": "1ad69875",
   "metadata": {},
   "outputs": [
    {
     "data": {
      "text/plain": [
       "[(1, 2), (1, 3), (1, 4), (2, 3), (2, 4), (3, 4)]"
      ]
     },
     "execution_count": 19,
     "metadata": {},
     "output_type": "execute_result"
    }
   ],
   "source": [
    "comb_itertools(4,2)"
   ]
  },
  {
   "cell_type": "code",
   "execution_count": 20,
   "id": "9dd0606e",
   "metadata": {},
   "outputs": [],
   "source": [
    "# dfs를 이용하여 조합문제를 풀어본다고 한다면"
   ]
  },
  {
   "cell_type": "code",
   "execution_count": 3,
   "id": "95ad3740",
   "metadata": {},
   "outputs": [],
   "source": [
    "def comb_dfs(n,k):\n",
    "    result = []\n",
    "    \n",
    "    def dfs(elements, start, k):\n",
    "        if k==0:\n",
    "            result.append(elements[:])\n",
    "            return\n",
    "        \n",
    "        for i in range(start, n+1):\n",
    "            elements.append(i)\n",
    "            dfs(elements, i+1, k-1)\n",
    "            elements.pop()\n",
    "    \n",
    "    dfs([], 1, k)\n",
    "    return result"
   ]
  },
  {
   "cell_type": "code",
   "execution_count": 4,
   "id": "0b6e2236",
   "metadata": {},
   "outputs": [
    {
     "data": {
      "text/plain": [
       "[[1, 1],\n",
       " [1, 2],\n",
       " [1, 3],\n",
       " [1, 4],\n",
       " [2, 2],\n",
       " [2, 3],\n",
       " [2, 4],\n",
       " [3, 3],\n",
       " [3, 4],\n",
       " [4, 4]]"
      ]
     },
     "execution_count": 4,
     "metadata": {},
     "output_type": "execute_result"
    }
   ],
   "source": [
    "comb_dfs(4,2)"
   ]
  },
  {
   "cell_type": "code",
   "execution_count": null,
   "id": "b50c64ff",
   "metadata": {},
   "outputs": [],
   "source": [
    "# 이것도 위의 순열과 방식자체는 비슷하다.. 단지 위의 순열은 list가 주어짐에 반해 여기서는 \n",
    "# n,k이렇게 주어지고 range(1,n+1) 까지의 수에서 k개의 수를 조합으로 선택하는 문제여서\n",
    "# start와 n+1이 주어졌고 k가 재귀를 반복할때 마다 1씩줄어들어 0이 된다면 그때의 elements를 \n",
    "# result에 저장한다는 방식이다. 순열에서의 prev_elements를 여기서는 elements가 대신하는것으로 생각하면 된다."
   ]
  },
  {
   "cell_type": "code",
   "execution_count": null,
   "id": "feb39a6a",
   "metadata": {},
   "outputs": [],
   "source": []
  },
  {
   "cell_type": "code",
   "execution_count": null,
   "id": "ecf28ac6",
   "metadata": {},
   "outputs": [],
   "source": []
  },
  {
   "cell_type": "code",
   "execution_count": null,
   "id": "36c2fdd0",
   "metadata": {},
   "outputs": [],
   "source": []
  },
  {
   "cell_type": "code",
   "execution_count": null,
   "id": "68d97bb7",
   "metadata": {},
   "outputs": [],
   "source": []
  },
  {
   "cell_type": "code",
   "execution_count": null,
   "id": "8212c116",
   "metadata": {},
   "outputs": [],
   "source": []
  },
  {
   "cell_type": "code",
   "execution_count": null,
   "id": "86657ec1",
   "metadata": {},
   "outputs": [],
   "source": []
  }
 ],
 "metadata": {
  "kernelspec": {
   "display_name": "Python 3 (ipykernel)",
   "language": "python",
   "name": "python3"
  },
  "language_info": {
   "codemirror_mode": {
    "name": "ipython",
    "version": 3
   },
   "file_extension": ".py",
   "mimetype": "text/x-python",
   "name": "python",
   "nbconvert_exporter": "python",
   "pygments_lexer": "ipython3",
   "version": "3.11.5"
  }
 },
 "nbformat": 4,
 "nbformat_minor": 5
}
