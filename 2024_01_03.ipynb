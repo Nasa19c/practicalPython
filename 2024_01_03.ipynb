{
 "cells": [
  {
   "cell_type": "code",
   "execution_count": null,
   "id": "c3762c14",
   "metadata": {},
   "outputs": [],
   "source": [
    "# 시퀀스를 슬라이싱하는 방법을 익혀라\n",
    "# 스트라이드와 슬라이스를 한식이 사용 X\n",
    "# 슬라이싱보다는 나머지를 모두 잡아내는 언패킹사용(* 사용 확인)\n",
    "# 복잡한 기준을 사용해 정렬할때는 key 파라미터 사용"
   ]
  },
  {
   "cell_type": "code",
   "execution_count": 21,
   "id": "1a0a3726",
   "metadata": {},
   "outputs": [
    {
     "name": "stdout",
     "output_type": "stream",
     "text": [
      "1 2 [3, 4, 5, 6]\n"
     ]
    }
   ],
   "source": [
    "lst = [1,2,3,4,5,6]\n",
    "first, second, *other = lst\n",
    "print(first, second, other)"
   ]
  },
  {
   "cell_type": "code",
   "execution_count": 19,
   "id": "30ea2197",
   "metadata": {},
   "outputs": [
    {
     "data": {
      "text/plain": [
       "'4341458624'"
      ]
     },
     "execution_count": 19,
     "metadata": {},
     "output_type": "execute_result"
    }
   ],
   "source": [
    "a = '4341458624'\n",
    "a[:]"
   ]
  },
  {
   "cell_type": "code",
   "execution_count": 33,
   "id": "e203b9f3",
   "metadata": {},
   "outputs": [],
   "source": [
    "a = [x for x in range(5,0,-1)]\n",
    "b = ['a','b','c','d','e']\n",
    "tu = list(zip(a, b))"
   ]
  },
  {
   "cell_type": "code",
   "execution_count": 37,
   "id": "7aef2403",
   "metadata": {},
   "outputs": [
    {
     "name": "stdout",
     "output_type": "stream",
     "text": [
      "[(1, 'e'), (2, 'd'), (3, 'c'), (4, 'b'), (5, 'a')]\n",
      "[(5, 'a'), (4, 'b'), (3, 'c'), (2, 'd'), (1, 'e')]\n"
     ]
    }
   ],
   "source": [
    "print(sorted(tu,key = lambda x:x[0]))\n",
    "print(sorted(tu,key = lambda x:x[1]))"
   ]
  },
  {
   "cell_type": "code",
   "execution_count": null,
   "id": "8e06c239",
   "metadata": {},
   "outputs": [],
   "source": []
  },
  {
   "cell_type": "markdown",
   "id": "f687049d",
   "metadata": {},
   "source": [
    "### list comprehension"
   ]
  },
  {
   "cell_type": "code",
   "execution_count": 38,
   "id": "513b5294",
   "metadata": {},
   "outputs": [
    {
     "data": {
      "text/plain": [
       "[11, 12, 13]"
      ]
     },
     "execution_count": 38,
     "metadata": {},
     "output_type": "execute_result"
    }
   ],
   "source": [
    "list(map(lambda x: x+10,[1,2,3]))"
   ]
  },
  {
   "cell_type": "code",
   "execution_count": 45,
   "id": "4da3b0ed",
   "metadata": {},
   "outputs": [],
   "source": [
    "k = [n*2 for n in range(1,10+1) if n%2 ==1]"
   ]
  },
  {
   "cell_type": "code",
   "execution_count": 46,
   "id": "a61f843d",
   "metadata": {},
   "outputs": [],
   "source": [
    "# 위의 식을 풀어서 써보면\n",
    "result = []\n",
    "for n in range(1,10+1):\n",
    "    if n%2 == 1:\n",
    "        result.append(n*2)\n",
    "assert k == result"
   ]
  },
  {
   "cell_type": "code",
   "execution_count": 48,
   "id": "8b4c7bf9",
   "metadata": {},
   "outputs": [],
   "source": [
    "# pass\n",
    "class MyClass(object):\n",
    "    def method_a(self):\n",
    "        pass\n",
    "    \n",
    "    def method_b(self):\n",
    "        print('Methond B')\n",
    "c = MyClass()"
   ]
  },
  {
   "cell_type": "code",
   "execution_count": 55,
   "id": "c3eaeb20",
   "metadata": {},
   "outputs": [
    {
     "data": {
      "text/plain": [
       "[4, 3, 2, 1]"
      ]
     },
     "execution_count": 55,
     "metadata": {},
     "output_type": "execute_result"
    }
   ],
   "source": [
    "k = [1,2,2,1]\n",
    "k.reverse()\n",
    "k"
   ]
  },
  {
   "cell_type": "code",
   "execution_count": 1,
   "id": "982ba154",
   "metadata": {},
   "outputs": [
    {
     "name": "stdout",
     "output_type": "stream",
     "text": [
      "1,2,3,2,1\n",
      "True\n"
     ]
    }
   ],
   "source": [
    "lst = list(map(int, input().split(',')))\n",
    "\n",
    "def lst_palindrome(nums):\n",
    "    if nums == list(reversed(nums)):\n",
    "        return True\n",
    "    else:\n",
    "        return False\n",
    "print(lst_palindrome(lst))"
   ]
  },
  {
   "cell_type": "markdown",
   "id": "d1af627a",
   "metadata": {},
   "source": [
    "## palindrome"
   ]
  },
  {
   "cell_type": "code",
   "execution_count": 21,
   "id": "f83ee323",
   "metadata": {},
   "outputs": [],
   "source": [
    "# Palindrome 문제\n",
    "def is_palindrome(s):\n",
    "    if s == ' ':\n",
    "        return True\n",
    "    new_s = ''.join(filter(str.isalnum,s))\n",
    "    new_s_list = list(new_s.lower())\n",
    "    if new_s_list == list(reversed(new_s_list)):\n",
    "        return True\n",
    "    else:\n",
    "        return False\n",
    "\n",
    "# reversed를 하게 되면 "
   ]
  },
  {
   "cell_type": "code",
   "execution_count": 25,
   "id": "ab2964e9",
   "metadata": {},
   "outputs": [
    {
     "data": {
      "text/plain": [
       "False"
      ]
     },
     "execution_count": 25,
     "metadata": {},
     "output_type": "execute_result"
    }
   ],
   "source": [
    "t = \"A man, a plan, a canal: Panama\"\n",
    "t1 = \"race a car\"\n",
    "is_palindrome(t1)"
   ]
  },
  {
   "cell_type": "code",
   "execution_count": 38,
   "id": "13a89614",
   "metadata": {},
   "outputs": [],
   "source": [
    "# pop으로 할 수도 있네\n",
    "def is_palindrome_pop(s):\n",
    "    if s == ' ':\n",
    "        return True\n",
    "    new_s = ''.join(filter(str.isalnum,s))\n",
    "    new_s_list = list(new_s.lower())\n",
    "    while len(new_s_list) >1:\n",
    "        if new_s_list.pop(0) != new_s_list.pop():\n",
    "            return False\n",
    "    return True"
   ]
  },
  {
   "cell_type": "code",
   "execution_count": 41,
   "id": "10c3bac3",
   "metadata": {},
   "outputs": [
    {
     "data": {
      "text/plain": [
       "False"
      ]
     },
     "execution_count": 41,
     "metadata": {},
     "output_type": "execute_result"
    }
   ],
   "source": [
    "is_palindrome_pop(t1)"
   ]
  },
  {
   "cell_type": "code",
   "execution_count": 43,
   "id": "b64787e1",
   "metadata": {},
   "outputs": [],
   "source": [
    "import collections"
   ]
  },
  {
   "cell_type": "code",
   "execution_count": 46,
   "id": "d61ba05f",
   "metadata": {},
   "outputs": [],
   "source": [
    "def is_palindrome_deque(s):\n",
    "    strs: Deque = collections.deque()\n",
    "    for char in s:\n",
    "        if char.isalnum():\n",
    "            strs.append(char.lower())\n",
    "    while len(strs)>1:\n",
    "        if strs.popleft() != strs.pop():\n",
    "            return False\n",
    "    return True"
   ]
  },
  {
   "cell_type": "code",
   "execution_count": 48,
   "id": "b80ee8ab",
   "metadata": {},
   "outputs": [
    {
     "data": {
      "text/plain": [
       "True"
      ]
     },
     "execution_count": 48,
     "metadata": {},
     "output_type": "execute_result"
    }
   ],
   "source": [
    "is_palindrome_deque(t)"
   ]
  },
  {
   "cell_type": "code",
   "execution_count": null,
   "id": "b556965f",
   "metadata": {},
   "outputs": [],
   "source": []
  },
  {
   "cell_type": "markdown",
   "id": "dd5e70bf",
   "metadata": {},
   "source": [
    "## log 파일 재정렬(leetcode 937)\n",
    "- 로그의 가장 앞부분은 식별자다\n",
    "- 문자로 구성된 로그가 숫자 로그보다 앞에 온다.\n",
    "- 식별자는 순서에 영향을 끼치지 않지만, 문자가 동일한 경우 식별자 순으로 한다.\n",
    "- 숫자로그는 입력 순서대로 한다."
   ]
  },
  {
   "cell_type": "code",
   "execution_count": 62,
   "id": "f57fe3e7",
   "metadata": {},
   "outputs": [],
   "source": [
    "logs = [\"dig1 8 1 5 1\",\"let1 art can\",\"dig2 3 6\",\n",
    "        \"let2 own kit dig\",\"let3 art zero\"]"
   ]
  },
  {
   "cell_type": "code",
   "execution_count": 63,
   "id": "478e85fb",
   "metadata": {},
   "outputs": [],
   "source": [
    "def recordLogFile(logs):\n",
    "    letters, digits = [],[]\n",
    "    for log in logs:\n",
    "        if log.split()[1].isdigit():\n",
    "            digits.append(log)\n",
    "        else:\n",
    "            letters.append(log)\n",
    "    letters.sort(key = lambda x:(x.split()[1:],x.split()[0]))\n",
    "    return letters + digits\n",
    "\n",
    "# str.isdigit\n",
    "# ㄴ 문자열의 요소가 숫자인지를 확인하는 함수"
   ]
  },
  {
   "cell_type": "code",
   "execution_count": 64,
   "id": "941e2549",
   "metadata": {},
   "outputs": [
    {
     "data": {
      "text/plain": [
       "['let1 art can',\n",
       " 'let3 art zero',\n",
       " 'let2 own kit dig',\n",
       " 'dig1 8 1 5 1',\n",
       " 'dig2 3 6']"
      ]
     },
     "execution_count": 64,
     "metadata": {},
     "output_type": "execute_result"
    }
   ],
   "source": [
    "recordLogFile(logs)"
   ]
  },
  {
   "cell_type": "code",
   "execution_count": null,
   "id": "4b5f4a5d",
   "metadata": {},
   "outputs": [],
   "source": []
  },
  {
   "cell_type": "code",
   "execution_count": null,
   "id": "fda02612",
   "metadata": {},
   "outputs": [],
   "source": []
  },
  {
   "cell_type": "code",
   "execution_count": null,
   "id": "8cbc17f7",
   "metadata": {},
   "outputs": [],
   "source": []
  },
  {
   "cell_type": "code",
   "execution_count": null,
   "id": "fd3ece1f",
   "metadata": {},
   "outputs": [],
   "source": []
  },
  {
   "cell_type": "code",
   "execution_count": null,
   "id": "4d0f6bec",
   "metadata": {},
   "outputs": [],
   "source": []
  },
  {
   "cell_type": "code",
   "execution_count": null,
   "id": "21beeade",
   "metadata": {},
   "outputs": [],
   "source": []
  },
  {
   "cell_type": "code",
   "execution_count": null,
   "id": "51af8e04",
   "metadata": {},
   "outputs": [],
   "source": []
  },
  {
   "cell_type": "code",
   "execution_count": null,
   "id": "4a7cb7d6",
   "metadata": {},
   "outputs": [],
   "source": []
  }
 ],
 "metadata": {
  "kernelspec": {
   "display_name": "Python 3 (ipykernel)",
   "language": "python",
   "name": "python3"
  },
  "language_info": {
   "codemirror_mode": {
    "name": "ipython",
    "version": 3
   },
   "file_extension": ".py",
   "mimetype": "text/x-python",
   "name": "python",
   "nbconvert_exporter": "python",
   "pygments_lexer": "ipython3",
   "version": "3.11.5"
  }
 },
 "nbformat": 4,
 "nbformat_minor": 5
}
