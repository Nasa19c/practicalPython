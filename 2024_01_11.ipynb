{
 "cells": [
  {
   "cell_type": "code",
   "execution_count": null,
   "id": "a86ef7d4",
   "metadata": {},
   "outputs": [],
   "source": [
    "# Tree의 첫문제는 이진트리의 최대깊이를 구하는 문제..\n",
    "# 일단 base code"
   ]
  },
  {
   "cell_type": "code",
   "execution_count": 3,
   "id": "ed18dbc5",
   "metadata": {},
   "outputs": [],
   "source": [
    "import collections"
   ]
  },
  {
   "cell_type": "code",
   "execution_count": 13,
   "id": "f80bf751",
   "metadata": {},
   "outputs": [],
   "source": [
    "class Node:\n",
    "    def __init__(self, val, left = None, right = None):\n",
    "        self.val = val\n",
    "        self.left = left\n",
    "        self.right = right\n",
    "    \n",
    "    # 이건 input list를 tree로 변환해주는 코드.. 일단은..\n",
    "    def list_to_binary_tree(self, lst):\n",
    "        if not lst:\n",
    "            return None\n",
    "\n",
    "        nodes = [None if item is None else Node(item) for item in lst]\n",
    "        root = nodes[0]\n",
    "        if root is None:\n",
    "            return None\n",
    "\n",
    "        queue = [root]\n",
    "        i = 1\n",
    "        while queue:\n",
    "            current = queue.pop(0)\n",
    "\n",
    "            if current is not None:\n",
    "                current.left = nodes[i] if i < len(nodes) else None\n",
    "                current.right = nodes[i + 1] if i + 1 < len(nodes) else None\n",
    "                i += 2\n",
    "\n",
    "                queue.append(current.left)\n",
    "                queue.append(current.right)\n",
    "\n",
    "        return root\n",
    "    \n",
    "    \n",
    "class BinaryTree:\n",
    "    def __init__(self):\n",
    "        self.root = None\n",
    "    \n",
    "    \n",
    "    def preorder(self, node):\n",
    "        if not node:\n",
    "            return \n",
    "        print(node.val, end = ' ')\n",
    "        self.preorder(node.left)\n",
    "        self.preorder(node.right)\n",
    "    \n",
    "    def inorder(self, node):\n",
    "        if not node:\n",
    "            return\n",
    "        self.inorder(node.left)\n",
    "        print(node.val, end = ' ')\n",
    "        self.inorder(node.right)\n",
    "    \n",
    "    def postorder(self, node):\n",
    "        self.postorder(node.left)\n",
    "        self.postorder(node.right)\n",
    "        print(node.val, end = ' ')\n",
    "        \n",
    "        \n",
    "    def levelorder(self, root):\n",
    "        q = []\n",
    "        q.append(root)\n",
    "        while q:\n",
    "            t = q.pop(0)\n",
    "            print(str(t.val), end = ' ')\n",
    "            if t.left:\n",
    "                q.append(t.left)\n",
    "            if t.right:\n",
    "                q.append(t.right)\n",
    "    \n",
    "    def levelorder_deque(self, root):\n",
    "        q = collections.deque([root])\n",
    "        while q:\n",
    "            t = q.popleft()\n",
    "            print(str(t.val),end = ' ')\n",
    "            if t.left:\n",
    "                q.append(t.left)\n",
    "            if t.right:\n",
    "                q.append(t.right)\n",
    "        \n",
    "        \n",
    "    def height(self,root):\n",
    "        if root == None:\n",
    "            return 0\n",
    "        return max(self.height(root.left), self.height(root.right)) +1\n",
    "    \n",
    "            \n",
    "            "
   ]
  },
  {
   "cell_type": "code",
   "execution_count": 14,
   "id": "60d9d197",
   "metadata": {},
   "outputs": [
    {
     "name": "stdout",
     "output_type": "stream",
     "text": [
      "5 4 7 2 3 8 1 None\n"
     ]
    }
   ],
   "source": [
    "lst = [5,4,7,2,3,8,1]\n",
    "node = Node(0)\n",
    "root = node.list_to_binary_tree(lst)\n",
    "t = BinaryTree()\n",
    "result = t.levelorder_deque(root)\n",
    "print(result)"
   ]
  },
  {
   "cell_type": "code",
   "execution_count": null,
   "id": "3f08ec5b",
   "metadata": {},
   "outputs": [],
   "source": [
    "# 최대 깊이를 구하는 문제\n",
    "def maxDepth(root):\n",
    "    if not root:\n",
    "        return 0\n",
    "    queue = collections.deque([root])\n",
    "    depth = 0\n",
    "    \n",
    "    while queue:\n",
    "        depth +=1\n",
    "        for _ in range(len(queue)):\n",
    "            cur_root = queue.popleft()\n",
    "            if cur_root.left:\n",
    "                queue.append(cur_root.left)\n",
    "            if cur_root.right:\n",
    "                queue.append(cur_root.right)\n",
    "    return depth\n",
    "\n",
    "# dfs의 경우 스택을 이용하여, bfs의 경우 큐를 이용하여 구현할 수 있다."
   ]
  },
  {
   "cell_type": "code",
   "execution_count": null,
   "id": "019c0383",
   "metadata": {},
   "outputs": [],
   "source": []
  },
  {
   "cell_type": "code",
   "execution_count": null,
   "id": "2bf3241e",
   "metadata": {},
   "outputs": [],
   "source": []
  },
  {
   "cell_type": "code",
   "execution_count": null,
   "id": "3a691b8d",
   "metadata": {},
   "outputs": [],
   "source": []
  },
  {
   "cell_type": "code",
   "execution_count": null,
   "id": "f6b7cfc0",
   "metadata": {},
   "outputs": [],
   "source": []
  },
  {
   "cell_type": "code",
   "execution_count": null,
   "id": "676e6948",
   "metadata": {},
   "outputs": [],
   "source": []
  },
  {
   "cell_type": "code",
   "execution_count": null,
   "id": "a7fcd39d",
   "metadata": {},
   "outputs": [],
   "source": []
  },
  {
   "cell_type": "code",
   "execution_count": null,
   "id": "15c12a77",
   "metadata": {},
   "outputs": [],
   "source": []
  },
  {
   "cell_type": "code",
   "execution_count": null,
   "id": "3de38993",
   "metadata": {},
   "outputs": [],
   "source": []
  },
  {
   "cell_type": "code",
   "execution_count": null,
   "id": "aef22b2b",
   "metadata": {},
   "outputs": [],
   "source": []
  },
  {
   "cell_type": "code",
   "execution_count": null,
   "id": "ae8c9994",
   "metadata": {},
   "outputs": [],
   "source": []
  },
  {
   "cell_type": "code",
   "execution_count": null,
   "id": "39d3632d",
   "metadata": {},
   "outputs": [],
   "source": []
  }
 ],
 "metadata": {
  "kernelspec": {
   "display_name": "Python 3 (ipykernel)",
   "language": "python",
   "name": "python3"
  },
  "language_info": {
   "codemirror_mode": {
    "name": "ipython",
    "version": 3
   },
   "file_extension": ".py",
   "mimetype": "text/x-python",
   "name": "python",
   "nbconvert_exporter": "python",
   "pygments_lexer": "ipython3",
   "version": "3.11.5"
  }
 },
 "nbformat": 4,
 "nbformat_minor": 5
}
