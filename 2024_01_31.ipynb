{
 "cells": [
  {
   "cell_type": "code",
   "execution_count": null,
   "id": "33ea947a",
   "metadata": {},
   "outputs": [],
   "source": [
    "# 백준 2164번"
   ]
  },
  {
   "cell_type": "code",
   "execution_count": 8,
   "id": "3643f419",
   "metadata": {},
   "outputs": [
    {
     "name": "stdout",
     "output_type": "stream",
     "text": [
      "10\n",
      "8\n"
     ]
    }
   ],
   "source": [
    "s = int(input())\n",
    "if s%2 == 0:\n",
    "    if (s//2) %2 ==0:\n",
    "        print(s)\n",
    "    else:\n",
    "        print(s-2)\n",
    "else:\n",
    "    if (s//2) % 2 ==0:\n",
    "        print(2)\n",
    "    else:\n",
    "        print(s-1)"
   ]
  },
  {
   "cell_type": "code",
   "execution_count": 9,
   "id": "f1fe5940",
   "metadata": {},
   "outputs": [],
   "source": [
    "from collections import deque"
   ]
  },
  {
   "cell_type": "code",
   "execution_count": 15,
   "id": "65ed3246",
   "metadata": {},
   "outputs": [
    {
     "name": "stdout",
     "output_type": "stream",
     "text": [
      "7\n",
      "6\n"
     ]
    }
   ],
   "source": [
    "s = int(input())\n",
    "q = deque([i for i in range(1, s+1)])\n",
    "while len(q) != 1:\n",
    "    q.popleft()\n",
    "    \n",
    "    k = q[0]\n",
    "    q.popleft()\n",
    "    q.append(k)\n",
    "\n",
    "print(q[0])"
   ]
  },
  {
   "cell_type": "code",
   "execution_count": null,
   "id": "6d8fe62b",
   "metadata": {},
   "outputs": [],
   "source": [
    "# 처음엔 수학적인 규칙을 찾으려고 하다가 꽤나 복잡하게 나오는듯해서 \n",
    "# 그냥 문제에서 주어진 과정을 그대로 deque에 담아서 len(q)가 1이 될때까지 돌리고 나서 남은 수를 출력하는 방식으로 하였다."
   ]
  },
  {
   "cell_type": "code",
   "execution_count": 23,
   "id": "6b9bee19",
   "metadata": {},
   "outputs": [
    {
     "name": "stdout",
     "output_type": "stream",
     "text": [
      "2\n",
      "2\n"
     ]
    }
   ],
   "source": [
    "import math\n",
    "\n",
    "def find_last_card(N):\n",
    "    M = 2 ** math.floor(math.log2(N))\n",
    "    last_card = 2 * (N - M)\n",
    "    return last_card if last_card != 0 else N\n",
    "\n",
    "N=int(input())\n",
    "print(find_last_card(N))"
   ]
  },
  {
   "cell_type": "code",
   "execution_count": 22,
   "id": "1869d51f",
   "metadata": {},
   "outputs": [
    {
     "data": {
      "text/plain": [
       "2"
      ]
     },
     "execution_count": 22,
     "metadata": {},
     "output_type": "execute_result"
    }
   ],
   "source": [
    "# 이건 수학적으로 증명된 것을 통해 푼 문제.."
   ]
  },
  {
   "cell_type": "code",
   "execution_count": null,
   "id": "4c200f62",
   "metadata": {},
   "outputs": [],
   "source": []
  },
  {
   "cell_type": "code",
   "execution_count": 35,
   "id": "5b234ead",
   "metadata": {},
   "outputs": [
    {
     "name": "stdout",
     "output_type": "stream",
     "text": [
      "5\n"
     ]
    }
   ],
   "source": [
    "# factorial 문제..\n",
    "n = int(input())\n",
    "result = n\n",
    "def factorial(n):\n",
    "    global result\n",
    "    if n ==1:\n",
    "        return 1\n",
    "    result = result * factorial(n-1)"
   ]
  },
  {
   "cell_type": "code",
   "execution_count": 37,
   "id": "9cc41fb3",
   "metadata": {},
   "outputs": [
    {
     "ename": "TypeError",
     "evalue": "unsupported operand type(s) for *: 'int' and 'NoneType'",
     "output_type": "error",
     "traceback": [
      "\u001b[1;31m---------------------------------------------------------------------------\u001b[0m",
      "\u001b[1;31mTypeError\u001b[0m                                 Traceback (most recent call last)",
      "Cell \u001b[1;32mIn[37], line 1\u001b[0m\n\u001b[1;32m----> 1\u001b[0m factorial(\u001b[38;5;241m5\u001b[39m)\n",
      "Cell \u001b[1;32mIn[35], line 8\u001b[0m, in \u001b[0;36mfactorial\u001b[1;34m(n)\u001b[0m\n\u001b[0;32m      6\u001b[0m \u001b[38;5;28;01mif\u001b[39;00m n \u001b[38;5;241m==\u001b[39m\u001b[38;5;241m1\u001b[39m:\n\u001b[0;32m      7\u001b[0m     \u001b[38;5;28;01mreturn\u001b[39;00m \u001b[38;5;241m1\u001b[39m\n\u001b[1;32m----> 8\u001b[0m result \u001b[38;5;241m=\u001b[39m result \u001b[38;5;241m*\u001b[39m factorial(n\u001b[38;5;241m-\u001b[39m\u001b[38;5;241m1\u001b[39m)\n",
      "Cell \u001b[1;32mIn[35], line 8\u001b[0m, in \u001b[0;36mfactorial\u001b[1;34m(n)\u001b[0m\n\u001b[0;32m      6\u001b[0m \u001b[38;5;28;01mif\u001b[39;00m n \u001b[38;5;241m==\u001b[39m\u001b[38;5;241m1\u001b[39m:\n\u001b[0;32m      7\u001b[0m     \u001b[38;5;28;01mreturn\u001b[39;00m \u001b[38;5;241m1\u001b[39m\n\u001b[1;32m----> 8\u001b[0m result \u001b[38;5;241m=\u001b[39m result \u001b[38;5;241m*\u001b[39m factorial(n\u001b[38;5;241m-\u001b[39m\u001b[38;5;241m1\u001b[39m)\n",
      "Cell \u001b[1;32mIn[35], line 8\u001b[0m, in \u001b[0;36mfactorial\u001b[1;34m(n)\u001b[0m\n\u001b[0;32m      6\u001b[0m \u001b[38;5;28;01mif\u001b[39;00m n \u001b[38;5;241m==\u001b[39m\u001b[38;5;241m1\u001b[39m:\n\u001b[0;32m      7\u001b[0m     \u001b[38;5;28;01mreturn\u001b[39;00m \u001b[38;5;241m1\u001b[39m\n\u001b[1;32m----> 8\u001b[0m result \u001b[38;5;241m=\u001b[39m result \u001b[38;5;241m*\u001b[39m factorial(n\u001b[38;5;241m-\u001b[39m\u001b[38;5;241m1\u001b[39m)\n",
      "\u001b[1;31mTypeError\u001b[0m: unsupported operand type(s) for *: 'int' and 'NoneType'"
     ]
    }
   ],
   "source": [
    "factorial(5)"
   ]
  },
  {
   "cell_type": "code",
   "execution_count": 49,
   "id": "e692f42f",
   "metadata": {},
   "outputs": [
    {
     "name": "stdout",
     "output_type": "stream",
     "text": [
      "10\n",
      "3628800\n"
     ]
    }
   ],
   "source": [
    "n = int(input())\n",
    "result = 1\n",
    "for i in range(1,n+1):\n",
    "    result = result * i\n",
    "print(result)"
   ]
  },
  {
   "cell_type": "code",
   "execution_count": null,
   "id": "92d4f290",
   "metadata": {},
   "outputs": [],
   "source": [
    "# 이걸 재귀로 풀고싶어.."
   ]
  },
  {
   "cell_type": "code",
   "execution_count": 64,
   "id": "61f0ef37",
   "metadata": {},
   "outputs": [
    {
     "name": "stdout",
     "output_type": "stream",
     "text": [
      "0\n",
      "1\n"
     ]
    }
   ],
   "source": [
    "n = int(input())\n",
    "def factorial(n):\n",
    "    if n==1:\n",
    "        return 1\n",
    "    if n ==0:\n",
    "        return 1\n",
    "    return n*factorial(n-1)\n",
    "print(factorial(n))"
   ]
  },
  {
   "cell_type": "code",
   "execution_count": null,
   "id": "844e2ac9",
   "metadata": {},
   "outputs": [],
   "source": [
    "# 재귀 연습좀 해야하겠는데"
   ]
  }
 ],
 "metadata": {
  "kernelspec": {
   "display_name": "Python 3 (ipykernel)",
   "language": "python",
   "name": "python3"
  },
  "language_info": {
   "codemirror_mode": {
    "name": "ipython",
    "version": 3
   },
   "file_extension": ".py",
   "mimetype": "text/x-python",
   "name": "python",
   "nbconvert_exporter": "python",
   "pygments_lexer": "ipython3",
   "version": "3.11.5"
  }
 },
 "nbformat": 4,
 "nbformat_minor": 5
}
