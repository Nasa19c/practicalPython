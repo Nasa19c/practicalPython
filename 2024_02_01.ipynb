{
 "cells": [
  {
   "cell_type": "code",
   "execution_count": 1,
   "id": "98f38fb6",
   "metadata": {},
   "outputs": [],
   "source": [
    "# 피보나치 수열"
   ]
  },
  {
   "cell_type": "code",
   "execution_count": null,
   "id": "a938bd8f",
   "metadata": {},
   "outputs": [],
   "source": [
    "n = int(input())\n",
    "def pibonachi(n):\n",
    "    if n==0:\n",
    "        return 0\n",
    "    return 1 + pibonachi(n-1)"
   ]
  },
  {
   "cell_type": "code",
   "execution_count": 11,
   "id": "c6c1fcd0",
   "metadata": {},
   "outputs": [
    {
     "name": "stdout",
     "output_type": "stream",
     "text": [
      "10\n",
      "55\n"
     ]
    }
   ],
   "source": [
    "s = int(input())\n",
    "\n",
    "def pibonachi(n):\n",
    "    prev = 0\n",
    "    crnt = 1\n",
    "    if n ==0:\n",
    "        return 0\n",
    "    for _ in range(n-1):\n",
    "        tmp = crnt\n",
    "        crnt = prev + crnt\n",
    "        prev = tmp\n",
    "    return crnt\n",
    "print(pibonachi(s))"
   ]
  },
  {
   "cell_type": "code",
   "execution_count": 16,
   "id": "1ea850d4",
   "metadata": {},
   "outputs": [
    {
     "name": "stdout",
     "output_type": "stream",
     "text": [
      "0\n"
     ]
    }
   ],
   "source": [
    "def fibonachi(n):\n",
    "    if n ==0:\n",
    "        return 0\n",
    "    if n<=2:\n",
    "        return 1\n",
    "    else:\n",
    "        return fibonachi(n-1) + fibonachi(n-2)\n",
    "print(fibonachi(0))"
   ]
  },
  {
   "cell_type": "code",
   "execution_count": null,
   "id": "ace827dd",
   "metadata": {},
   "outputs": [],
   "source": [
    "# 허 재귀 안에서 일어나는 상황이 어떤건지 모르니까 어떻게 코드를 짜야할지 모르겠네.."
   ]
  },
  {
   "cell_type": "code",
   "execution_count": null,
   "id": "2b416020",
   "metadata": {},
   "outputs": [],
   "source": []
  },
  {
   "cell_type": "code",
   "execution_count": 28,
   "id": "fe9ff786",
   "metadata": {},
   "outputs": [
    {
     "name": "stdout",
     "output_type": "stream",
     "text": [
      "[[2, 2, 3], [7]]\n"
     ]
    }
   ],
   "source": [
    "candidates = [2,3,6,7]\n",
    "target = 7\n",
    "result = []\n",
    "\n",
    "def dfs(path,start):\n",
    "    if sum(path) == 7:\n",
    "        result.append(path[:])\n",
    "        return\n",
    "    \n",
    "    if sum(path) > 7:\n",
    "        return\n",
    "    \n",
    "    for i in range(start, len(candidates)):\n",
    "        path.append(candidates[i])\n",
    "        dfs(path,i)\n",
    "        path.pop()\n",
    "dfs([],0)\n",
    "print(result)"
   ]
  },
  {
   "cell_type": "code",
   "execution_count": null,
   "id": "10355188",
   "metadata": {},
   "outputs": [],
   "source": [
    "# 허.. 순열 재귀함수와 조합 재귀함수를 활용하여 만든 첫 자체 재귀함수..\n",
    "# 순열만 썼다가 [2,2,3],[2,3,2],[3,2,2] 모두 나와버려서 아 조합도 넣어야겠구나를 결정하게됨\n",
    "# 조합이 있으려면 range에서 시작점이 매번 달라져야함. 따라서 start를 지정"
   ]
  },
  {
   "cell_type": "code",
   "execution_count": null,
   "id": "4e80cded",
   "metadata": {},
   "outputs": [],
   "source": []
  },
  {
   "cell_type": "code",
   "execution_count": 29,
   "id": "6266cef2",
   "metadata": {},
   "outputs": [],
   "source": [
    "def merge(intervals):\n",
    "    merged = []\n",
    "    for i in sorted(intervals, key = lambda x: x[0]):\n",
    "        if merged and i[0] <= merged[-1][1]:\n",
    "            merged[-1][1] = max(merged[-1][1],i[1])\n",
    "        else:\n",
    "            merged +=i,\n",
    "    return merged"
   ]
  },
  {
   "cell_type": "code",
   "execution_count": null,
   "id": "5106a3e4",
   "metadata": {},
   "outputs": [],
   "source": []
  },
  {
   "cell_type": "code",
   "execution_count": null,
   "id": "8c3b6cb5",
   "metadata": {},
   "outputs": [],
   "source": []
  }
 ],
 "metadata": {
  "kernelspec": {
   "display_name": "Python 3 (ipykernel)",
   "language": "python",
   "name": "python3"
  },
  "language_info": {
   "codemirror_mode": {
    "name": "ipython",
    "version": 3
   },
   "file_extension": ".py",
   "mimetype": "text/x-python",
   "name": "python",
   "nbconvert_exporter": "python",
   "pygments_lexer": "ipython3",
   "version": "3.11.5"
  }
 },
 "nbformat": 4,
 "nbformat_minor": 5
}
