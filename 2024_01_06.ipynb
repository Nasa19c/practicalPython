{
 "cells": [
  {
   "cell_type": "code",
   "execution_count": 3,
   "id": "456fbe59",
   "metadata": {},
   "outputs": [
    {
     "name": "stdout",
     "output_type": "stream",
     "text": [
      "ObjectOrientedProgramming1 3.0 A+\n",
      "IntroductiontoComputerEngineering 3.0 A+\n",
      "ObjectOrientedProgramming2 3.0 A0\n",
      "CreativeComputerEngineeringDesign 3.0 A+\n",
      "AssemblyLanguage 3.0 A+\n"
     ]
    }
   ],
   "source": [
    "mode = []\n",
    "for _ in range(5):\n",
    "    mode.append(list(input().split(' '))[1:])"
   ]
  },
  {
   "cell_type": "code",
   "execution_count": 4,
   "id": "de895b05",
   "metadata": {},
   "outputs": [
    {
     "data": {
      "text/plain": [
       "[['3.0', 'A+'], ['3.0', 'A+'], ['3.0', 'A0'], ['3.0', 'A+'], ['3.0', 'A+']]"
      ]
     },
     "execution_count": 4,
     "metadata": {},
     "output_type": "execute_result"
    }
   ],
   "source": [
    "mode"
   ]
  },
  {
   "cell_type": "code",
   "execution_count": null,
   "id": "b450b3a4",
   "metadata": {},
   "outputs": [],
   "source": [
    "for i,x in enumerate(mode):\n",
    "    if x[1] == 'A+':\n",
    "        x = float(x[0]) * 4.5\n",
    "    elif x[1] == 'A':\n",
    "        x = float(x[0]) * 4.0\n",
    "    elif x[1] == 'B':\n",
    "        x = float(x[0]) * 3.5\n",
    "    elif x[1] == 'B':\n",
    "        x = float(x[0]) * 3.5\n",
    "    "
   ]
  },
  {
   "cell_type": "code",
   "execution_count": 12,
   "id": "03972e31",
   "metadata": {},
   "outputs": [],
   "source": [
    "grade = ['A+','A0','B+','B0','C+','C0','D+','D0','F']\n",
    "point = [4.5,4.0,3.5,3.0,2.5,2.0,1.5,1.0,0]\n",
    "dic = dict(zip(grade,point))\n",
    "lst = []\n",
    "al = 0\n",
    "for i,x in enumerate(mode):\n",
    "    if x[1] == 'P':\n",
    "        continue\n",
    "    lst.append(float(x[0])*dic[x[1]])\n",
    "    al += float(x[0])"
   ]
  },
  {
   "cell_type": "code",
   "execution_count": 14,
   "id": "c9ac04e3",
   "metadata": {},
   "outputs": [
    {
     "data": {
      "text/plain": [
       "4.4"
      ]
     },
     "execution_count": 14,
     "metadata": {},
     "output_type": "execute_result"
    }
   ],
   "source": [
    "sum(lst)/al"
   ]
  },
  {
   "cell_type": "code",
   "execution_count": 15,
   "id": "df9c0f11",
   "metadata": {},
   "outputs": [
    {
     "name": "stdout",
     "output_type": "stream",
     "text": [
      "ProblemSolving 4.0 P\n",
      "ObjectOrientedProgramming1 3.0 A+\n",
      "IntroductiontoComputerEngineering 3.0 A+\n",
      "CreativeComputerEngineeringDesign 3.0 A+\n",
      "AssemblyLanguage 3.0 A+\n"
     ]
    },
    {
     "data": {
      "text/plain": [
       "4.5"
      ]
     },
     "execution_count": 15,
     "metadata": {},
     "output_type": "execute_result"
    }
   ],
   "source": [
    "mode = []\n",
    "for _ in range(20):\n",
    "    mode.append(list(input().split(' '))[1:])\n",
    "grade = ['A+','A0','B+','B0','C+','C0','D+','D0','F']\n",
    "point = [4.5,4.0,3.5,3.0,2.5,2.0,1.5,1.0,0]\n",
    "dic = dict(zip(grade,point))\n",
    "lst = []\n",
    "al = 0\n",
    "for i,x in enumerate(mode):\n",
    "    if x[1] == 'P':\n",
    "        continue\n",
    "    lst.append(float(x[0])*dic[x[1]])\n",
    "    al += float(x[0])\n",
    "print(sum(lst)/al)"
   ]
  },
  {
   "cell_type": "code",
   "execution_count": null,
   "id": "cad75aad",
   "metadata": {},
   "outputs": [],
   "source": []
  },
  {
   "cell_type": "code",
   "execution_count": 16,
   "id": "a16f8b15",
   "metadata": {},
   "outputs": [],
   "source": [
    "# 브루트포스"
   ]
  },
  {
   "cell_type": "code",
   "execution_count": 32,
   "id": "32deadc3",
   "metadata": {},
   "outputs": [
    {
     "name": "stdout",
     "output_type": "stream",
     "text": [
      "10 100\n",
      "50 50 50 50 50 50 50 50 50 50\n",
      "0\n"
     ]
    }
   ],
   "source": [
    "# 블랙잭\n",
    "a,b  = map(int, input().split())\n",
    "lst1 = sorted(list(map(int, input().split())))\n",
    "if len(lst1)  == 3:\n",
    "    print(sum(lst1))\n",
    "max_sum = 0\n",
    "for x in range(len(lst1)-2):\n",
    "    i, j = x+1, len(lst1)-1\n",
    "    while i<j:\n",
    "        trisum = lst1[x] + lst1[i] + lst1[j]\n",
    "        if trisum > b:\n",
    "            j -= 1\n",
    "        elif trisum <= b:\n",
    "            max_sum = max(max_sum, trisum)\n",
    "            i +=1\n",
    "print(max_sum)"
   ]
  },
  {
   "cell_type": "code",
   "execution_count": 29,
   "id": "a55398ee",
   "metadata": {},
   "outputs": [
    {
     "name": "stdout",
     "output_type": "stream",
     "text": [
      "21\n"
     ]
    }
   ],
   "source": [
    "max_sum = 0\n",
    "for x in range(len(lst1)-2):\n",
    "    i, j = x+1, len(lst1)-1\n",
    "    while i<j:\n",
    "        trisum = lst1[x] + lst1[i] + lst1[j]\n",
    "        if trisum > b:\n",
    "            j -= 1\n",
    "        elif trisum <= b:\n",
    "            max_sum = max(max_sum, trisum)\n",
    "            i +=1\n",
    "print(max_sum)"
   ]
  },
  {
   "cell_type": "code",
   "execution_count": 19,
   "id": "83f489df",
   "metadata": {},
   "outputs": [
    {
     "name": "stdout",
     "output_type": "stream",
     "text": [
      "5 21\n",
      "5 6 7 8 9\n",
      "21\n"
     ]
    }
   ],
   "source": [
    "import itertools\n",
    "N,M = map(int, input().split())\n",
    "card_num = list(map(int, input().split()))\n",
    "\n",
    "combi_sum = [sum(combi) for combi in itertools.combinations(card_num, 3) if sum(combi)<=M]\n",
    "\n",
    "print(max(combi_sum))"
   ]
  },
  {
   "cell_type": "code",
   "execution_count": 26,
   "id": "f38cd816",
   "metadata": {},
   "outputs": [
    {
     "name": "stdout",
     "output_type": "stream",
     "text": [
      "15\n",
      "15\n",
      "15\n",
      "15\n",
      "15\n",
      "15\n",
      "15\n",
      "15\n",
      "15\n",
      "15\n",
      "15\n",
      "15\n",
      "15\n",
      "15\n",
      "15\n",
      "15\n",
      "15\n",
      "15\n",
      "15\n",
      "15\n",
      "15\n",
      "15\n",
      "15\n",
      "15\n",
      "15\n",
      "15\n",
      "15\n",
      "15\n",
      "15\n",
      "15\n",
      "15\n",
      "15\n",
      "15\n",
      "15\n",
      "15\n",
      "15\n",
      "15\n",
      "15\n",
      "15\n",
      "15\n",
      "15\n",
      "15\n",
      "15\n",
      "15\n",
      "15\n",
      "15\n",
      "15\n",
      "15\n",
      "15\n",
      "15\n",
      "15\n",
      "15\n",
      "15\n",
      "15\n",
      "15\n",
      "15\n",
      "15\n",
      "15\n",
      "15\n",
      "15\n",
      "15\n",
      "15\n",
      "15\n",
      "15\n",
      "15\n",
      "15\n",
      "15\n",
      "15\n",
      "15\n",
      "15\n",
      "15\n",
      "15\n",
      "15\n",
      "15\n",
      "15\n",
      "15\n",
      "15\n",
      "15\n",
      "15\n",
      "15\n",
      "15\n",
      "15\n",
      "15\n",
      "15\n",
      "15\n",
      "15\n",
      "15\n",
      "15\n",
      "15\n",
      "15\n",
      "15\n",
      "15\n",
      "15\n",
      "15\n",
      "15\n",
      "15\n",
      "15\n",
      "15\n",
      "15\n",
      "15\n",
      "15\n",
      "15\n",
      "15\n",
      "15\n",
      "15\n",
      "15\n",
      "15\n",
      "15\n",
      "15\n",
      "15\n",
      "15\n",
      "15\n",
      "15\n",
      "15\n",
      "15\n",
      "15\n",
      "15\n",
      "15\n",
      "15\n",
      "15\n"
     ]
    }
   ],
   "source": [
    "# itertools 사용하는 법에 대해 알아봐야겠네\n",
    "from itertools import permutations\n",
    "\n",
    "items = [1,2,3,4,5]\n",
    "perm = permutations(items)\n",
    "for p in perm:\n",
    "    print(sum(p))\n",
    "\n",
    "# 순열 구하는 itertools"
   ]
  },
  {
   "cell_type": "code",
   "execution_count": 28,
   "id": "e895daee",
   "metadata": {},
   "outputs": [
    {
     "name": "stdout",
     "output_type": "stream",
     "text": [
      "6\n",
      "7\n",
      "8\n",
      "8\n",
      "9\n",
      "10\n",
      "9\n",
      "10\n",
      "11\n",
      "12\n"
     ]
    }
   ],
   "source": [
    "# 조합 구하는 itertools \n",
    "from itertools import combinations\n",
    "\n",
    "comb = combinations(items,3)\n",
    "for c in comb:\n",
    "    print(sum(c))"
   ]
  },
  {
   "cell_type": "code",
   "execution_count": 49,
   "id": "1ac9ace5",
   "metadata": {},
   "outputs": [
    {
     "name": "stdout",
     "output_type": "stream",
     "text": [
      "[[-1, -1, 2], [-1, 0, 1]]\n"
     ]
    }
   ],
   "source": [
    "from itertools import combinations\n",
    "\n",
    "nums = [-1,0,1,2,-1,-4]\n",
    "res = []\n",
    "for comb in combinations(sorted(nums),3):\n",
    "    if sum(comb) == 0:\n",
    "        if list(comb) not in res:\n",
    "            res.append(list(comb))\n",
    "print(res)\n",
    "# itertools로 푸니까 time exceed 나더라..\n",
    "# 투 포인트로 풀면됨.."
   ]
  },
  {
   "cell_type": "code",
   "execution_count": null,
   "id": "c077b058",
   "metadata": {},
   "outputs": [],
   "source": [
    "# 39 combination sum\n",
    "def combinationSum(candidates, target):\n",
    "    result = []\n",
    "    def dfs(csum, index, path):\n",
    "        if csum < 0:\n",
    "            return\n",
    "        if csum == 0:\n",
    "            result.append(path)\n",
    "            return\n",
    "        for i in range(index, len(candidates)):\n",
    "            dfs(csum - candidates[i],i,path + [candidates[i]])\n",
    "    dfs(target, 0,[])\n",
    "    return result\n"
   ]
  },
  {
   "cell_type": "code",
   "execution_count": null,
   "id": "2ec09dc5",
   "metadata": {},
   "outputs": [],
   "source": [
    "# 모든 부분집합을 리턴하라\n",
    "def subsets(nums):\n",
    "    result =[]\n",
    "    \n",
    "    def dfs(index, path):\n",
    "        result.append(path)\n",
    "        \n",
    "        for i in range(index, len(nums)):\n",
    "            dfs(i+1, path + [nums[i]])\n",
    "    \n",
    "    dfs(0,[])\n",
    "    return result"
   ]
  },
  {
   "cell_type": "code",
   "execution_count": 60,
   "id": "fef9f420",
   "metadata": {},
   "outputs": [],
   "source": [
    "# 일정 재구성\n",
    "tickets = [[\"MUC\",\"LHR\"],[\"JFK\",\"MUC\"],[\"SFO\",\"SJC\"],[\"LHR\",\"SFO\"]]\n",
    "path = []\n",
    "ticket = sorted(tickets, key = lambda x:x[1])\n",
    "ticket\n",
    "# path = [x for i,x in enumerate(ticket) if x[0] == 'JFK'][0]\n",
    "for i,x in enumerate(ticket):\n",
    "    if x[0] == 'JFK':\n",
    "        path = x\n",
    "        ticket.pop(i)\n",
    "\n",
    "for i,x in enumerate(ticket):\n",
    "    if x[0] == path[1]:\n",
    "        path.append(x[1])\n",
    "        ticket.pop(i)\n",
    "\n",
    "    ..."
   ]
  },
  {
   "cell_type": "code",
   "execution_count": 75,
   "id": "e47253c3",
   "metadata": {},
   "outputs": [],
   "source": [
    "def find_path_mine(tickets):\n",
    "    path = ['JFK']\n",
    "    ticket = sorted(tickets, key = lambda x:x[1])\n",
    "    def dfs(path, ticket):\n",
    "        for i,x in enumerate(ticket):\n",
    "            if x[0] == path[-1]:\n",
    "                path.append(x[1])\n",
    "                ticket.pop(i)\n",
    "            else:\n",
    "                continue\n",
    "        if len(ticket) ==0:\n",
    "            return\n",
    "        dfs(path, ticket)\n",
    "    dfs(path, tickets)\n",
    "    return path"
   ]
  },
  {
   "cell_type": "code",
   "execution_count": 71,
   "id": "4d2b8012",
   "metadata": {},
   "outputs": [],
   "source": [
    "def find_path(tickets):\n",
    "    path = ['JFK']\n",
    "    def dfs(path, ticket):\n",
    "        candidates = [i for i, x in enumerate(ticket) if x[0] == path[-1]]\n",
    "        for i in candidates:\n",
    "            next_ticket = ticket[:i] + ticket[i+1:]\n",
    "            path.append(ticket[i][1])\n",
    "            dfs(path, next_ticket)\n",
    "            if len(path) == len(tickets) + 1:  # 경로가 완성되면 함수 종료\n",
    "                return path\n",
    "\n",
    "    result = dfs(path, tickets)\n",
    "    return result\n"
   ]
  },
  {
   "cell_type": "code",
   "execution_count": 74,
   "id": "4557b060",
   "metadata": {},
   "outputs": [
    {
     "ename": "RecursionError",
     "evalue": "maximum recursion depth exceeded",
     "output_type": "error",
     "traceback": [
      "\u001b[1;31m---------------------------------------------------------------------------\u001b[0m",
      "\u001b[1;31mRecursionError\u001b[0m                            Traceback (most recent call last)",
      "Cell \u001b[1;32mIn[74], line 2\u001b[0m\n\u001b[0;32m      1\u001b[0m tickets \u001b[38;5;241m=\u001b[39m [[\u001b[38;5;124m\"\u001b[39m\u001b[38;5;124mJFK\u001b[39m\u001b[38;5;124m\"\u001b[39m,\u001b[38;5;124m\"\u001b[39m\u001b[38;5;124mSFO\u001b[39m\u001b[38;5;124m\"\u001b[39m],[\u001b[38;5;124m\"\u001b[39m\u001b[38;5;124mJFK\u001b[39m\u001b[38;5;124m\"\u001b[39m,\u001b[38;5;124m\"\u001b[39m\u001b[38;5;124mATL\u001b[39m\u001b[38;5;124m\"\u001b[39m],[\u001b[38;5;124m\"\u001b[39m\u001b[38;5;124mSFO\u001b[39m\u001b[38;5;124m\"\u001b[39m,\u001b[38;5;124m\"\u001b[39m\u001b[38;5;124mATL\u001b[39m\u001b[38;5;124m\"\u001b[39m],[\u001b[38;5;124m\"\u001b[39m\u001b[38;5;124mATL\u001b[39m\u001b[38;5;124m\"\u001b[39m,\u001b[38;5;124m\"\u001b[39m\u001b[38;5;124mJFK\u001b[39m\u001b[38;5;124m\"\u001b[39m],[\u001b[38;5;124m\"\u001b[39m\u001b[38;5;124mATL\u001b[39m\u001b[38;5;124m\"\u001b[39m,\u001b[38;5;124m\"\u001b[39m\u001b[38;5;124mSFO\u001b[39m\u001b[38;5;124m\"\u001b[39m]]\n\u001b[1;32m----> 2\u001b[0m find_path_mine(tickets)\n",
      "Cell \u001b[1;32mIn[73], line 14\u001b[0m, in \u001b[0;36mfind_path_mine\u001b[1;34m(tickets)\u001b[0m\n\u001b[0;32m     12\u001b[0m         \u001b[38;5;28;01mreturn\u001b[39;00m\n\u001b[0;32m     13\u001b[0m     dfs(path, ticket)\n\u001b[1;32m---> 14\u001b[0m dfs(path, tickets)\n\u001b[0;32m     15\u001b[0m \u001b[38;5;28;01mreturn\u001b[39;00m path\n",
      "Cell \u001b[1;32mIn[73], line 13\u001b[0m, in \u001b[0;36mfind_path_mine.<locals>.dfs\u001b[1;34m(path, ticket)\u001b[0m\n\u001b[0;32m     11\u001b[0m \u001b[38;5;28;01mif\u001b[39;00m \u001b[38;5;28mlen\u001b[39m(ticket) \u001b[38;5;241m==\u001b[39m\u001b[38;5;241m0\u001b[39m:\n\u001b[0;32m     12\u001b[0m     \u001b[38;5;28;01mreturn\u001b[39;00m\n\u001b[1;32m---> 13\u001b[0m dfs(path, ticket)\n",
      "Cell \u001b[1;32mIn[73], line 13\u001b[0m, in \u001b[0;36mfind_path_mine.<locals>.dfs\u001b[1;34m(path, ticket)\u001b[0m\n\u001b[0;32m     11\u001b[0m \u001b[38;5;28;01mif\u001b[39;00m \u001b[38;5;28mlen\u001b[39m(ticket) \u001b[38;5;241m==\u001b[39m\u001b[38;5;241m0\u001b[39m:\n\u001b[0;32m     12\u001b[0m     \u001b[38;5;28;01mreturn\u001b[39;00m\n\u001b[1;32m---> 13\u001b[0m dfs(path, ticket)\n",
      "    \u001b[1;31m[... skipping similar frames: find_path_mine.<locals>.dfs at line 13 (2970 times)]\u001b[0m\n",
      "Cell \u001b[1;32mIn[73], line 13\u001b[0m, in \u001b[0;36mfind_path_mine.<locals>.dfs\u001b[1;34m(path, ticket)\u001b[0m\n\u001b[0;32m     11\u001b[0m \u001b[38;5;28;01mif\u001b[39;00m \u001b[38;5;28mlen\u001b[39m(ticket) \u001b[38;5;241m==\u001b[39m\u001b[38;5;241m0\u001b[39m:\n\u001b[0;32m     12\u001b[0m     \u001b[38;5;28;01mreturn\u001b[39;00m\n\u001b[1;32m---> 13\u001b[0m dfs(path, ticket)\n",
      "\u001b[1;31mRecursionError\u001b[0m: maximum recursion depth exceeded"
     ]
    }
   ],
   "source": [
    "tickets = [[\"JFK\",\"SFO\"],[\"JFK\",\"ATL\"],[\"SFO\",\"ATL\"],[\"ATL\",\"JFK\"],[\"ATL\",\"SFO\"]]\n",
    "find_path_mine(tickets)"
   ]
  },
  {
   "cell_type": "code",
   "execution_count": 76,
   "id": "10585881",
   "metadata": {},
   "outputs": [],
   "source": [
    "# 내 방식대로 재귀함수 만들려다가 실패\n",
    "# 인터넷에서 재귀를 쓴걸 봤다..\n",
    "def findItinearary(tickets):\n",
    "    graph = collections.defaultdict(list)\n",
    "    for a, b in sorted(tickets):\n",
    "        graph[a].append(b)\n",
    "    \n",
    "    route = []\n",
    "    def dfs(a):\n",
    "        while graph[a]:\n",
    "            dfs(graph[a].pop(0))\n",
    "            route.append(a)\n",
    "    dfs('JFK')\n",
    "    return route[::-1]"
   ]
  },
  {
   "cell_type": "code",
   "execution_count": 5,
   "id": "060a9abf",
   "metadata": {},
   "outputs": [
    {
     "data": {
      "text/plain": [
       "{'ATL': ['JFK', 'SFO'], 'JFK': ['ATL', 'SFO'], 'SFO': ['ATL']}"
      ]
     },
     "execution_count": 5,
     "metadata": {},
     "output_type": "execute_result"
    }
   ],
   "source": [
    "import collections\n",
    "tickets = [[\"JFK\",\"SFO\"],[\"JFK\",\"ATL\"],[\"SFO\",\"ATL\"],[\"ATL\",\"JFK\"],[\"ATL\",\"SFO\"]]\n",
    "graph = collections.defaultdict(list)\n",
    "for a, b in sorted(tickets):\n",
    "    graph[a].append(b)\n",
    "dict(graph)"
   ]
  },
  {
   "cell_type": "code",
   "execution_count": null,
   "id": "efe21b7a",
   "metadata": {},
   "outputs": [],
   "source": []
  }
 ],
 "metadata": {
  "kernelspec": {
   "display_name": "Python 3 (ipykernel)",
   "language": "python",
   "name": "python3"
  },
  "language_info": {
   "codemirror_mode": {
    "name": "ipython",
    "version": 3
   },
   "file_extension": ".py",
   "mimetype": "text/x-python",
   "name": "python",
   "nbconvert_exporter": "python",
   "pygments_lexer": "ipython3",
   "version": "3.11.5"
  }
 },
 "nbformat": 4,
 "nbformat_minor": 5
}
