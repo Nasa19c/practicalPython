{
 "cells": [
  {
   "cell_type": "code",
   "execution_count": 1,
   "id": "88966aad",
   "metadata": {},
   "outputs": [],
   "source": [
    "# 백준 9012\n",
    "# 누가봐도 스택문제..\n",
    "# 근데 이 문제가 특히나 스택을 활용하는 문제에서 어려웠던것 같다.."
   ]
  },
  {
   "cell_type": "code",
   "execution_count": 18,
   "id": "59f211a5",
   "metadata": {},
   "outputs": [
    {
     "name": "stdout",
     "output_type": "stream",
     "text": [
      "(()((())()(\n"
     ]
    }
   ],
   "source": [
    "a = list(input())"
   ]
  },
  {
   "cell_type": "code",
   "execution_count": 19,
   "id": "4e1e06ad",
   "metadata": {},
   "outputs": [
    {
     "name": "stdout",
     "output_type": "stream",
     "text": [
      "no\n"
     ]
    }
   ],
   "source": [
    "stack = []\n",
    "for k in a:\n",
    "    if stack:\n",
    "        if k ==')' and stack[-1] == '(':\n",
    "            stack.pop()\n",
    "            continue\n",
    "    stack.append(k)\n",
    "if stack:\n",
    "    print('no')\n",
    "else:\n",
    "    print('yes')"
   ]
  },
  {
   "cell_type": "code",
   "execution_count": 20,
   "id": "57218a50",
   "metadata": {},
   "outputs": [
    {
     "name": "stdout",
     "output_type": "stream",
     "text": [
      "no\n"
     ]
    }
   ],
   "source": [
    "def bracket(a):\n",
    "    stack = []\n",
    "    for k in a:\n",
    "        if stack and k ==')' and stack[-1] == '(':\n",
    "            stack.pop()\n",
    "            continue\n",
    "        stack.append(k)\n",
    "    if stack:\n",
    "        return('no')\n",
    "    else:\n",
    "        return('yes')"
   ]
  },
  {
   "cell_type": "code",
   "execution_count": 7,
   "id": "da13cb82",
   "metadata": {},
   "outputs": [
    {
     "data": {
      "text/plain": [
       "[')']"
      ]
     },
     "execution_count": 7,
     "metadata": {},
     "output_type": "execute_result"
    }
   ],
   "source": [
    "stack"
   ]
  },
  {
   "cell_type": "code",
   "execution_count": 22,
   "id": "987b3979",
   "metadata": {},
   "outputs": [
    {
     "name": "stdout",
     "output_type": "stream",
     "text": [
      "3\n",
      "((\n",
      "NO\n",
      "))\n",
      "NO\n",
      "())(()\n",
      "NO\n"
     ]
    }
   ],
   "source": [
    "def bracket(a):\n",
    "    stack = []\n",
    "    for k in a:\n",
    "        if stack and k ==')' and stack[-1] == '(':\n",
    "            stack.pop()\n",
    "            continue\n",
    "        stack.append(k)\n",
    "    if stack:\n",
    "        return('NO')\n",
    "    else:\n",
    "        return('YES')\n",
    "    \n",
    "a = int(input())\n",
    "for _ in range(a):\n",
    "    k = input()\n",
    "    print(bracket(k))"
   ]
  },
  {
   "cell_type": "code",
   "execution_count": null,
   "id": "86778d1c",
   "metadata": {},
   "outputs": [],
   "source": [
    "t = int(input())\n",
    "\n",
    "for i in range(t):\n",
    "    command = list(input())\n",
    "    sum = 0\n",
    "\n",
    "    for j in range(len(command)):\n",
    "        if command[j] == \"(\":\n",
    "            sum += 1\n",
    "        else:\n",
    "            sum -= 1\n",
    "\n",
    "        if sum < 0: # ())일 때\n",
    "            print(\"NO\")\n",
    "            break\n",
    "\n",
    "    if sum > 0:     # 짝 개수가 맞지 않을 떄\n",
    "        print(\"NO\")\n",
    "    elif sum == 0:  # 짝 개수가 똑같을 때\n",
    "        print(\"YES\")\n",
    "        \n",
    "# 숫자에서 sum으로 해결하니까 시간이 52정도로 줄어들었다..\n",
    "# sum이 0이면 딱맞게 떨어진거니까 yes else이면 no..\n",
    "# 좋은 접근이군.."
   ]
  },
  {
   "cell_type": "code",
   "execution_count": null,
   "id": "6e92297e",
   "metadata": {},
   "outputs": [],
   "source": []
  },
  {
   "cell_type": "code",
   "execution_count": 23,
   "id": "9bc6bbd6",
   "metadata": {},
   "outputs": [],
   "source": [
    "# 백준 1269문제\n",
    "# 음.. 그냥 해쉬문제..?"
   ]
  },
  {
   "cell_type": "code",
   "execution_count": 30,
   "id": "d386c45f",
   "metadata": {},
   "outputs": [
    {
     "name": "stdout",
     "output_type": "stream",
     "text": [
      "3 5\n",
      "1 2 4\n",
      "2 3 4 5 6\n"
     ]
    },
    {
     "data": {
      "text/plain": [
       "3"
      ]
     },
     "execution_count": 30,
     "metadata": {},
     "output_type": "execute_result"
    }
   ],
   "source": [
    "a,b = map(int, input().split())\n",
    "A_lst = list(map(int, input().split()))\n",
    "B_lst = list(map(int, input().split()))\n"
   ]
  },
  {
   "cell_type": "code",
   "execution_count": 45,
   "id": "d052d53c",
   "metadata": {},
   "outputs": [
    {
     "name": "stdout",
     "output_type": "stream",
     "text": [
      "{1: True, 2: True, 4: True}\n",
      "{2: True, 3: True, 4: True, 5: True, 6: True}\n",
      "4\n"
     ]
    }
   ],
   "source": [
    "dic_A = {}\n",
    "dic_B = {}\n",
    "\n",
    "for k in A_lst:\n",
    "    dic_A[k] = True\n",
    "\n",
    "for k in B_lst:\n",
    "    dic_B[k] = True\n",
    "\n",
    "dic_A_B = dic_A.copy()\n",
    "dic_B_A = dic_B.copy()\n",
    "\n",
    "for k in A_lst:\n",
    "    if k in dic_B:\n",
    "        dic_A_B.pop(k)\n",
    "\n",
    "for k in B_lst:\n",
    "    if k in dic_A:\n",
    "        dic_B_A.pop(k)\n",
    "\n",
    "print(len(dic_A_B) + len(dic_B_A))"
   ]
  },
  {
   "cell_type": "code",
   "execution_count": 38,
   "id": "f8fa9060",
   "metadata": {},
   "outputs": [
    {
     "data": {
      "text/plain": [
       "{2: True, 3: True, 4: True, 5: True, 6: True}"
      ]
     },
     "execution_count": 38,
     "metadata": {},
     "output_type": "execute_result"
    }
   ],
   "source": []
  },
  {
   "cell_type": "code",
   "execution_count": 53,
   "id": "8daa198a",
   "metadata": {},
   "outputs": [
    {
     "name": "stdout",
     "output_type": "stream",
     "text": [
      "3 5\n",
      "1 2 4\n",
      "2 3 4 5 6\n",
      "4\n"
     ]
    }
   ],
   "source": [
    "a,b = map(int, input().split())\n",
    "A_set = set(map(int, input().split()))\n",
    "B_set = set(map(int, input().split()))\n",
    "print(len(A_set - B_set) + len(B_set - A_set))\n",
    "\n",
    "# 이런 방법이....\n",
    "# set을 집합에서의 연산에서 사용하면 되게 편하겠네/..."
   ]
  },
  {
   "cell_type": "code",
   "execution_count": 55,
   "id": "5412c232",
   "metadata": {},
   "outputs": [
    {
     "data": {
      "text/plain": [
       "{1, 3, 5, 6}"
      ]
     },
     "execution_count": 55,
     "metadata": {},
     "output_type": "execute_result"
    }
   ],
   "source": [
    "A_set^B_set\n",
    "# 대칭 차집합에 대한 파이썬 기본 연산"
   ]
  }
 ],
 "metadata": {
  "kernelspec": {
   "display_name": "Python 3 (ipykernel)",
   "language": "python",
   "name": "python3"
  },
  "language_info": {
   "codemirror_mode": {
    "name": "ipython",
    "version": 3
   },
   "file_extension": ".py",
   "mimetype": "text/x-python",
   "name": "python",
   "nbconvert_exporter": "python",
   "pygments_lexer": "ipython3",
   "version": "3.11.5"
  }
 },
 "nbformat": 4,
 "nbformat_minor": 5
}
