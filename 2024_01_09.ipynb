{
 "cells": [
  {
   "cell_type": "code",
   "execution_count": null,
   "id": "74918860",
   "metadata": {},
   "outputs": [],
   "source": [
    "# 네트워크 딜레이 타임(최단경로)\n",
    "# K 경유지(최단경로)\n",
    "\n",
    "# 조합의 합, 부분집합 정리"
   ]
  },
  {
   "cell_type": "code",
   "execution_count": 5,
   "id": "29838b37",
   "metadata": {},
   "outputs": [
    {
     "data": {
      "text/plain": [
       "15"
      ]
     },
     "execution_count": 5,
     "metadata": {},
     "output_type": "execute_result"
    }
   ],
   "source": [
    "k = '12345'\n",
    "sum(list(map(int,list(k))))\n",
    "# map의 활용성"
   ]
  },
  {
   "cell_type": "code",
   "execution_count": null,
   "id": "cf25e5b1",
   "metadata": {},
   "outputs": [],
   "source": []
  },
  {
   "cell_type": "code",
   "execution_count": null,
   "id": "091ce075",
   "metadata": {},
   "outputs": [],
   "source": [
    "# 네트워크 딜레이 타임\n",
    "# leetcode 743\n",
    "# ㄴ dijkstra(다익스트라) 알고리즘을 통해서 풀이를 하면..\n",
    "# ㄴ dijkstra는 순차 구현과 heapq를 활용하여 구현할 수 있음\n"
   ]
  },
  {
   "cell_type": "code",
   "execution_count": 17,
   "id": "aedb8b5c",
   "metadata": {},
   "outputs": [
    {
     "name": "stdout",
     "output_type": "stream",
     "text": [
      "5 6\n",
      "1\n",
      "5 1 1\n",
      "1 2 1\n",
      "1 3 3\n",
      "2 3 1\n",
      "2 4 5\n",
      "3 4 2\n"
     ]
    }
   ],
   "source": [
    "# for문을 통해서 구현\n",
    "n,m = map(int, input().split()) # n = 노드개수, m = 간선 개수\n",
    "k = int(input()) # 시작노드\n",
    "INF = float('inf') # inf를 큰 수로 설정\n",
    "\n",
    "graph = [[] for _ in range(n+1)] # 그래프에 대한 정보를 담는 list\n",
    "visited = [False] * (n+1) # 방문했는지의 여부를 확인하는 list\n",
    "distance = [INF] * (n+1) # 최단 거리 테이블\n",
    "\n",
    "# 그래프에 대한 정보를 입력\n",
    "for _ in range(m):\n",
    "    u,v,w = map(int, input().split()) # u = 출발노드, v = 도착노드, w = 연결된 간선의 가중치\n",
    "    graph[u].append((v,w)) # 출발노드는 index를 통해서 매칭하고 v,w를 입력\n",
    "\n",
    "# 방문하지 않은 노드 중에서 가장 최단거리가 짧은 노드의 번호를 반환\n",
    "def get_smallest_node():\n",
    "    min_val = INF\n",
    "    index = 0\n",
    "    for i in range(1, n+1):\n",
    "        # 방문되지 않은 노드들 중에서 가장 작은 distance를 가진 노드를 출력\n",
    "        if distance[i] < min_val and not visited[i]:\n",
    "            min_val = distance[i]\n",
    "            index = i\n",
    "    return index\n",
    "\n",
    "def dijkstra(start):\n",
    "    distance[start] = 0 # 자기자신까지의 거리를 0으로 입력\n",
    "    visited[start] = True # 자기자신은 방문중이므로 True로 변경\n",
    "    \n",
    "    for i in graph[start]:\n",
    "        distance[i[0]] = i[1]\n",
    "    # [[], [(2, 1), (3, 3)], [(3, 1), (4, 5)], [(4, 2)], [], [(1, 1)]]\n",
    "    # ㄴ 위와 같이 graph가 형성 되었을때 도착노드가 2,3 이고 \n",
    "    #   각 노드 까지의 거리를 i[1]로 업데이트\n",
    "        \n",
    "    for _ in range(n-1):\n",
    "        now = get_smallest_node() # now를 위의 get_smallest_node 함수를 통해 업데이트\n",
    "        visited[now] = True\n",
    "        for j in graph[now]:\n",
    "            # now 노드까지의 거리 + 다음 노드 까지의 distance와 저장되어있는 \n",
    "            # distance와의 비교를 통해서 업데이트 여부 확인\n",
    "            if distance[now] + j[1] < distance[j[0]]:\n",
    "                distance[j[0]] = distance[now] + j[1]"
   ]
  },
  {
   "cell_type": "code",
   "execution_count": 18,
   "id": "509a1879",
   "metadata": {},
   "outputs": [
    {
     "data": {
      "text/plain": [
       "[[], [(2, 1), (3, 3)], [(3, 1), (4, 5)], [(4, 2)], [], [(1, 1)]]"
      ]
     },
     "execution_count": 18,
     "metadata": {},
     "output_type": "execute_result"
    }
   ],
   "source": [
    "graph"
   ]
  },
  {
   "cell_type": "code",
   "execution_count": 19,
   "id": "af1f68e6",
   "metadata": {},
   "outputs": [
    {
     "name": "stdout",
     "output_type": "stream",
     "text": [
      "[inf, 0, 1, 2, 4, inf]\n"
     ]
    }
   ],
   "source": [
    "dijkstra(k)\n",
    "print(distance)"
   ]
  },
  {
   "cell_type": "code",
   "execution_count": null,
   "id": "069a0f8b",
   "metadata": {},
   "outputs": [],
   "source": [
    "# heapq를 활용하여 구현\n",
    "n,m = map(int, input().split()) # n = 노드개수, m = 간선 개수\n",
    "k = int(input()) # 시작노드\n",
    "INF = 1e8 # inf를 큰 수로 설정\n",
    "\n",
    "graph = [[] for _ in range(n+1)] # 그래프에 대한 정보를 담는 list\n",
    "visited = [False] * (n+1) # 방문했는지의 여부를 확인하는 list\n",
    "distance = [INF] * (n+1) # 최단 거리 테이블\n",
    "\n",
    "# 그래프에 대한 정보를 입력\n",
    "for _ in range(m):\n",
    "    u,v,w = map(int, input().split()) # u = 출발노드, v = 도착노드, w = 연결된 간선의 가중치\n",
    "    graph[u].append((v,w)) # 출발노드는 index를 통해서 매칭하고 v,w를 입력\n",
    "\n",
    "    \n",
    "import heapq\n",
    "def dijkstra(start):\n",
    "    q = []\n",
    "    heapq.heappush(q, (0,start))\n",
    "    distance[start] = 0\n",
    "    \n",
    "    while q:\n",
    "        dist, now = heapq.heappop(q)\n",
    "        \n",
    "        if distance[now] < dist:\n",
    "            continue\n",
    "        \n",
    "        for i in graph[now]:\n",
    "            if dist + i[1] < distance[i[0]]:\n",
    "                distance[i[0]] = dist + i[1]\n",
    "                heapq.heappush(q,(dist+ i[1],i[0]))\n",
    "dijkstra(k)\n",
    "print(distance)"
   ]
  },
  {
   "cell_type": "code",
   "execution_count": null,
   "id": "d8f70130",
   "metadata": {},
   "outputs": [],
   "source": []
  },
  {
   "cell_type": "code",
   "execution_count": 20,
   "id": "f17fdc1a",
   "metadata": {},
   "outputs": [
    {
     "name": "stdout",
     "output_type": "stream",
     "text": [
      "5 6\n",
      "1\n",
      "5 1 1\n",
      "1 2 1\n",
      "1 3 3\n",
      "2 3 1\n",
      "2 4 5\n",
      "3 4 2\n"
     ]
    }
   ],
   "source": [
    "n,m = map(int, input().split()) # n = 노드개수, m = 간선 개수\n",
    "k = int(input()) # 시작노드\n",
    "INF = 1e8 # inf를 큰 수로 설정\n",
    "\n",
    "graph = [[] for _ in range(n+1)] # 그래프에 대한 정보를 담는 list\n",
    "visited = [False] * (n+1) # 방문했는지의 여부를 확인하는 list\n",
    "distance = [INF] * (n+1) # 최단 거리 테이블\n",
    "\n",
    "# 그래프에 대한 정보를 입력\n",
    "for _ in range(m):\n",
    "    u,v,w = map(int, input().split()) # u = 출발노드, v = 도착노드, w = 연결된 간선의 가중치\n",
    "    graph[u].append((v,w)) # 출발노드는 index를 통해서 매칭하고 v,w를 입력\n"
   ]
  },
  {
   "cell_type": "code",
   "execution_count": 29,
   "id": "637cc51a",
   "metadata": {},
   "outputs": [
    {
     "data": {
      "text/plain": [
       "[[], [(2, 1), (3, 3)], [(3, 1), (4, 5)], [(4, 2)], [], [(1, 1)]]"
      ]
     },
     "execution_count": 29,
     "metadata": {},
     "output_type": "execute_result"
    }
   ],
   "source": [
    "graph\n"
   ]
  },
  {
   "cell_type": "code",
   "execution_count": 25,
   "id": "16c219f2",
   "metadata": {},
   "outputs": [],
   "source": [
    "import heapq"
   ]
  },
  {
   "cell_type": "code",
   "execution_count": 28,
   "id": "20db496f",
   "metadata": {},
   "outputs": [
    {
     "name": "stdout",
     "output_type": "stream",
     "text": [
      "0 1\n"
     ]
    }
   ],
   "source": [
    "q = []\n",
    "heapq.heappush(q,(0,k))\n",
    "distance[k] = 0\n",
    "\n",
    "dist, now = heapq.heappop(q)\n",
    "print(dist, now)        \n",
    "# if distance[now] < dist:\n",
    "#     continue\n",
    "\n",
    "# for i in graph[now]:\n",
    "#     if dist + i[1] < distance[i[0]]:\n",
    "#         distance[i[0]] = dist + i[1]\n",
    "#         heapq.heappush(q,(dist+ i[1],i[0]))\n",
    "    "
   ]
  },
  {
   "cell_type": "code",
   "execution_count": 45,
   "id": "688e774f",
   "metadata": {},
   "outputs": [
    {
     "name": "stdout",
     "output_type": "stream",
     "text": [
      "[(5, 0)]\n",
      "[(4, 1), (5, 0)]\n",
      "[(3, 2), (5, 0), (4, 1)]\n",
      "[(2, 3), (3, 2), (4, 1), (5, 0)]\n",
      "[(1, 4), (2, 3), (4, 1), (5, 0), (3, 2)]\n"
     ]
    }
   ],
   "source": [
    "k1 = [x for x in range(5)]\n",
    "k2 = [x for x in range(5,0,-1)]\n",
    "k2\n",
    "ep = list(tuple(zip(k2, k1)))\n",
    "# k = heapq.heapify(list(ep))\n",
    "q = []\n",
    "for i in range(len(ep)):\n",
    "    heapq.heappush(q, ep[i])\n",
    "    print(q)\n",
    "# heapq를 사용하게 되면 tuple의 0번째에 맞춰서 우선순위 큐가 만들어진다\n",
    "# 이를 distance 기준으로 맞춰보면 distance가 작은 순으로 큐가 만들어지기 때문에\n",
    "# heapq를 사용하는 듯하다. \n",
    "# 문제는 변수가 너무 많아서 매번 변수를 만날때 마다 계속해서 이것이 무엇인지 되뇌어야한다는것.\n",
    "# 재귀도 없고 그냥 반복만 있어서 dijkstra 알고리즘의 구현 순서와 방법만 정확하게 알고있다면\n",
    "# 구현이 좀 복잡할 뿐 시간만 들인다면 이해가 가능할 듯하다."
   ]
  },
  {
   "cell_type": "code",
   "execution_count": null,
   "id": "39d10e91",
   "metadata": {},
   "outputs": [],
   "source": []
  },
  {
   "cell_type": "code",
   "execution_count": null,
   "id": "c32173c1",
   "metadata": {},
   "outputs": [],
   "source": []
  },
  {
   "cell_type": "code",
   "execution_count": null,
   "id": "9f200c36",
   "metadata": {},
   "outputs": [],
   "source": []
  },
  {
   "cell_type": "code",
   "execution_count": null,
   "id": "42a066f5",
   "metadata": {},
   "outputs": [],
   "source": []
  },
  {
   "cell_type": "code",
   "execution_count": null,
   "id": "9d323fde",
   "metadata": {},
   "outputs": [],
   "source": []
  },
  {
   "cell_type": "code",
   "execution_count": null,
   "id": "06837922",
   "metadata": {},
   "outputs": [],
   "source": []
  },
  {
   "cell_type": "code",
   "execution_count": null,
   "id": "98f1cd62",
   "metadata": {},
   "outputs": [],
   "source": []
  }
 ],
 "metadata": {
  "kernelspec": {
   "display_name": "Python 3 (ipykernel)",
   "language": "python",
   "name": "python3"
  },
  "language_info": {
   "codemirror_mode": {
    "name": "ipython",
    "version": 3
   },
   "file_extension": ".py",
   "mimetype": "text/x-python",
   "name": "python",
   "nbconvert_exporter": "python",
   "pygments_lexer": "ipython3",
   "version": "3.11.5"
  }
 },
 "nbformat": 4,
 "nbformat_minor": 5
}
