{
 "cells": [
  {
   "cell_type": "code",
   "execution_count": 2,
   "id": "c65b646e",
   "metadata": {},
   "outputs": [
    {
     "name": "stdout",
     "output_type": "stream",
     "text": [
      "3 4\n",
      "ohhenrie\n",
      "charlie\n",
      "baesangwook\n",
      "obama\n",
      "baesangwook\n",
      "ohhenrie\n",
      "clinton\n"
     ]
    },
    {
     "ename": "AttributeError",
     "evalue": "'list' object has no attribute 'items'",
     "output_type": "error",
     "traceback": [
      "\u001b[1;31m---------------------------------------------------------------------------\u001b[0m",
      "\u001b[1;31mAttributeError\u001b[0m                            Traceback (most recent call last)",
      "Cell \u001b[1;32mIn[2], line 14\u001b[0m\n\u001b[0;32m     11\u001b[0m         dic[name_m] \u001b[38;5;241m=\u001b[39m \u001b[38;5;28;01mTrue\u001b[39;00m\n\u001b[0;32m     13\u001b[0m \u001b[38;5;28;01mfor\u001b[39;00m i \u001b[38;5;129;01min\u001b[39;00m \u001b[38;5;28mrange\u001b[39m(\u001b[38;5;28mlen\u001b[39m(dic)):\n\u001b[1;32m---> 14\u001b[0m     \u001b[38;5;28;01mif\u001b[39;00m \u001b[38;5;28msorted\u001b[39m(dic)\u001b[38;5;241m.\u001b[39mitems \u001b[38;5;241m==\u001b[39m \u001b[38;5;28;01mTrue\u001b[39;00m:\n\u001b[0;32m     15\u001b[0m         \u001b[38;5;28mprint\u001b[39m(dic\u001b[38;5;241m.\u001b[39mkeys)\n",
      "\u001b[1;31mAttributeError\u001b[0m: 'list' object has no attribute 'items'"
     ]
    }
   ],
   "source": [
    "# baekjoon 1764\n",
    "n,m = map(int, input().split())\n",
    "dic = {}\n",
    "for _ in range(n):\n",
    "    name_n = input()\n",
    "    dic[name_n] = False\n",
    "\n",
    "for _ in range(m):\n",
    "    name_m = input()\n",
    "    if name_m in dic:\n",
    "        dic[name_m] = True\n",
    "\n",
    "for i in range(len(dic)):\n",
    "    if sorted(dic).items == True:\n",
    "        print(dic.keys)"
   ]
  },
  {
   "cell_type": "code",
   "execution_count": 31,
   "id": "a73c5b62",
   "metadata": {},
   "outputs": [],
   "source": [
    "dic = dict(sorted(dic.items()))"
   ]
  },
  {
   "cell_type": "code",
   "execution_count": 32,
   "id": "ec825291",
   "metadata": {},
   "outputs": [
    {
     "name": "stdout",
     "output_type": "stream",
     "text": [
      "baesangwook\n",
      "ohhenrie\n"
     ]
    }
   ],
   "source": [
    "for x in dic:\n",
    "    if dic[x] == True:\n",
    "        z+=1\n",
    "        print(x)"
   ]
  },
  {
   "cell_type": "code",
   "execution_count": 34,
   "id": "cebaa3db",
   "metadata": {},
   "outputs": [
    {
     "name": "stdout",
     "output_type": "stream",
     "text": [
      "3 4\n",
      "ohhenrie\n",
      "charlie\n",
      "baesangwook\n",
      "obama\n",
      "baesangwook\n",
      "ohhenrie\n",
      "clinton\n",
      "2\n",
      "baesangwook\n",
      "ohhenrie\n"
     ]
    }
   ],
   "source": [
    "# baekjoon 1764\n",
    "n,m = map(int, input().split())\n",
    "dic = {}\n",
    "z = 0\n",
    "for _ in range(n):\n",
    "    name_n = input()\n",
    "    dic[name_n] = False\n",
    "\n",
    "for _ in range(m):\n",
    "    name_m = input()\n",
    "    if name_m in dic:\n",
    "        z+=1\n",
    "        dic[name_m] = True\n",
    "        \n",
    "print(z)\n",
    "dic = dict(sorted(dic.items()))\n",
    "for x in dic:\n",
    "    if dic[x] == True:\n",
    "        print(x)"
   ]
  },
  {
   "cell_type": "code",
   "execution_count": 35,
   "id": "7dddd71e",
   "metadata": {},
   "outputs": [
    {
     "name": "stdout",
     "output_type": "stream",
     "text": [
      "0123"
     ]
    }
   ],
   "source": [
    "for i in range(4):\n",
    "    print(i, end ='')"
   ]
  }
 ],
 "metadata": {
  "kernelspec": {
   "display_name": "Python 3 (ipykernel)",
   "language": "python",
   "name": "python3"
  },
  "language_info": {
   "codemirror_mode": {
    "name": "ipython",
    "version": 3
   },
   "file_extension": ".py",
   "mimetype": "text/x-python",
   "name": "python",
   "nbconvert_exporter": "python",
   "pygments_lexer": "ipython3",
   "version": "3.11.5"
  }
 },
 "nbformat": 4,
 "nbformat_minor": 5
}
