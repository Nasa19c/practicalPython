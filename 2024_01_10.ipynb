{
 "cells": [
  {
   "cell_type": "code",
   "execution_count": 69,
   "id": "307f45b6",
   "metadata": {},
   "outputs": [],
   "source": [
    "class ListNode:\n",
    "    def __init__(self, val=0, next = None):\n",
    "        self.val = val\n",
    "        self.next = next\n",
    "    \n",
    "def createLinkedList(elements):\n",
    "    if not elements:\n",
    "        return None\n",
    "    \n",
    "    head = ListNode(elements[0])\n",
    "    current = head\n",
    "    \n",
    "    for val in elements[1:]:\n",
    "        current.next = ListNode(val)\n",
    "        current = current.next\n",
    "    return head\n",
    "    "
   ]
  },
  {
   "cell_type": "code",
   "execution_count": 100,
   "id": "41b7bcb7",
   "metadata": {},
   "outputs": [],
   "source": [
    "l1 = [2,4,3]\n",
    "l2 = [5,6,4]\n",
    "l1_head = createLinkedList(l1)\n",
    "l2_head = createLinkedList(l2)\n",
    "\n",
    "# reverse\n",
    "def reverse_list(head):\n",
    "    prev, crnt = None, head\n",
    "    \n",
    "    while crnt:\n",
    "        tmp = crnt.next\n",
    "        crnt.next = prev\n",
    "        prev = crnt\n",
    "        crnt = tmp\n",
    "\n",
    "    head = prev\n",
    "        \n",
    "    return head\n"
   ]
  },
  {
   "cell_type": "code",
   "execution_count": 101,
   "id": "658a631b",
   "metadata": {},
   "outputs": [],
   "source": [
    "def to_list(new_head):\n",
    "    if new_head is None:\n",
    "        print('null')\n",
    "    lst = []\n",
    "    while new_head:\n",
    "        lst.append(new_head.val)\n",
    "        new_head = new_head.next\n",
    "    return(lst)\n",
    "a = to_list(reverse_list(l1_head))\n",
    "b = to_list(reverse_list(l2_head))\n",
    "\n",
    "# 왜 reverse는 연속적으로 작동시키면 똑같이 안나올까.."
   ]
  },
  {
   "cell_type": "code",
   "execution_count": 113,
   "id": "bae588a4",
   "metadata": {},
   "outputs": [
    {
     "ename": "SyntaxError",
     "evalue": "'return' outside function (137499098.py, line 11)",
     "output_type": "error",
     "traceback": [
      "\u001b[1;36m  Cell \u001b[1;32mIn[113], line 11\u001b[1;36m\u001b[0m\n\u001b[1;33m    return node\u001b[0m\n\u001b[1;37m    ^\u001b[0m\n\u001b[1;31mSyntaxError\u001b[0m\u001b[1;31m:\u001b[0m 'return' outside function\n"
     ]
    }
   ],
   "source": [
    "str_b = ''.join(str(e) for e in b)\n",
    "str_a = ''.join(str(e) for e in a)\n",
    "res = int(str_b) + int(str_a)\n",
    "\n",
    "prev: ListNode = None\n",
    "\n",
    "for r in str(res):\n",
    "    node = ListNode(r)\n",
    "    node.next = prev\n",
    "    prev = node\n",
    "return node"
   ]
  },
  {
   "cell_type": "code",
   "execution_count": null,
   "id": "2a68caf6",
   "metadata": {},
   "outputs": [],
   "source": []
  },
  {
   "cell_type": "code",
   "execution_count": null,
   "id": "6cd0a300",
   "metadata": {},
   "outputs": [],
   "source": [
    "# 17번 페어의 노드 스왑\n",
    "# leetcode 24"
   ]
  },
  {
   "cell_type": "code",
   "execution_count": 114,
   "id": "68cd996d",
   "metadata": {},
   "outputs": [],
   "source": [
    "# 직접 푼 풀이\n",
    "def pair_swap(head):\n",
    "    if not head:\n",
    "        return None\n",
    "    \n",
    "    prev, crnt = None, head\n",
    "    \n",
    "    while crnt and crnt.next:\n",
    "        tmp = crnt.next\n",
    "        crnt.next = tmp.next\n",
    "        tmp.next = crnt\n",
    "        if not prev:\n",
    "            head=tmp\n",
    "        else:\n",
    "            prev.next = tmp\n",
    "        \n",
    "        prev = crnt\n",
    "        crnt = crnt.next\n",
    "    return head\n",
    "\n"
   ]
  },
  {
   "cell_type": "code",
   "execution_count": null,
   "id": "be206c3f",
   "metadata": {},
   "outputs": [],
   "source": [
    "# 재귀구조로 한다면d\n",
    "def swapPair(head):\n",
    "    if head and head.next:\n",
    "        p = head.next\n",
    "        head.next = swapPair(p.next)\n",
    "        p.next = head\n",
    "        return p\n",
    "    return head\n",
    "\n",
    "# 이걸 어떻게 짜.."
   ]
  },
  {
   "cell_type": "code",
   "execution_count": null,
   "id": "e3e66650",
   "metadata": {},
   "outputs": [],
   "source": []
  },
  {
   "cell_type": "code",
   "execution_count": 119,
   "id": "fcf188f7",
   "metadata": {},
   "outputs": [],
   "source": [
    "#787 cheapestflight within K stops\n",
    "# 우선은 첫번째로 dijkstra 알고리즘을 쓰려면 \n",
    "# collections.defaultdict에 노드: (거리, 도착지) 형태로 넣어야할듯하고\n",
    "import collections\n",
    "import heapq\n",
    "\n",
    "n = 3\n",
    "flights = [[0,1,100],[1,2,100],[0,2,500]]\n",
    "src, dst, K = 0,2,0"
   ]
  },
  {
   "cell_type": "code",
   "execution_count": 120,
   "id": "b896b11c",
   "metadata": {},
   "outputs": [],
   "source": [
    "def findCheapestPrice(n,flights, src, dst, K):\n",
    "    graph = collections.defaultdict(list)\n",
    "    for u,v,w in flights:\n",
    "        graph[u].append((v,w))\n",
    "\n",
    "    # 큐 변수 [(가격, 정점, 남은가능 경유지 수)]\n",
    "    Q = [(0,src,K)]\n",
    "\n",
    "    while Q:\n",
    "        price, node, k = heapq.heappop(Q)\n",
    "        if node == dst:\n",
    "            return price\n",
    "        if k>=0:\n",
    "            for v,w in graph[node]:\n",
    "                alt = price + w\n",
    "                heapq.heappush(Q,(alt, v, k-1))\n",
    "    return -1"
   ]
  },
  {
   "cell_type": "code",
   "execution_count": null,
   "id": "f3c67f02",
   "metadata": {},
   "outputs": [],
   "source": [
    "flights = [[0,1,100],[1,2,100],[0,2,500]]"
   ]
  },
  {
   "cell_type": "code",
   "execution_count": 121,
   "id": "8c9bf78e",
   "metadata": {},
   "outputs": [
    {
     "data": {
      "text/plain": [
       "defaultdict(list, {0: [(1, 100), (2, 500)], 1: [(2, 100)]})"
      ]
     },
     "execution_count": 121,
     "metadata": {},
     "output_type": "execute_result"
    }
   ],
   "source": [
    "def findCheapestPrice(n,flights, src, dst, K):\n",
    "    #constructing adjacency matrix\n",
    "    adj=[[]for i in range(n)]\n",
    "    for i in flights:\n",
    "        adj[i[0]].append([i[1],i[2]])\n",
    "    dist=[float('inf')for i in range(n)]\n",
    "    dist[src]=0\n",
    "    q=[[0,src,0]]   #[stops, node, toatlcost]\n",
    "    while q:\n",
    "        stp,node,cost=q.pop(0)  \n",
    "        if stp>k:\n",
    "            continue\n",
    "        for elm in adj[node]:\n",
    "            adjnode,fcost=elm[0],elm[1]\n",
    "            if dist[adjnode]>cost+fcost and stp<=k:\n",
    "                dist[adjnode]=cost+fcost\n",
    "                q.append([stp+1,adjnode,cost+fcost])   #increasing one stop\n",
    "    if dist[dst]==float('inf'):\n",
    "        return -1\n",
    "    return dist[dst]"
   ]
  },
  {
   "cell_type": "code",
   "execution_count": null,
   "id": "f2eaffc9",
   "metadata": {},
   "outputs": [],
   "source": [
    "# 이건 Bellman - Ford 알고리즘을 활용하여 푼것이라고 한다. \n",
    "def findCheapestPrice(n,flights, src, dst, K):\n",
    "    prices = [float(\"inf\")] * n \n",
    "    prices[src] = 0\n",
    "\n",
    "    for i in range(k + 1) :\n",
    "        tempprices = prices.copy()\n",
    "        for s ,d ,p in flights :\n",
    "            if prices[s] == float(\"inf\") :\n",
    "                continue\n",
    "            if prices[s] + p < tempprices[d] :\n",
    "                tempprices[d] = prices[s] + p\n",
    "        prices = tempprices\n",
    "    if prices[dst] == float(\"inf\") :\n",
    "        return -1\n",
    "    else :\n",
    "        return prices[dst]"
   ]
  },
  {
   "cell_type": "code",
   "execution_count": null,
   "id": "73451379",
   "metadata": {},
   "outputs": [],
   "source": []
  },
  {
   "cell_type": "code",
   "execution_count": 1,
   "id": "f47a1e1f",
   "metadata": {},
   "outputs": [],
   "source": [
    "# 백준 19532\n",
    "# 연립방정식의 해를 구하는 문제\n",
    "# 답을 보다가 sys.stdin.readline()을 발견해서 한번 해보려 한다."
   ]
  },
  {
   "cell_type": "code",
   "execution_count": 10,
   "id": "f43eb023",
   "metadata": {},
   "outputs": [
    {
     "name": "stdout",
     "output_type": "stream",
     "text": [
      "1 3 4 5 6 2 12 6 4 \n",
      "[1, 3, 4, 5, 6, 2, 12, 6, 4]\n"
     ]
    }
   ],
   "source": [
    "data = list(map(int, input().split()))\n",
    "print(data)"
   ]
  },
  {
   "cell_type": "code",
   "execution_count": null,
   "id": "3ef30c00",
   "metadata": {},
   "outputs": [],
   "source": []
  },
  {
   "cell_type": "code",
   "execution_count": null,
   "id": "dee1c339",
   "metadata": {},
   "outputs": [],
   "source": []
  }
 ],
 "metadata": {
  "kernelspec": {
   "display_name": "Python 3 (ipykernel)",
   "language": "python",
   "name": "python3"
  },
  "language_info": {
   "codemirror_mode": {
    "name": "ipython",
    "version": 3
   },
   "file_extension": ".py",
   "mimetype": "text/x-python",
   "name": "python",
   "nbconvert_exporter": "python",
   "pygments_lexer": "ipython3",
   "version": "3.11.5"
  }
 },
 "nbformat": 4,
 "nbformat_minor": 5
}
