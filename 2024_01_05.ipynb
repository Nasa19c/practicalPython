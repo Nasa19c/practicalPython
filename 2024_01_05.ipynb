{
 "cells": [
  {
   "cell_type": "code",
   "execution_count": null,
   "id": "461bcfc3",
   "metadata": {},
   "outputs": [],
   "source": [
    "# palindrome linked list 234\n",
    "# 정렬리스트 병합 21\n",
    "# 역순 연결 리스트 206\n",
    "\n",
    "# 조합 77\n",
    "# 조합의 합 39\n",
    "# 부분집합 78\n",
    "# 일정 재구성 332"
   ]
  },
  {
   "cell_type": "code",
   "execution_count": 6,
   "id": "d5f39a6b",
   "metadata": {},
   "outputs": [],
   "source": [
    "# Linked List base code\n",
    "class ListNode:\n",
    "    def __init__(self, val = 0, next = None):\n",
    "        self.val = val\n",
    "        self.next = next\n",
    "    \n",
    "def createLinkedList(elements):\n",
    "    if not elements:\n",
    "        return None\n",
    "    \n",
    "    head = ListNode(elements[0])\n",
    "    current = head\n",
    "    \n",
    "    for k in elements[1:]:\n",
    "        current.next = ListNode(k)\n",
    "        current = current.next\n",
    "    return head"
   ]
  },
  {
   "cell_type": "code",
   "execution_count": 11,
   "id": "466d829f",
   "metadata": {},
   "outputs": [
    {
     "name": "stdout",
     "output_type": "stream",
     "text": [
      "True\n"
     ]
    },
    {
     "data": {
      "text/plain": [
       "[1, 2, 2, 1]"
      ]
     },
     "execution_count": 11,
     "metadata": {},
     "output_type": "execute_result"
    }
   ],
   "source": [
    "# 234 Palindrome Linked list\n",
    "nums = [1,2,2,1]\n",
    "head = createLinkedList(nums)\n",
    "lst = []\n",
    "crnt = head\n",
    "while crnt:\n",
    "    lst.append(crnt.val)\n",
    "    crnt = crnt.next\n",
    "if lst == list(reversed(lst)):\n",
    "    print(True)\n",
    "else:\n",
    "    print(False)\n"
   ]
  },
  {
   "cell_type": "code",
   "execution_count": null,
   "id": "d1c2bb53",
   "metadata": {},
   "outputs": [],
   "source": [
    "def isPalindrome(head):\n",
    "    if not head:\n",
    "        return True\n",
    "    lst = []\n",
    "    crnt = head\n",
    "    while crnt:\n",
    "        lst.append(crnt.val)\n",
    "        crnt = crnt.next\n",
    "    if lst == list(reversed(lst)):\n",
    "        return True\n",
    "    else:\n",
    "        return False"
   ]
  },
  {
   "cell_type": "code",
   "execution_count": 13,
   "id": "0c2eff24",
   "metadata": {},
   "outputs": [],
   "source": [
    "def isPalindrome(head):\n",
    "    if not head:\n",
    "        return True\n",
    "    lst = []\n",
    "    crnt = head\n",
    "    while crnt:\n",
    "        lst.append(crnt.val)\n",
    "        crnt = crnt.next\n",
    "    \n",
    "    # palindrome 판별할 때 맨앞의 pop과 맨뒤의 pop이 계속해서 같다면 \n",
    "    # 이를 palindrome으로 정의함\n",
    "    while len(lst)>1:\n",
    "        if lst.pop(0) != q.pop():\n",
    "            return False\n",
    "    return True"
   ]
  },
  {
   "cell_type": "code",
   "execution_count": 15,
   "id": "246c819e",
   "metadata": {},
   "outputs": [],
   "source": [
    "# 리스트를 활용하였을때 pop(0)을 하는 과정에서 O(n)의 시간복잡도가 발생함\n",
    "# ㄴ pop하고 이를 shifting하여야 하기 때문에\n",
    "# 그래서 Deque를 사용하면 O(1)의 시간 복잡도를 가지기 때문에 이를 활용해보자\n",
    "def isPalindrome(head):\n",
    "    q: Deque = collection.deque()\n",
    "    \n",
    "    if not head:\n",
    "        return True\n",
    "    \n",
    "    crnt = head\n",
    "    while crnt:\n",
    "        q.append(crnt.val)\n",
    "        crnt = crnt.next\n",
    "    \n",
    "    while len(q)>1:\n",
    "        if q.popleft() != q.pop():\n",
    "            return False\n",
    "    return True\n"
   ]
  },
  {
   "cell_type": "code",
   "execution_count": null,
   "id": "7144b641",
   "metadata": {},
   "outputs": [],
   "source": [
    "def isPalindrome_runner(head):\n",
    "    rev = None\n",
    "    slow = fast = head\n",
    "    \n",
    "    while fast and fast.next:\n",
    "        fast=fast.next.next\n",
    "        rev, rev.next, slow = slow, rev, slow.next\n",
    "    if fast:\n",
    "        slow = slow.next\n",
    "    \n",
    "    while rev and rev.val == slow.val:\n",
    "        slow,rev = slow.next, rev.next\n",
    "    return not rev"
   ]
  },
  {
   "cell_type": "code",
   "execution_count": 19,
   "id": "b43cfa93",
   "metadata": {},
   "outputs": [],
   "source": [
    "def reverseList(head):\n",
    "    crnt = head\n",
    "    prev = None\n",
    "    \n",
    "    while crnt:\n",
    "#         prev, crnt, crnt.next = crnt, crnt.next,prev\n",
    "        tmp, crnt.next = crnt.next, prev\n",
    "        prev, crnt = crnt, tmp\n",
    "    return prev\n",
    "# crnt.next를 저장해 놓을 새로운 변수를 하나 정해놔야겠네\n"
   ]
  },
  {
   "cell_type": "code",
   "execution_count": 22,
   "id": "93af4cf9",
   "metadata": {},
   "outputs": [],
   "source": [
    "# 재귀구조로 만든\n",
    "def reverseList_recursive(head):\n",
    "    def reverse(node, prev = None):\n",
    "        if not node:\n",
    "            return prev\n",
    "        tmp, node.next = node.next,prev\n",
    "        return reverse(tmp, node)\n",
    "    return reverse(head)\n",
    "# crnt랑 tmp만 있으면 이전 노드와 다음 노드를 알수 있고 \n",
    "# 재귀를 이용하여 parameter를 변경해줌 "
   ]
  },
  {
   "cell_type": "code",
   "execution_count": null,
   "id": "f571ae12",
   "metadata": {},
   "outputs": [],
   "source": []
  },
  {
   "cell_type": "code",
   "execution_count": 68,
   "id": "09b51222",
   "metadata": {},
   "outputs": [],
   "source": [
    "# combination\n",
    "def combine(n,k):\n",
    "    results = []\n",
    "    \n",
    "    def dfs(elements, start, k):\n",
    "        if k==0:\n",
    "            results.append(elements[:])\n",
    "            return\n",
    "        for i in range(start, n+1):\n",
    "            elements.append(i)\n",
    "            dfs(elements, i+1, k-1)\n",
    "            elements.pop()\n",
    "    dfs([],1,k)\n",
    "    return results"
   ]
  },
  {
   "cell_type": "code",
   "execution_count": 69,
   "id": "91db559c",
   "metadata": {},
   "outputs": [
    {
     "data": {
      "text/plain": [
       "[[1, 2], [1, 3], [1, 4], [2, 3], [2, 4], [3, 4]]"
      ]
     },
     "execution_count": 69,
     "metadata": {},
     "output_type": "execute_result"
    }
   ],
   "source": [
    "nums = [1,2,3,4]\n",
    "combine(4,2)"
   ]
  },
  {
   "cell_type": "code",
   "execution_count": null,
   "id": "f215d4b1",
   "metadata": {},
   "outputs": [],
   "source": []
  },
  {
   "cell_type": "code",
   "execution_count": null,
   "id": "33dd179f",
   "metadata": {},
   "outputs": [],
   "source": [
    "# 순열이랑 조합은 그냥 itertools module 쓸까..."
   ]
  },
  {
   "cell_type": "code",
   "execution_count": 61,
   "id": "67725dc4",
   "metadata": {},
   "outputs": [],
   "source": [
    "def permute_tool(nums):\n",
    "    return list(itertools.permutations(nums))\n",
    "\n",
    "def combine_tool(n,k):\n",
    "    return list(itertools.combinations(range(1,n+1),k))"
   ]
  },
  {
   "cell_type": "code",
   "execution_count": 62,
   "id": "fbb7c699",
   "metadata": {},
   "outputs": [
    {
     "data": {
      "text/plain": [
       "[(1, 2), (1, 3), (1, 4), (2, 3), (2, 4), (3, 4)]"
      ]
     },
     "execution_count": 62,
     "metadata": {},
     "output_type": "execute_result"
    }
   ],
   "source": [
    "nums = [1,2,3,4]\n",
    "permute(nums)\n",
    "combine(4,2)"
   ]
  },
  {
   "cell_type": "code",
   "execution_count": 48,
   "id": "dd1aa8a8",
   "metadata": {},
   "outputs": [
    {
     "name": "stdout",
     "output_type": "stream",
     "text": [
      "11730\n",
      "3시 15분 30초\n"
     ]
    }
   ],
   "source": []
  },
  {
   "cell_type": "code",
   "execution_count": null,
   "id": "c8618ae5",
   "metadata": {},
   "outputs": [],
   "source": []
  },
  {
   "cell_type": "code",
   "execution_count": 81,
   "id": "37ce160b",
   "metadata": {},
   "outputs": [],
   "source": [
    "def short_path(i,j):\n",
    "    count = -1\n",
    "    def knite(n,m):\n",
    "        nonlocal count\n",
    "        count +=1\n",
    "        if n>6 or n<0:\n",
    "            count -= 1\n",
    "            return \n",
    "        if m >6 or m<0:\n",
    "            count -= 1\n",
    "            return \n",
    "        if n == 6 and m == 0:\n",
    "            print(count)\n",
    "            return\n",
    "        while n == 6 and m == 0:\n",
    "            knite(n+2, m+1)\n",
    "            knite(n+2, m-1)\n",
    "            knite(n+1, m+2)\n",
    "            knite(n+1, m-2)\n",
    "    return knite(i,j)\n",
    "    \n",
    "    \n",
    "    "
   ]
  },
  {
   "cell_type": "code",
   "execution_count": 82,
   "id": "ba65f526",
   "metadata": {},
   "outputs": [],
   "source": [
    "short_path(0,0)"
   ]
  },
  {
   "cell_type": "code",
   "execution_count": null,
   "id": "ecd2a05c",
   "metadata": {},
   "outputs": [],
   "source": []
  },
  {
   "cell_type": "code",
   "execution_count": null,
   "id": "9c958d69",
   "metadata": {},
   "outputs": [],
   "source": []
  },
  {
   "cell_type": "code",
   "execution_count": null,
   "id": "9e0e09b5",
   "metadata": {},
   "outputs": [],
   "source": []
  },
  {
   "cell_type": "code",
   "execution_count": null,
   "id": "6f3aa073",
   "metadata": {},
   "outputs": [],
   "source": []
  }
 ],
 "metadata": {
  "kernelspec": {
   "display_name": "Python 3 (ipykernel)",
   "language": "python",
   "name": "python3"
  },
  "language_info": {
   "codemirror_mode": {
    "name": "ipython",
    "version": 3
   },
   "file_extension": ".py",
   "mimetype": "text/x-python",
   "name": "python",
   "nbconvert_exporter": "python",
   "pygments_lexer": "ipython3",
   "version": "3.11.5"
  }
 },
 "nbformat": 4,
 "nbformat_minor": 5
}
