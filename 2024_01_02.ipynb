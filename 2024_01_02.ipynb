{
 "cells": [
  {
   "cell_type": "code",
   "execution_count": null,
   "id": "dcf76c3a",
   "metadata": {},
   "outputs": [],
   "source": [
    "# range 대신에 enumerate\n",
    "# 여러 이터레이터에 대해 나란히 루프를 수행하려면 zip을 사용하라\n",
    "# for 나 while문 뒤에 else 블록 사용 X\n",
    "# 대입식, 왈러스 연산자\n"
   ]
  },
  {
   "cell_type": "markdown",
   "id": "c0a967f6",
   "metadata": {},
   "source": [
    "## range --> enumerate"
   ]
  },
  {
   "cell_type": "code",
   "execution_count": 17,
   "id": "36f2183e",
   "metadata": {},
   "outputs": [
    {
     "data": {
      "text/plain": [
       "[(1, 1), (2, 2), (3, 3), (4, 4), (5, 5), (6, 6), (7, 7)]"
      ]
     },
     "execution_count": 17,
     "metadata": {},
     "output_type": "execute_result"
    }
   ],
   "source": [
    "lst = [1,2,3,4,5,6,7]\n",
    "l1 = [(i+1,lst[i]) for i in range(len(lst))]\n",
    "l1"
   ]
  },
  {
   "cell_type": "code",
   "execution_count": 20,
   "id": "b778a502",
   "metadata": {},
   "outputs": [
    {
     "data": {
      "text/plain": [
       "[(1, 1), (2, 2), (3, 3), (4, 4), (5, 5), (6, 6), (7, 7)]"
      ]
     },
     "execution_count": 20,
     "metadata": {},
     "output_type": "execute_result"
    }
   ],
   "source": [
    "# 대신에 enumerate를 사용하게 되면\n",
    "l2 = [(i,x) for i,x in enumerate(lst,start = 1)]\n",
    "l3 = [i for i in range(len(lst))]"
   ]
  },
  {
   "cell_type": "code",
   "execution_count": 19,
   "id": "d126cba0",
   "metadata": {},
   "outputs": [],
   "source": [
    "# assert 사용법\n",
    "# assert [조건식], [메세지]\n",
    "# ㄴ 이런 식으로 \n",
    "assert l1 == l2, 'dkjf'"
   ]
  },
  {
   "cell_type": "code",
   "execution_count": 21,
   "id": "dd23679b",
   "metadata": {},
   "outputs": [
    {
     "name": "stdout",
     "output_type": "stream",
     "text": [
      "(0, 'b') (1, 'a') (2, 'n') (3, 'a') (4, 'n') (5, 'a') "
     ]
    }
   ],
   "source": [
    "# 문자열에 string을 대입하여 적용`\n",
    "dk = 'banana'\n",
    "for _ in enumerate(dk):\n",
    "    print(_, end = ' ')"
   ]
  },
  {
   "cell_type": "code",
   "execution_count": 29,
   "id": "30918803",
   "metadata": {},
   "outputs": [
    {
     "name": "stdout",
     "output_type": "stream",
     "text": [
      "(0, 'a') (1, 'b') (2, 'c') (3, 'd') (4, 'e') "
     ]
    }
   ],
   "source": [
    "dic = {'a':1, 'b':2, 'c':3,'d':4, 'e':5}\n",
    "for d in enumerate(dic):\n",
    "    print(d, end = ' ')\n",
    "# dic = {'a':1, 'b':2, 'c':3,'d':4, 'e':5}\n",
    "# for d,k in enumerate(dic):\n",
    "#     print((k,dic[k]), end = ' ')"
   ]
  },
  {
   "cell_type": "code",
   "execution_count": 30,
   "id": "0d6f51fa",
   "metadata": {},
   "outputs": [],
   "source": [
    "?enumerate"
   ]
  },
  {
   "cell_type": "code",
   "execution_count": 31,
   "id": "7cd6bd8b",
   "metadata": {},
   "outputs": [
    {
     "name": "stdout",
     "output_type": "stream",
     "text": [
      "1\n",
      "2\n",
      "3\n",
      "4\n"
     ]
    }
   ],
   "source": [
    "# iterable, iterator\n",
    "number_list = [1,2,3,4]\n",
    "for i in number_list:\n",
    "    print(i)"
   ]
  },
  {
   "cell_type": "code",
   "execution_count": 33,
   "id": "22a8523c",
   "metadata": {},
   "outputs": [
    {
     "data": {
      "text/plain": [
       "<list_iterator at 0x1c1c3c11e70>"
      ]
     },
     "execution_count": 33,
     "metadata": {},
     "output_type": "execute_result"
    }
   ],
   "source": [
    "number_list_iterator = number_list.__iter__()\n",
    "number_list_iterator"
   ]
  },
  {
   "cell_type": "code",
   "execution_count": 38,
   "id": "29eced4d",
   "metadata": {},
   "outputs": [
    {
     "ename": "StopIteration",
     "evalue": "",
     "output_type": "error",
     "traceback": [
      "\u001b[1;31m---------------------------------------------------------------------------\u001b[0m",
      "\u001b[1;31mStopIteration\u001b[0m                             Traceback (most recent call last)",
      "Cell \u001b[1;32mIn[38], line 1\u001b[0m\n\u001b[1;32m----> 1\u001b[0m number_list_iterator\u001b[38;5;241m.\u001b[39m\u001b[38;5;21m__next__\u001b[39m()\n",
      "\u001b[1;31mStopIteration\u001b[0m: "
     ]
    }
   ],
   "source": [
    "number_list_iterator.__next__()"
   ]
  },
  {
   "cell_type": "code",
   "execution_count": 52,
   "id": "a0f3f886",
   "metadata": {},
   "outputs": [],
   "source": [
    "# map, filter는 iterator를 출력함\n",
    "# so 리스트나 튜플로 바꾸지 않으면 iterator번호가 출력됨"
   ]
  },
  {
   "cell_type": "code",
   "execution_count": 51,
   "id": "fe9aeafb",
   "metadata": {},
   "outputs": [
    {
     "name": "stdout",
     "output_type": "stream",
     "text": [
      "<map object at 0x000001C1C3C128C0>\n",
      "[2, 4, 6, 8]\n"
     ]
    }
   ],
   "source": [
    "# map(function, iterable)\n",
    "# function 조건에 맞게 iterable을 mapping\n",
    "l1 = [1,2,3,4]\n",
    "print(map(lambda x:x*2, l1))\n",
    "print(list(map(lambda x:x*2, l1)))"
   ]
  },
  {
   "cell_type": "code",
   "execution_count": 44,
   "id": "9601a541",
   "metadata": {},
   "outputs": [
    {
     "name": "stdout",
     "output_type": "stream",
     "text": [
      "1,2\n",
      "1\n"
     ]
    }
   ],
   "source": [
    "a, b = map(int, input().split(','))\n",
    "print(a)"
   ]
  },
  {
   "cell_type": "code",
   "execution_count": 1,
   "id": "4fc8e87f",
   "metadata": {},
   "outputs": [],
   "source": [
    "?map"
   ]
  },
  {
   "cell_type": "code",
   "execution_count": 49,
   "id": "14cd9dd4",
   "metadata": {},
   "outputs": [
    {
     "name": "stdout",
     "output_type": "stream",
     "text": [
      "<filter object at 0x000001C1C3C16EF0>\n",
      "[2, 4, 6]\n"
     ]
    }
   ],
   "source": [
    "# filter(function, iterable)\n",
    "# function 조건에 맞게 iterable을 filter함\n",
    "l5 = [1,2,3,4,5,6]\n",
    "print(filter(lambda x:x%2 ==0, l5))\n",
    "print(list(filter(lambda x:x%2 ==0, l5)))"
   ]
  },
  {
   "cell_type": "markdown",
   "id": "9f07940e",
   "metadata": {},
   "source": [
    "## 여러 이터레이터에 대해 나란히 루프를 수행하려면 zip을 사용하라"
   ]
  },
  {
   "cell_type": "code",
   "execution_count": 54,
   "id": "6257532e",
   "metadata": {},
   "outputs": [],
   "source": [
    "number = [1,2,3]\n",
    "letters = ['a','b','c']"
   ]
  },
  {
   "cell_type": "code",
   "execution_count": 59,
   "id": "8cfbe316",
   "metadata": {},
   "outputs": [],
   "source": [
    "for i in range(len(number)):\n",
    "    case1 = list((number[i],letters[i]))\n",
    "for pair in zip(number, letters):\n",
    "    case2 = list(pair)\n",
    "\n",
    "assert case1 == case2"
   ]
  },
  {
   "cell_type": "code",
   "execution_count": 62,
   "id": "275c9004",
   "metadata": {},
   "outputs": [
    {
     "name": "stdout",
     "output_type": "stream",
     "text": [
      "[(1, 'a'), (2, 'b'), (3, 'c')]\n",
      "(1, 2, 3) ('a', 'b', 'c')\n"
     ]
    }
   ],
   "source": [
    "# unzip하는 과정\n",
    "pairs = list(zip(number, letters))\n",
    "print(pairs)\n",
    "a,b = zip(*pairs)\n",
    "print(a,b)"
   ]
  },
  {
   "cell_type": "code",
   "execution_count": 63,
   "id": "0dfb682e",
   "metadata": {},
   "outputs": [
    {
     "data": {
      "text/plain": [
       "{1: 'a', 2: 'b', 3: 'c'}"
      ]
     },
     "execution_count": 63,
     "metadata": {},
     "output_type": "execute_result"
    }
   ],
   "source": [
    "# 2개의 tuple을 dict로 변환\n",
    "dict(zip(number, letters))"
   ]
  },
  {
   "cell_type": "code",
   "execution_count": null,
   "id": "ed2a03ab",
   "metadata": {},
   "outputs": [],
   "source": []
  },
  {
   "cell_type": "code",
   "execution_count": null,
   "id": "0f47782a",
   "metadata": {},
   "outputs": [],
   "source": []
  },
  {
   "cell_type": "code",
   "execution_count": null,
   "id": "a4eb2687",
   "metadata": {},
   "outputs": [],
   "source": []
  },
  {
   "cell_type": "code",
   "execution_count": null,
   "id": "1974a0f8",
   "metadata": {},
   "outputs": [],
   "source": []
  },
  {
   "cell_type": "code",
   "execution_count": null,
   "id": "2d1b3655",
   "metadata": {},
   "outputs": [],
   "source": []
  }
 ],
 "metadata": {
  "kernelspec": {
   "display_name": "Python 3 (ipykernel)",
   "language": "python",
   "name": "python3"
  },
  "language_info": {
   "codemirror_mode": {
    "name": "ipython",
    "version": 3
   },
   "file_extension": ".py",
   "mimetype": "text/x-python",
   "name": "python",
   "nbconvert_exporter": "python",
   "pygments_lexer": "ipython3",
   "version": "3.11.5"
  }
 },
 "nbformat": 4,
 "nbformat_minor": 5
}
