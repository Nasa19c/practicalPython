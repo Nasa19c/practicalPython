{
 "cells": [
  {
   "cell_type": "code",
   "execution_count": 1,
   "id": "ee80ca20",
   "metadata": {},
   "outputs": [],
   "source": [
    "# 백준 12789\n",
    "# 완전 스택문제.."
   ]
  },
  {
   "cell_type": "code",
   "execution_count": 14,
   "id": "42a9c690",
   "metadata": {},
   "outputs": [
    {
     "name": "stdout",
     "output_type": "stream",
     "text": [
      "5 \n",
      "4 5 1 3 2\n",
      "Sad\n"
     ]
    }
   ],
   "source": [
    "# 첫번째 시도.,.\n",
    "a = int(input())\n",
    "lst = list(map(int, input().split()))\n",
    "rev_lst = list(reversed(lst))\n",
    "stack = []\n",
    "def snack(a,rev_lst): \n",
    "    for i in range(1,a+1):\n",
    "        k = rev_lst.pop()\n",
    "        if k==i:\n",
    "            continue\n",
    "        elif k != i and stack:\n",
    "            if stack[-1] ==i:\n",
    "                stack.pop()\n",
    "                continue\n",
    "        else:\n",
    "            return print('Sad')\n",
    "    return print('Nice')\n",
    "\n",
    "snack(a, rev_lst)"
   ]
  },
  {
   "cell_type": "code",
   "execution_count": 17,
   "id": "b5a27dca",
   "metadata": {},
   "outputs": [
    {
     "name": "stdout",
     "output_type": "stream",
     "text": [
      "5\n",
      "5 4 1 3 2\n",
      "Sad\n"
     ]
    }
   ],
   "source": [
    "# 두번째 시도 실패..\n",
    "a = int(input())\n",
    "lst = list(map(int, input().split()))\n",
    "rev_lst = list(reversed(lst))\n",
    "stack = []\n",
    "def snack(a, rev_lst):\n",
    "    for i in range(1,a+1):\n",
    "        while rev_lst:\n",
    "            k = rev_lst.pop()\n",
    "            if k == i:\n",
    "                break\n",
    "            if stack and stack[-1] == i:\n",
    "                stack.pop()\n",
    "                break\n",
    "            stack.append(k)\n",
    "    \n",
    "    if stack:\n",
    "        return print('Sad')\n",
    "    else:\n",
    "        return print('Nice')\n",
    "snack(a, rev_lst)"
   ]
  },
  {
   "cell_type": "code",
   "execution_count": 28,
   "id": "1779de1c",
   "metadata": {},
   "outputs": [
    {
     "name": "stdout",
     "output_type": "stream",
     "text": [
      "5 \n",
      "5 4 1 3 2\n",
      "Nice\n"
     ]
    }
   ],
   "source": [
    "# 세번째 시도 실패..\n",
    "a = int(input())\n",
    "lst = list(map(int, input().split()))\n",
    "rev_lst = list(reversed(lst))\n",
    "stack = []\n",
    "result = []\n",
    "def snack(a, rev_lst):\n",
    "    for i in range(1,a+1):\n",
    "        while rev_lst:\n",
    "            k = rev_lst.pop()\n",
    "            if k == i:\n",
    "                result.append(k)\n",
    "                break\n",
    "            if stack and stack[-1] == i:\n",
    "                s = stack.pop()\n",
    "                result.append(s)\n",
    "                break\n",
    "            stack.append(k)\n",
    "    \n",
    "    if result + list(reversed(stack)) != sorted(lst):\n",
    "        return print('Sad')\n",
    "    else:\n",
    "        return print('Nice')\n",
    "snack(a, rev_lst)"
   ]
  },
  {
   "cell_type": "code",
   "execution_count": null,
   "id": "40043c5b",
   "metadata": {},
   "outputs": [],
   "source": []
  },
  {
   "cell_type": "code",
   "execution_count": null,
   "id": "b70cbf7c",
   "metadata": {},
   "outputs": [],
   "source": [
    "# 백준 11478\n",
    "# 순열을 만드는 "
   ]
  },
  {
   "cell_type": "code",
   "execution_count": 26,
   "id": "00f5b36f",
   "metadata": {},
   "outputs": [
    {
     "name": "stdout",
     "output_type": "stream",
     "text": [
      "ababc\n"
     ]
    },
    {
     "data": {
      "text/plain": [
       "{'a', 'ab', 'aba', 'abab', 'ababc', 'abc', 'b', 'ba', 'bab', 'babc', 'bc', 'c'}"
      ]
     },
     "execution_count": 26,
     "metadata": {},
     "output_type": "execute_result"
    }
   ],
   "source": [
    "# time complexity가 너무 많게 나올수 밖에 없는 코드..\n",
    "# 이거 말고 다른 방법은 많을 거같은데 생각이가 안나네..\n",
    "k = input()\n",
    "lst = []\n",
    "for i in range(1,len(k)+1):\n",
    "    for x in range(len(k) - i+1): \n",
    "        lst.append(k[x:x+i])\n",
    "print(len(set(lst)))"
   ]
  },
  {
   "cell_type": "code",
   "execution_count": 23,
   "id": "4a6ea406",
   "metadata": {},
   "outputs": [
    {
     "data": {
      "text/plain": [
       "'dk'"
      ]
     },
     "execution_count": 23,
     "metadata": {},
     "output_type": "execute_result"
    }
   ],
   "source": [
    "a = 'dkfjk'\n",
    "a[0:2]"
   ]
  },
  {
   "cell_type": "code",
   "execution_count": null,
   "id": "a14a6adc",
   "metadata": {},
   "outputs": [],
   "source": [
    "s = input() \n",
    "total = set()\n",
    "for i in range(len(s)):\n",
    "    for j in range(i, len(s)):\n",
    "        total.add(s[i:j+1])\n",
    "print(len(total))"
   ]
  },
  {
   "cell_type": "code",
   "execution_count": null,
   "id": "b0e11a39",
   "metadata": {},
   "outputs": [],
   "source": [
    "# 두번째 for문에서 range의 범위를 첫번째 for 문의 i 부터 시작하면 되겠네.. "
   ]
  },
  {
   "cell_type": "code",
   "execution_count": null,
   "id": "2903170f",
   "metadata": {},
   "outputs": [],
   "source": []
  },
  {
   "cell_type": "code",
   "execution_count": 29,
   "id": "5e603305",
   "metadata": {},
   "outputs": [],
   "source": [
    "# 파이썬 알고리즘 인터뷰\n",
    "# leetcode 23"
   ]
  },
  {
   "cell_type": "code",
   "execution_count": 41,
   "id": "634495a4",
   "metadata": {},
   "outputs": [],
   "source": [
    "# leetcode 46 permutations"
   ]
  },
  {
   "cell_type": "code",
   "execution_count": 47,
   "id": "15a641a8",
   "metadata": {},
   "outputs": [
    {
     "data": {
      "text/plain": [
       "[(1, 2, 3), (1, 3, 2), (2, 1, 3), (2, 3, 1), (3, 1, 2), (3, 2, 1)]"
      ]
     },
     "execution_count": 47,
     "metadata": {},
     "output_type": "execute_result"
    }
   ],
   "source": [
    "# itertools에 permutations랑 combinations가 함수화 되어있음\n",
    "import itertools\n",
    "list(itertools.permutations([1,2,3]))"
   ]
  },
  {
   "cell_type": "code",
   "execution_count": 48,
   "id": "602d6f5c",
   "metadata": {},
   "outputs": [],
   "source": [
    "# dfs로 풀게 된다면..??\n",
    "# 아 생각하는거 너무 힘들다 구조가 아직 안익숙해서 그런가.. "
   ]
  },
  {
   "cell_type": "code",
   "execution_count": 10,
   "id": "ad80decc",
   "metadata": {},
   "outputs": [],
   "source": [
    "def permute(nums):\n",
    "    results = []\n",
    "    prev_elements = []\n",
    "    \n",
    "    def dfs(elements):\n",
    "        if len(elements) == 0:\n",
    "            results.append(prev_elements[:])\n",
    "        \n",
    "        for e in elements:\n",
    "            next_elements = elements[:]\n",
    "            next_elements.remove(e)\n",
    "            \n",
    "            prev_elements.append(e)\n",
    "            dfs(next_elements)\n",
    "            prev_elements.pop()\n",
    "    dfs(nums)\n",
    "    return results"
   ]
  },
  {
   "cell_type": "code",
   "execution_count": 11,
   "id": "57a3e68f",
   "metadata": {},
   "outputs": [
    {
     "data": {
      "text/plain": [
       "[[1, 2, 3], [1, 3, 2], [2, 1, 3], [2, 3, 1], [3, 1, 2], [3, 2, 1]]"
      ]
     },
     "execution_count": 11,
     "metadata": {},
     "output_type": "execute_result"
    }
   ],
   "source": [
    "permute([1,2,3])"
   ]
  },
  {
   "cell_type": "code",
   "execution_count": null,
   "id": "c71f5722",
   "metadata": {},
   "outputs": [],
   "source": [
    "# 리스트에서 제거했다가 다시 넣다가 하는 방식은 맞았네.. \n",
    "# 어떻게 순서를 짜고 그 뒤의 반복되는 재귀구조를 고려해서 코드를 짜야하는지를 모르겠어.."
   ]
  },
  {
   "cell_type": "code",
   "execution_count": 1,
   "id": "acee4d20",
   "metadata": {},
   "outputs": [],
   "source": [
    "import itertools"
   ]
  },
  {
   "cell_type": "code",
   "execution_count": 3,
   "id": "fdc7a665",
   "metadata": {},
   "outputs": [
    {
     "data": {
      "text/plain": [
       "[(1, 2, 3), (1, 3, 2), (2, 1, 3), (2, 3, 1), (3, 1, 2), (3, 2, 1)]"
      ]
     },
     "execution_count": 3,
     "metadata": {},
     "output_type": "execute_result"
    }
   ],
   "source": [
    "list(itertools.permutations([1,2,3]))"
   ]
  },
  {
   "cell_type": "code",
   "execution_count": 46,
   "id": "1edea8db",
   "metadata": {},
   "outputs": [],
   "source": [
    "# leetcode 77 combinations"
   ]
  },
  {
   "cell_type": "code",
   "execution_count": 20,
   "id": "b674b6b4",
   "metadata": {},
   "outputs": [],
   "source": [
    "def comb(n,k):\n",
    "    result = []\n",
    "    \n",
    "    def dfs(elements, start, k):\n",
    "        if k ==0:\n",
    "            result.append(elements[:])\n",
    "            return\n",
    "        \n",
    "        for i in range(start,n+1):\n",
    "            elements.append(i)\n",
    "            dfs(elements,i+1, k-1)\n",
    "            elements.pop()\n",
    "    \n",
    "    dfs([],1,k)\n",
    "    return result\n",
    "    "
   ]
  },
  {
   "cell_type": "code",
   "execution_count": 22,
   "id": "a7160d1f",
   "metadata": {},
   "outputs": [
    {
     "data": {
      "text/plain": [
       "[(1, 2), (1, 3), (1, 4), (2, 3), (2, 4), (3, 4)]"
      ]
     },
     "execution_count": 22,
     "metadata": {},
     "output_type": "execute_result"
    }
   ],
   "source": [
    "list(itertools.combinations([1,2,3,4],2))"
   ]
  },
  {
   "cell_type": "code",
   "execution_count": null,
   "id": "8d051130",
   "metadata": {},
   "outputs": [],
   "source": []
  }
 ],
 "metadata": {
  "kernelspec": {
   "display_name": "Python 3 (ipykernel)",
   "language": "python",
   "name": "python3"
  },
  "language_info": {
   "codemirror_mode": {
    "name": "ipython",
    "version": 3
   },
   "file_extension": ".py",
   "mimetype": "text/x-python",
   "name": "python",
   "nbconvert_exporter": "python",
   "pygments_lexer": "ipython3",
   "version": "3.11.5"
  }
 },
 "nbformat": 4,
 "nbformat_minor": 5
}
