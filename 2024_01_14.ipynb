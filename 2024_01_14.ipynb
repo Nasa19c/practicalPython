{
 "cells": [
  {
   "cell_type": "code",
   "execution_count": 1,
   "id": "12a8717f",
   "metadata": {},
   "outputs": [],
   "source": [
    "# 일주일치 복습"
   ]
  },
  {
   "cell_type": "code",
   "execution_count": 3,
   "id": "f7ed6d39",
   "metadata": {},
   "outputs": [
    {
     "name": "stdout",
     "output_type": "stream",
     "text": [
      "[(1, 2), (1, 3), (1, 4), (2, 3), (2, 4), (3, 4)]\n"
     ]
    }
   ],
   "source": [
    "# combinations itertools 사용\n",
    "from itertools import combinations\n",
    "def comb_tools(n,k):\n",
    "    return combinations(range(1, n+1), k)\n",
    "print(list(comb_tools(4,2)))"
   ]
  },
  {
   "cell_type": "code",
   "execution_count": 4,
   "id": "56a28646",
   "metadata": {},
   "outputs": [
    {
     "name": "stdout",
     "output_type": "stream",
     "text": [
      "5 21\n",
      "5 6 7 8 9\n"
     ]
    }
   ],
   "source": [
    "n,m = map(int, input().split())\n",
    "a = list(map(int, input().split()))"
   ]
  },
  {
   "cell_type": "code",
   "execution_count": 15,
   "id": "7a4556e5",
   "metadata": {},
   "outputs": [
    {
     "data": {
      "text/plain": [
       "21"
      ]
     },
     "execution_count": 15,
     "metadata": {},
     "output_type": "execute_result"
    }
   ],
   "source": [
    "combi_sum = [sum(combi) for combi in combinations(a,3) if sum(combi) <= m]\n",
    "max(combi_sum)"
   ]
  },
  {
   "cell_type": "code",
   "execution_count": null,
   "id": "577c660a",
   "metadata": {},
   "outputs": [],
   "source": [
    "a_sort = sorted(a)\n",
    "max_sum = 0\n",
    "for k,x in enumerate(a_sort):\n",
    "    i = k+1\n",
    "    j = n-1\n",
    "\n",
    "    while i<j:\n",
    "        crnt = x + a_sort[i] + a_sort[j]\n",
    "        if crnt > m:\n",
    "            j -= 1\n",
    "        else:\n",
    "            max_sum = max(crnt, max_sum)\n",
    "            i+=1\n",
    "print(max_sum)\n",
    "        \n",
    "            "
   ]
  },
  {
   "cell_type": "code",
   "execution_count": null,
   "id": "8b57da9b",
   "metadata": {},
   "outputs": [],
   "source": []
  },
  {
   "cell_type": "code",
   "execution_count": null,
   "id": "50fc8913",
   "metadata": {},
   "outputs": [],
   "source": []
  },
  {
   "cell_type": "code",
   "execution_count": null,
   "id": "dfa45484",
   "metadata": {},
   "outputs": [],
   "source": []
  },
  {
   "cell_type": "code",
   "execution_count": null,
   "id": "f8d0d38c",
   "metadata": {},
   "outputs": [],
   "source": []
  },
  {
   "cell_type": "code",
   "execution_count": null,
   "id": "a867f726",
   "metadata": {},
   "outputs": [],
   "source": []
  },
  {
   "cell_type": "code",
   "execution_count": null,
   "id": "a39398af",
   "metadata": {},
   "outputs": [],
   "source": []
  }
 ],
 "metadata": {
  "kernelspec": {
   "display_name": "Python 3 (ipykernel)",
   "language": "python",
   "name": "python3"
  },
  "language_info": {
   "codemirror_mode": {
    "name": "ipython",
    "version": 3
   },
   "file_extension": ".py",
   "mimetype": "text/x-python",
   "name": "python",
   "nbconvert_exporter": "python",
   "pygments_lexer": "ipython3",
   "version": "3.11.5"
  }
 },
 "nbformat": 4,
 "nbformat_minor": 5
}
